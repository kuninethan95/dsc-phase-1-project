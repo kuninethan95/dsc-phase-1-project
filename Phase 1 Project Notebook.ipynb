{
 "cells": [
  {
   "cell_type": "markdown",
   "metadata": {},
   "source": [
    "#  Final Project Submission\n",
    "Please fill out:\n",
    "\n",
    "- Student name: Ethan Kunin\n",
    "- Student pace: Full Time\n",
    "- Scheduled project review date/time: March\n",
    "- Instructor name: James Irving\n",
    "- Blog post URL: https://github.com/kuninethan95/dsc-phase-1-project"
   ]
  },
  {
   "cell_type": "code",
   "execution_count": null,
   "metadata": {},
   "outputs": [],
   "source": [
    "# import necessary libraries and packages\n",
    "\n",
    "import os,glob\n",
    "import pandas as pd\n",
    "import numpy as np\n",
    "import matplotlib.pyplot as plt\n",
    "import matplotlib as mpl\n",
    "import seaborn as sns"
   ]
  },
  {
   "cell_type": "code",
   "execution_count": null,
   "metadata": {},
   "outputs": [],
   "source": [
    "# display where the data is contained\n",
    "\n",
    "folder = \"/Users/ethankunin/Documents/Flatiron/Phase_1/Movie_Project1/dsc-phase-1-project/zippedData/\"\n",
    "os.listdir(folder)"
   ]
  },
  {
   "cell_type": "code",
   "execution_count": null,
   "metadata": {},
   "outputs": [],
   "source": [
    "files = glob.glob(f\"{folder}*.csv*\")"
   ]
  },
  {
   "cell_type": "code",
   "execution_count": null,
   "metadata": {},
   "outputs": [],
   "source": [
    "# Load in files and display preview\n",
    "\n",
    "tables = {}\n",
    "dashes='---'*25\n",
    "\n",
    "for file in files:\n",
    "    ## Save a variable-friendly version of the file name\n",
    "    table_name = file.replace('.csv.gz','').split('/')[-1].replace('.','_')\n",
    "    print(dashes)\n",
    "    \n",
    "    ## Load and preview dataframe\n",
    "    print(f\"Preview of {table_name}\")\n",
    "    tables[table_name] = pd.read_csv(file)\n",
    "    display(tables[table_name].head(5))\n",
    "    print()"
   ]
  },
  {
   "cell_type": "markdown",
   "metadata": {},
   "source": [
    "# Description of each table with unique identifiers\n",
    "\n",
    "- imdb_title_crew: id's to link crew members with titles\n",
    "\n",
    "- tmdb_movies - titles and stats from IMDB\n",
    "\n",
    "- imdb_title_akas - link between id and movie title\n",
    "\n",
    "- imdb_title_ratings - link between title and IMDB ratings\n",
    "\n",
    "- imdb_name_basics - name of cast member and id\n",
    "\n",
    "- imdb_title_basics - movie title, id, and runtime\n",
    "\n",
    "- tn_movie_budgets - movie title, release date, and earnings/costs\n",
    "\n",
    "- bom_movie_gross - movie title, studio, and earnings\n",
    "\n",
    "- imdb_title_principals - link between movie title and cast cast id"
   ]
  },
  {
   "cell_type": "code",
   "execution_count": null,
   "metadata": {},
   "outputs": [],
   "source": [
    "# Link each file to a Pandas dataframe\n",
    "\n",
    "filepath0 = files[0]\n",
    "imdb_title_crew = pd.read_csv(filepath0)"
   ]
  },
  {
   "cell_type": "code",
   "execution_count": null,
   "metadata": {},
   "outputs": [],
   "source": [
    "filepath1 = files[1]\n",
    "tmdb_movies = pd.read_csv(filepath1)"
   ]
  },
  {
   "cell_type": "code",
   "execution_count": null,
   "metadata": {},
   "outputs": [],
   "source": [
    "filepath2 = files[2]\n",
    "imdb_title_akas = pd.read_csv(filepath2)"
   ]
  },
  {
   "cell_type": "code",
   "execution_count": null,
   "metadata": {},
   "outputs": [],
   "source": [
    "filepath3 = files[3]\n",
    "imdb_title_ratings = pd.read_csv(filepath3)"
   ]
  },
  {
   "cell_type": "code",
   "execution_count": null,
   "metadata": {},
   "outputs": [],
   "source": [
    "filepath4 = files[4]\n",
    "imdb_name_basics = pd.read_csv(filepath4)"
   ]
  },
  {
   "cell_type": "code",
   "execution_count": null,
   "metadata": {},
   "outputs": [],
   "source": [
    "filepath5 = files[5]\n",
    "imdb_title_basics = pd.read_csv(filepath5)"
   ]
  },
  {
   "cell_type": "code",
   "execution_count": null,
   "metadata": {},
   "outputs": [],
   "source": [
    "filepath6 = files[6]\n",
    "tn_movie_budgets = pd.read_csv(filepath6)"
   ]
  },
  {
   "cell_type": "code",
   "execution_count": null,
   "metadata": {},
   "outputs": [],
   "source": [
    "filepath7 = files[7]\n",
    "bom_movie_gross = pd.read_csv(filepath7)"
   ]
  },
  {
   "cell_type": "code",
   "execution_count": null,
   "metadata": {},
   "outputs": [],
   "source": [
    "filepath8 = files[8]\n",
    "imdb_title_principals = pd.read_csv(filepath8)"
   ]
  },
  {
   "cell_type": "markdown",
   "metadata": {},
   "source": [
    "# Analyze how runtime impacts revenue"
   ]
  },
  {
   "cell_type": "code",
   "execution_count": null,
   "metadata": {},
   "outputs": [],
   "source": [
    "# Merge movie budgets/earnings with titles to display runtime\n",
    "\n",
    "movie_rt = tn_movie_budgets.merge(imdb_title_basics, left_on='movie', right_on='primary_title', how='inner')"
   ]
  },
  {
   "cell_type": "code",
   "execution_count": null,
   "metadata": {},
   "outputs": [],
   "source": [
    "movie_rt.head()"
   ]
  },
  {
   "cell_type": "code",
   "execution_count": null,
   "metadata": {},
   "outputs": [],
   "source": [
    "movie_rt.info()\n",
    "\n",
    "# Going to have to turn production_budget/domestic_gross/worldwide_gross into integers\n",
    "# Only column with significant null values is runtime_minutues, may account for this by imputing the median"
   ]
  },
  {
   "cell_type": "markdown",
   "metadata": {},
   "source": [
    "## Clean Data\n",
    "- Sort for commercial release by only including films with production_budgets > $20,000000\n",
    "- Only use movies from 2010 onwards\n",
    "- Convert production_budget/domestic_gross/worldwide_gross into integers\n",
    "- Impute runtime_minutes with either mean/median\n",
    "- Check for outliers\n",
    "- Feature engineer short/medium/long\n",
    "- Drop unnecessary columns"
   ]
  },
  {
   "cell_type": "code",
   "execution_count": null,
   "metadata": {},
   "outputs": [],
   "source": [
    "def col_to_int(df, colm):\n",
    "    df[colm] = df[colm].map(lambda x: x.replace('$', '')).map(lambda x: x.replace(',', '')).astype('int')\n",
    "    return df"
   ]
  },
  {
   "cell_type": "code",
   "execution_count": null,
   "metadata": {},
   "outputs": [],
   "source": [
    "col_to_int(movie_rt, 'production_budget')"
   ]
  },
  {
   "cell_type": "code",
   "execution_count": null,
   "metadata": {},
   "outputs": [],
   "source": [
    "col_to_int(movie_rt, 'domestic_gross')"
   ]
  },
  {
   "cell_type": "code",
   "execution_count": null,
   "metadata": {},
   "outputs": [],
   "source": [
    "col_to_int(movie_rt, 'worldwide_gross')"
   ]
  },
  {
   "cell_type": "code",
   "execution_count": null,
   "metadata": {},
   "outputs": [],
   "source": [
    "# Filter out movies with production budgets under $20,000,000\n",
    "movie_rt = movie_rt.loc[movie_rt['production_budget'] > 20000000]"
   ]
  },
  {
   "cell_type": "code",
   "execution_count": null,
   "metadata": {},
   "outputs": [],
   "source": [
    "# Feature Engineer year column. Not going to use DateTime yet because will want to engineer a seasonal column\n",
    "# Convert year into an int\n",
    "movie_rt['year'] = movie_rt['release_date'].map(lambda x: x[-4:])\n",
    "movie_rt['year'] = movie_rt['year'].astype('int')"
   ]
  },
  {
   "cell_type": "code",
   "execution_count": null,
   "metadata": {},
   "outputs": [],
   "source": [
    "# Slice out movies from before 2010\n",
    "movie_rt = movie_rt[movie_rt['year'] > 2010]"
   ]
  },
  {
   "cell_type": "code",
   "execution_count": null,
   "metadata": {},
   "outputs": [],
   "source": [
    "# We have 8.2% of movies with null runtime_minutes\n",
    "(movie_rt['runtime_minutes'].isna().sum())/len(movie_rt)* 100"
   ]
  },
  {
   "cell_type": "code",
   "execution_count": null,
   "metadata": {},
   "outputs": [],
   "source": [
    "# Check for duplicates\n",
    "# 298 duplicates, upon inspection doesn't look like there's a reason other than inner join\n",
    "#Drop if they contain the same movie, release date\n",
    "movie_rt[movie_rt.duplicated(subset=['movie', 'release_date'])]\n",
    "movie_rt.duplicated(subset=['movie', 'release_date']).sum()\n",
    "movie_rt.drop"
   ]
  },
  {
   "cell_type": "code",
   "execution_count": null,
   "metadata": {},
   "outputs": [],
   "source": [
    "# Clear out movies with runtimes under 80 minutes\n",
    "#https://screenwriting.io/what-is-a-feature-film/#:~:text=A%20modern%20feature%20is%20typically,than%2040%20minutes%20a%20feature.\n",
    "movie_rt = movie_rt[(movie_rt['runtime_minutes'] > 80) & (movie_rt['runtime_minutes'] < 180)]"
   ]
  },
  {
   "cell_type": "code",
   "execution_count": null,
   "metadata": {},
   "outputs": [],
   "source": [
    "movie_rt.isna().sum()"
   ]
  },
  {
   "cell_type": "code",
   "execution_count": null,
   "metadata": {},
   "outputs": [],
   "source": [
    "np.quantile(movie_rt['runtime_minutes'], 0.66)"
   ]
  },
  {
   "cell_type": "code",
   "execution_count": null,
   "metadata": {},
   "outputs": [],
   "source": [
    "#Now we check again for null values\n",
    "\n",
    "(movie_rt['runtime_minutes'].isna().sum())/len(movie_rt)* 100"
   ]
  },
  {
   "cell_type": "code",
   "execution_count": null,
   "metadata": {},
   "outputs": [],
   "source": [
    "# Categorize movie lenght by duration\n",
    "# Use .33 and 0.66 quintile to distinguish lenght\n",
    "\n",
    "def length(mins):\n",
    "    if mins < 100:\n",
    "        return 'short'\n",
    "    elif mins < 120:\n",
    "        return 'medium'\n",
    "    else:\n",
    "        return 'long'"
   ]
  },
  {
   "cell_type": "code",
   "execution_count": null,
   "metadata": {},
   "outputs": [],
   "source": [
    "movie_rt['duration'] = movie_rt['runtime_minutes'].map(length)"
   ]
  },
  {
   "cell_type": "code",
   "execution_count": null,
   "metadata": {},
   "outputs": [],
   "source": [
    "# Most movies fall into the short category, then medium, then long\n",
    "movie_rt.groupby('duration').count()"
   ]
  },
  {
   "cell_type": "markdown",
   "metadata": {},
   "source": [
    "### Visualization A: Create boxplot to illustrate how runtime impacts revenue"
   ]
  },
  {
   "cell_type": "code",
   "execution_count": null,
   "metadata": {},
   "outputs": [],
   "source": [
    "fig, ax = plt.subplots(figsize=(8, 6))\n",
    "ax = sns.boxplot(x='duration', y='worldwide_gross', data=movie_rt)\n",
    "ax.set_ylim(5000000, 1200000000)\n",
    "ax.set_title('Movie Gross Based on Duration')\n",
    "ax.set_ylabel('Worldwide Gross (millions)')\n",
    "ax.set_xlabel('Duration')\n",
    "ax.set_yticklabels(y_labs)\n",
    "\n",
    "#x_labs = ['80-100 mins', '100-120 mins', '120-180 mins']\n",
    "y_labs = ['$200', '$400', '$600', '$800', '$1,000', '$1,200']\n",
    "\n",
    "\n",
    "ax.set_xticklabels(x_labs);"
   ]
  },
  {
   "cell_type": "markdown",
   "metadata": {},
   "source": [
    "### Visualization B: Create linear regression plot to illustrate how runtime impacts revenue"
   ]
  },
  {
   "cell_type": "code",
   "execution_count": null,
   "metadata": {},
   "outputs": [],
   "source": [
    "fig, ax = plt.subplots(figsize=(8, 6))\n",
    "ax = sns.regplot(x='runtime_minutes', y='worldwide_gross', data=movie_rt)\n",
    "\n",
    "ax.set_ylim(10000000, 2000000000)\n",
    "\n",
    "ax.set_title('Movie Gross Based on Duration')\n",
    "ax.set_ylabel('Worldwide Gross (millions)')\n",
    "ax.set_xlabel('Minutes')\n",
    "ax.axvline(x=100, color='cornflowerblue', linestyle='solid', label='short', alpha=0.5)\n",
    "ax.axvline(x=120, color='cornflowerblue', linestyle='solid', label='medium', alpha=0.5)\n",
    "\n",
    "y_labs = ['$250', '$500', '$750', '$1000', '$1,250', '$1,500', '$1,750', '$2,000']\n",
    "ax.set_yticklabels(y_labs)\n",
    "\n",
    "ax.legend();"
   ]
  },
  {
   "cell_type": "markdown",
   "metadata": {},
   "source": [
    "# Analyze which directors generate the highest revenue\n",
    "- Create table that links director movie\n",
    "- Table that shows top directors by total revenue & average revenue\n",
    "- Hue to show profitable/vs non-profitable on scatter plot of top 20 directors"
   ]
  },
  {
   "cell_type": "code",
   "execution_count": null,
   "metadata": {},
   "outputs": [],
   "source": [
    "# Merge to create table that shows primary name with nconst/tconst id\n",
    "\n",
    "name_titles = imdb_name_basics.merge(imdb_title_principals, how='left', on='nconst')\n",
    "name_titles.head()"
   ]
  },
  {
   "cell_type": "code",
   "execution_count": null,
   "metadata": {},
   "outputs": [],
   "source": [
    "#Merge to create table that shows primary name and job function\n",
    "\n",
    "names_movies = imdb_title_akas.merge(name_titles, how='inner', left_on='title_id', right_on='tconst')\n"
   ]
  },
  {
   "cell_type": "markdown",
   "metadata": {},
   "source": [
    "## Clean Data\n",
    "- Sort for only directors and US verion of movies\n",
    "- Handle duplicates\n",
    "- Handle null values"
   ]
  },
  {
   "cell_type": "code",
   "execution_count": null,
   "metadata": {},
   "outputs": [],
   "source": [
    "# Filter out non-directors\n",
    "\n",
    "names_movies = names_movies[names_movies['category'] == 'director']"
   ]
  },
  {
   "cell_type": "code",
   "execution_count": null,
   "metadata": {},
   "outputs": [],
   "source": [
    "# Sort such that we are only showing the American version use 'US'\n",
    "\n",
    "names_movies = names_movies[names_movies['region'] == 'US']"
   ]
  },
  {
   "cell_type": "code",
   "execution_count": null,
   "metadata": {},
   "outputs": [],
   "source": [
    "# Filter out directors who are no longer alive\n",
    "\n",
    "names_movies = names_movies[names_movies['death_year'].isna()]\n",
    "names_movies.head()"
   ]
  },
  {
   "cell_type": "code",
   "execution_count": null,
   "metadata": {},
   "outputs": [],
   "source": [
    "# Merge to create table that shows primary name and movie\n",
    "\n",
    "movie_direct = movie_rt.merge(names_movies, how='left', left_on='movie', right_on='title')"
   ]
  },
  {
   "cell_type": "code",
   "execution_count": null,
   "metadata": {},
   "outputs": [],
   "source": [
    "movie_direct.columns\n",
    "cols_to_remove = ['original_title', 'runtime_minutes', 'genres', 'year', 'duration', 'title_id', \n",
    "                  'title', 'types','nconst','primary_profession', 'known_for_titles',\n",
    "                  'tconst_y', 'category', 'job', 'primary_title', 'start_year', 'ordering_x', 'attributes',\n",
    "                   'language', 'is_original_title', 'ordering_y', 'characters']"
   ]
  },
  {
   "cell_type": "code",
   "execution_count": null,
   "metadata": {},
   "outputs": [],
   "source": [
    "movie_direct = movie_direct.drop(columns=(cols_to_remove))"
   ]
  },
  {
   "cell_type": "code",
   "execution_count": null,
   "metadata": {},
   "outputs": [],
   "source": [
    "# Check for duplicates from merge\n",
    "(movie_direct.duplicated(subset=['release_date', 'movie'])).sum()"
   ]
  },
  {
   "cell_type": "code",
   "execution_count": null,
   "metadata": {},
   "outputs": [],
   "source": [
    "movie_direct = movie_direct.drop_duplicates(subset=['release_date', 'movie'])"
   ]
  },
  {
   "cell_type": "code",
   "execution_count": null,
   "metadata": {},
   "outputs": [],
   "source": [
    "# Remove null values\n",
    "\n",
    "movie_direct[movie_direct['primary_name'].isna()]"
   ]
  },
  {
   "cell_type": "code",
   "execution_count": null,
   "metadata": {},
   "outputs": [],
   "source": [
    "movie_direct = movie_direct.dropna(axis=0, subset=['primary_name'])"
   ]
  },
  {
   "cell_type": "code",
   "execution_count": null,
   "metadata": {},
   "outputs": [],
   "source": [
    "movie_direct.head()"
   ]
  },
  {
   "cell_type": "markdown",
   "metadata": {},
   "source": [
    "## Analyze Top Directors\n",
    "- Groupby sum/mean of domestic/worlwide gross\n",
    "- Feature engineer T/F of profitable/unprofitable for scatter plot"
   ]
  },
  {
   "cell_type": "code",
   "execution_count": null,
   "metadata": {},
   "outputs": [],
   "source": [
    "# Prepare plots by grouping by top 20 director name, type of gross, mean and sum\n",
    "\n",
    "tp_dgmean = movie_direct.groupby('primary_name')['domestic_gross'].mean().sort_values().nlargest(20).reset_index()"
   ]
  },
  {
   "cell_type": "code",
   "execution_count": null,
   "metadata": {},
   "outputs": [],
   "source": [
    "tp_dgsum = movie_direct.groupby('primary_name')['domestic_gross'].sum().sort_values().nlargest(20).reset_index()"
   ]
  },
  {
   "cell_type": "code",
   "execution_count": null,
   "metadata": {},
   "outputs": [],
   "source": [
    "tp_wgmean = movie_direct.groupby('primary_name')['worldwide_gross'].mean().sort_values().nlargest(20).reset_index()"
   ]
  },
  {
   "cell_type": "code",
   "execution_count": null,
   "metadata": {},
   "outputs": [],
   "source": [
    "tp_wgsum = movie_direct.groupby('primary_name')['worldwide_gross'].sum().sort_values().nlargest(20).reset_index()"
   ]
  },
  {
   "cell_type": "code",
   "execution_count": 265,
   "metadata": {},
   "outputs": [
    {
     "data": {
      "text/plain": [
       "['Joe Russo',\n",
       " 'Peter Jackson',\n",
       " 'Joss Whedon',\n",
       " 'Michael Bay',\n",
       " 'Francis Lawrence',\n",
       " 'Zack Snyder',\n",
       " 'Kyle Balda',\n",
       " 'Steven Spielberg',\n",
       " 'Colin Trevorrow',\n",
       " 'Gareth Edwards',\n",
       " 'James Wan',\n",
       " 'Bryan Singer',\n",
       " 'David F. Sandberg',\n",
       " 'J.A. Bayona',\n",
       " 'Marc Webb',\n",
       " 'David Yates',\n",
       " 'Brad Bird',\n",
       " 'F. Gary Gray',\n",
       " 'Shane Black',\n",
       " 'Rob Marshall']"
      ]
     },
     "execution_count": 265,
     "metadata": {},
     "output_type": "execute_result"
    }
   ],
   "source": [
    "# Create list of top 20 directors by worldwide gross\n",
    "\n",
    "list(tp_wgsum['primary_name'])"
   ]
  },
  {
   "cell_type": "code",
   "execution_count": null,
   "metadata": {},
   "outputs": [],
   "source": [
    "# Group table into top 20 directors and determine how profitable they are\n",
    "# Profit column for absolute\n",
    "# Ptf for was the movie profitable or not (domestic/worldwide)\n",
    "# Pmarg for profit margin\n",
    "dftd = movie_direct[movie_direct['primary_name'].isin(td)]"
   ]
  },
  {
   "cell_type": "code",
   "execution_count": 277,
   "metadata": {},
   "outputs": [],
   "source": [
    "dftd2 = dftd.copy()"
   ]
  },
  {
   "cell_type": "code",
   "execution_count": 278,
   "metadata": {},
   "outputs": [],
   "source": [
    "dftd2['profit'] = dftd2['worldwide_gross'] - dftd2['production_budget']"
   ]
  },
  {
   "cell_type": "code",
   "execution_count": 308,
   "metadata": {},
   "outputs": [],
   "source": [
    "def profitable(num):\n",
    "    if num > 0:\n",
    "        return True\n",
    "    elif num < 0:\n",
    "        return False"
   ]
  },
  {
   "cell_type": "code",
   "execution_count": 292,
   "metadata": {},
   "outputs": [],
   "source": [
    "dftd2['pwtf'] = dftd2['profit'].map(profitable)"
   ]
  },
  {
   "cell_type": "code",
   "execution_count": 294,
   "metadata": {},
   "outputs": [],
   "source": [
    "dftd2['pmarg'] = (dftd2['worldwide_gross'] - dftd2['domestic_gross'])/(dftd2['worldwide_gross']) * 100"
   ]
  },
  {
   "cell_type": "code",
   "execution_count": 298,
   "metadata": {},
   "outputs": [],
   "source": [
    "dftd2 = dftd2.drop(columns=['pdtf', 'pgtf'])"
   ]
  },
  {
   "cell_type": "code",
   "execution_count": 300,
   "metadata": {},
   "outputs": [],
   "source": [
    "dftd2['profitdom'] = dftd2['domestic_gross'] - dftd2['production_budget']"
   ]
  },
  {
   "cell_type": "code",
   "execution_count": 309,
   "metadata": {},
   "outputs": [],
   "source": [
    "dftd2['pdtf'] = dftd2['profitdom'].map(profitable)"
   ]
  },
  {
   "cell_type": "code",
   "execution_count": 311,
   "metadata": {},
   "outputs": [
    {
     "data": {
      "text/html": [
       "<div>\n",
       "<style scoped>\n",
       "    .dataframe tbody tr th:only-of-type {\n",
       "        vertical-align: middle;\n",
       "    }\n",
       "\n",
       "    .dataframe tbody tr th {\n",
       "        vertical-align: top;\n",
       "    }\n",
       "\n",
       "    .dataframe thead th {\n",
       "        text-align: right;\n",
       "    }\n",
       "</style>\n",
       "<table border=\"1\" class=\"dataframe\">\n",
       "  <thead>\n",
       "    <tr style=\"text-align: right;\">\n",
       "      <th></th>\n",
       "      <th>id</th>\n",
       "      <th>release_date</th>\n",
       "      <th>movie</th>\n",
       "      <th>production_budget</th>\n",
       "      <th>domestic_gross</th>\n",
       "      <th>worldwide_gross</th>\n",
       "      <th>tconst_x</th>\n",
       "      <th>region</th>\n",
       "      <th>primary_name</th>\n",
       "      <th>birth_year</th>\n",
       "      <th>death_year</th>\n",
       "      <th>profit</th>\n",
       "      <th>pmarg</th>\n",
       "      <th>pwtf</th>\n",
       "      <th>profitdom</th>\n",
       "      <th>pdtf</th>\n",
       "    </tr>\n",
       "  </thead>\n",
       "  <tbody>\n",
       "    <tr>\n",
       "      <th>0</th>\n",
       "      <td>2.0</td>\n",
       "      <td>May 20, 2011</td>\n",
       "      <td>Pirates of the Caribbean: On Stranger Tides</td>\n",
       "      <td>410600000.0</td>\n",
       "      <td>241063875.0</td>\n",
       "      <td>1.045664e+09</td>\n",
       "      <td>tt1298650</td>\n",
       "      <td>US</td>\n",
       "      <td>Rob Marshall</td>\n",
       "      <td>1960.0</td>\n",
       "      <td>NaN</td>\n",
       "      <td>6.350639e+08</td>\n",
       "      <td>76.946332</td>\n",
       "      <td>True</td>\n",
       "      <td>-169536125.0</td>\n",
       "      <td>False</td>\n",
       "    </tr>\n",
       "    <tr>\n",
       "      <th>2</th>\n",
       "      <td>4.0</td>\n",
       "      <td>May 1, 2015</td>\n",
       "      <td>Avengers: Age of Ultron</td>\n",
       "      <td>330600000.0</td>\n",
       "      <td>459005868.0</td>\n",
       "      <td>1.403014e+09</td>\n",
       "      <td>tt2395427</td>\n",
       "      <td>US</td>\n",
       "      <td>Joss Whedon</td>\n",
       "      <td>1964.0</td>\n",
       "      <td>NaN</td>\n",
       "      <td>1.072414e+09</td>\n",
       "      <td>67.284298</td>\n",
       "      <td>True</td>\n",
       "      <td>128405868.0</td>\n",
       "      <td>True</td>\n",
       "    </tr>\n",
       "  </tbody>\n",
       "</table>\n",
       "</div>"
      ],
      "text/plain": [
       "    id  release_date                                        movie  \\\n",
       "0  2.0  May 20, 2011  Pirates of the Caribbean: On Stranger Tides   \n",
       "2  4.0   May 1, 2015                      Avengers: Age of Ultron   \n",
       "\n",
       "   production_budget  domestic_gross  worldwide_gross   tconst_x region  \\\n",
       "0        410600000.0     241063875.0     1.045664e+09  tt1298650     US   \n",
       "2        330600000.0     459005868.0     1.403014e+09  tt2395427     US   \n",
       "\n",
       "   primary_name  birth_year  death_year        profit      pmarg  pwtf  \\\n",
       "0  Rob Marshall      1960.0         NaN  6.350639e+08  76.946332  True   \n",
       "2   Joss Whedon      1964.0         NaN  1.072414e+09  67.284298  True   \n",
       "\n",
       "     profitdom   pdtf  \n",
       "0 -169536125.0  False  \n",
       "2  128405868.0   True  "
      ]
     },
     "execution_count": 311,
     "metadata": {},
     "output_type": "execute_result"
    }
   ],
   "source": [
    "dftd2.head(2)"
   ]
  },
  {
   "cell_type": "code",
   "execution_count": 314,
   "metadata": {},
   "outputs": [
    {
     "data": {
      "text/plain": [
       "<AxesSubplot:xlabel='production_budget', ylabel='worldwide_gross'>"
      ]
     },
     "execution_count": 314,
     "metadata": {},
     "output_type": "execute_result"
    },
    {
     "data": {
      "image/png": "[encoded data removed]",
      "text/plain": [
       "<Figure size 432x288 with 1 Axes>"
      ]
     },
     "metadata": {
      "needs_background": "light"
     },
     "output_type": "display_data"
    }
   ],
   "source": [
    "# Flip T/F and build out proper scales with x/y ticks\n",
    "sns.scatterplot(x='production_budget', y='worldwide_gross', data=dftd2, hue='pdtf')"
   ]
  },
  {
   "cell_type": "code",
   "execution_count": null,
   "metadata": {},
   "outputs": [],
   "source": []
  }
 ],
 "metadata": {
  "kernelspec": {
   "display_name": "learn-env",
   "language": "python",
   "name": "learn-env"
  },
  "language_info": {
   "codemirror_mode": {
    "name": "ipython",
    "version": 3
   },
   "file_extension": ".py",
   "mimetype": "text/x-python",
   "name": "python",
   "nbconvert_exporter": "python",
   "pygments_lexer": "ipython3",
   "version": "3.8.5"
  },
  "toc": {
   "base_numbering": 1,
   "nav_menu": {},
   "number_sections": true,
   "sideBar": true,
   "skip_h1_title": false,
   "title_cell": "Table of Contents",
   "title_sidebar": "Contents",
   "toc_cell": false,
   "toc_position": {},
   "toc_section_display": true,
   "toc_window_display": false
  },
  "varInspector": {
   "cols": {
    "lenName": 16,
    "lenType": 16,
    "lenVar": 40
   },
   "kernels_config": {
    "python": {
     "delete_cmd_postfix": "",
     "delete_cmd_prefix": "del ",
     "library": "var_list.py",
     "varRefreshCmd": "print(var_dic_list())"
    },
    "r": {
     "delete_cmd_postfix": ") ",
     "delete_cmd_prefix": "rm(",
     "library": "var_list.r",
     "varRefreshCmd": "cat(var_dic_list()) "
    }
   },
   "types_to_exclude": [
    "module",
    "function",
    "builtin_function_or_method",
    "instance",
    "_Feature"
   ],
   "window_display": false
  }
 },
 "nbformat": 4,
 "nbformat_minor": 4
}
