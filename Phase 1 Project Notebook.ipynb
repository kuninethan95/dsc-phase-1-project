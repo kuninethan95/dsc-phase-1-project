{
 "cells": [
  {
   "cell_type": "markdown",
   "metadata": {},
   "source": [
    "#  Final Project Submission\n",
    "Please fill out:\n",
    "\n",
    "- Student name: Ethan Kunin\n",
    "- Student pace: Full Time\n",
    "- Scheduled project review date/time: March\n",
    "- Instructor name: James Irving\n",
    "- Blog post URL: https://github.com/kuninethan95/dsc-phase-1-project"
   ]
  },
  {
   "cell_type": "code",
   "execution_count": null,
   "metadata": {},
   "outputs": [],
   "source": [
    "# import necessary libraries and packages\n",
    "\n",
    "import os,glob\n",
    "import pandas as pd\n",
    "import numpy as np\n",
    "import matplotlib.pyplot as plt\n",
    "import seaborn as sns"
   ]
  },
  {
   "cell_type": "code",
   "execution_count": null,
   "metadata": {},
   "outputs": [],
   "source": [
    "# display where the data is contained\n",
    "\n",
    "folder = \"/Users/ethankunin/Documents/Flatiron/Phase_1/Movie_Project1/dsc-phase-1-project/zippedData/\"\n",
    "os.listdir(folder)"
   ]
  },
  {
   "cell_type": "code",
   "execution_count": null,
   "metadata": {},
   "outputs": [],
   "source": [
    "files = glob.glob(f\"{folder}*.csv*\")"
   ]
  },
  {
   "cell_type": "code",
   "execution_count": null,
   "metadata": {},
   "outputs": [],
   "source": [
    "# Load in files and display preview\n",
    "\n",
    "tables = {}\n",
    "dashes='---'*25\n",
    "\n",
    "for file in files:\n",
    "    ## Save a variable-friendly version of the file name\n",
    "    table_name = file.replace('.csv.gz','').split('/')[-1].replace('.','_')\n",
    "    print(dashes)\n",
    "    \n",
    "    ## Load and preview dataframe\n",
    "    print(f\"Preview of {table_name}\")\n",
    "    tables[table_name] = pd.read_csv(file)\n",
    "    display(tables[table_name].head(5))\n",
    "    print()"
   ]
  },
  {
   "cell_type": "markdown",
   "metadata": {},
   "source": [
    "# Description of each table with unique identifiers\n",
    "\n",
    "- imdb_title_crew: id's to link crew members with titles\n",
    "\n",
    "- tmdb_movies - titles and stats from IMDB\n",
    "\n",
    "- imdb_title_akas - link between id and movie title\n",
    "\n",
    "- imdb_title_ratings - link between title and IMDB ratings\n",
    "\n",
    "- imdb_name_basics - name of cast member and id\n",
    "\n",
    "- imdb_title_basics - movie title, id, and runtime\n",
    "\n",
    "- tn_movie_budgets - movie title, release date, and earnings/costs\n",
    "\n",
    "- bom_movie_gross - movie title, studio, and earnings\n",
    "\n",
    "- imdb_title_principals - link between movie title and cast cast id"
   ]
  },
  {
   "cell_type": "code",
   "execution_count": null,
   "metadata": {},
   "outputs": [],
   "source": [
    "# Link each file to a Pandas dataframe\n",
    "\n",
    "filepath0 = files[0]\n",
    "imdb_title_crew = pd.read_csv(filepath0)"
   ]
  },
  {
   "cell_type": "code",
   "execution_count": null,
   "metadata": {},
   "outputs": [],
   "source": [
    "filepath1 = files[1]\n",
    "tmdb_movies = pd.read_csv(filepath1)"
   ]
  },
  {
   "cell_type": "code",
   "execution_count": null,
   "metadata": {},
   "outputs": [],
   "source": [
    "filepath2 = files[2]\n",
    "imdb_title_akas = pd.read_csv(filepath2)"
   ]
  },
  {
   "cell_type": "code",
   "execution_count": null,
   "metadata": {},
   "outputs": [],
   "source": [
    "filepath3 = files[3]\n",
    "imdb_title_ratings = pd.read_csv(filepath3)"
   ]
  },
  {
   "cell_type": "code",
   "execution_count": null,
   "metadata": {},
   "outputs": [],
   "source": [
    "filepath4 = files[4]\n",
    "imdb_name_basics = pd.read_csv(filepath4)"
   ]
  },
  {
   "cell_type": "code",
   "execution_count": null,
   "metadata": {},
   "outputs": [],
   "source": [
    "filepath5 = files[5]\n",
    "imdb_title_basics = pd.read_csv(filepath5)"
   ]
  },
  {
   "cell_type": "code",
   "execution_count": null,
   "metadata": {},
   "outputs": [],
   "source": [
    "filepath6 = files[6]\n",
    "tn_movie_budgets = pd.read_csv(filepath6)"
   ]
  },
  {
   "cell_type": "code",
   "execution_count": null,
   "metadata": {},
   "outputs": [],
   "source": [
    "filepath7 = files[7]\n",
    "bom_movie_gross = pd.read_csv(filepath7)"
   ]
  },
  {
   "cell_type": "code",
   "execution_count": null,
   "metadata": {},
   "outputs": [],
   "source": [
    "filepath8 = files[8]\n",
    "imdb_title_principals = pd.read_csv(filepath8)"
   ]
  },
  {
   "cell_type": "markdown",
   "metadata": {},
   "source": [
    "## Analyze how runtime impacts revenue"
   ]
  },
  {
   "cell_type": "code",
   "execution_count": null,
   "metadata": {},
   "outputs": [],
   "source": [
    "# Merge movie budgets/earnings with titles to display runtime\n",
    "\n",
    "movie_rt = tn_movie_budgets.merge(imdb_title_basics, left_on='movie', right_on='primary_title', how='inner')"
   ]
  },
  {
   "cell_type": "code",
   "execution_count": null,
   "metadata": {},
   "outputs": [],
   "source": [
    "movie_rt.head()"
   ]
  },
  {
   "cell_type": "code",
   "execution_count": null,
   "metadata": {},
   "outputs": [],
   "source": [
    "movie_rt.info()\n",
    "\n",
    "# Going to have to turn production_budget/domestic_gross/worldwide_gross into integers\n",
    "# Only column with significant null values is runtime_minutues, may account for this by imputing the median"
   ]
  },
  {
   "cell_type": "markdown",
   "metadata": {},
   "source": [
    "### Clean Data\n",
    "- Sort for commercial release by only including films with production_budgets > $20,000000\n",
    "- Only use movies from 2010 onwards\n",
    "- Convert production_budget/domestic_gross/worldwide_gross into integers\n",
    "- Impute runtime_minutes with either mean/median\n",
    "- Check for outliers\n",
    "- Feature engineer short/medium/long\n",
    "- Drop unnecessary columns"
   ]
  },
  {
   "cell_type": "code",
   "execution_count": null,
   "metadata": {},
   "outputs": [],
   "source": [
    "def col_to_int(df, colm):\n",
    "    df[colm] = df[colm].map(lambda x: x.replace('$', '')).map(lambda x: x.replace(',', '')).astype('int')\n",
    "    return df"
   ]
  },
  {
   "cell_type": "code",
   "execution_count": null,
   "metadata": {},
   "outputs": [],
   "source": [
    "col_to_int(movie_rt, 'production_budget')"
   ]
  },
  {
   "cell_type": "code",
   "execution_count": null,
   "metadata": {},
   "outputs": [],
   "source": [
    "col_to_int(movie_rt, 'domestic_gross')"
   ]
  },
  {
   "cell_type": "code",
   "execution_count": null,
   "metadata": {},
   "outputs": [],
   "source": [
    "col_to_int(movie_rt, 'worldwide_gross')"
   ]
  },
  {
   "cell_type": "code",
   "execution_count": null,
   "metadata": {},
   "outputs": [],
   "source": [
    "# Filter out movies with production budgets under $20,000,000\n",
    "movie_rt = movie_rt.loc[movie_rt['production_budget'] > 20000000]"
   ]
  },
  {
   "cell_type": "code",
   "execution_count": null,
   "metadata": {},
   "outputs": [],
   "source": [
    "# Feature Engineer year column. Not going to use DateTime yet because will want to engineer a seasonal column\n",
    "# Convert year into an int\n",
    "movie_rt['year'] = movie_rt['release_date'].map(lambda x: x[-4:])\n",
    "movie_rt['year'] = movie_rt['year'].astype('int')"
   ]
  },
  {
   "cell_type": "code",
   "execution_count": null,
   "metadata": {},
   "outputs": [],
   "source": [
    "# Slice out movies from before 2010\n",
    "movie_rt = movie_rt[movie_rt['year'] > 2010]"
   ]
  },
  {
   "cell_type": "code",
   "execution_count": null,
   "metadata": {},
   "outputs": [],
   "source": [
    "# We have 8.2% of movies with null runtime_minutes\n",
    "(movie_rt['runtime_minutes'].isna().sum())/len(movie_rt)* 100"
   ]
  },
  {
   "cell_type": "code",
   "execution_count": null,
   "metadata": {},
   "outputs": [],
   "source": [
    "# Check for duplicates\n",
    "# 298 duplicates, upon inspection doesn't look like there's a reason other than inner join\n",
    "#Drop if they contain the same movie, release date\n",
    "movie_rt[movie_rt.duplicated(subset=['movie', 'release_date'])]\n",
    "movie_rt.duplicated(subset=['movie', 'release_date']).sum()\n",
    "movie_rt.drop"
   ]
  },
  {
   "cell_type": "code",
   "execution_count": 36,
   "metadata": {},
   "outputs": [],
   "source": [
    "# Clear out movies with runtimes under 80 minutes\n",
    "#https://screenwriting.io/what-is-a-feature-film/#:~:text=A%20modern%20feature%20is%20typically,than%2040%20minutes%20a%20feature.\n",
    "movie_rt = movie_rt[movie_rt['runtime_minutes'] > 80]"
   ]
  },
  {
   "cell_type": "code",
   "execution_count": 37,
   "metadata": {},
   "outputs": [
    {
     "data": {
      "text/html": [
       "<div>\n",
       "<style scoped>\n",
       "    .dataframe tbody tr th:only-of-type {\n",
       "        vertical-align: middle;\n",
       "    }\n",
       "\n",
       "    .dataframe tbody tr th {\n",
       "        vertical-align: top;\n",
       "    }\n",
       "\n",
       "    .dataframe thead th {\n",
       "        text-align: right;\n",
       "    }\n",
       "</style>\n",
       "<table border=\"1\" class=\"dataframe\">\n",
       "  <thead>\n",
       "    <tr style=\"text-align: right;\">\n",
       "      <th></th>\n",
       "      <th>id</th>\n",
       "      <th>release_date</th>\n",
       "      <th>movie</th>\n",
       "      <th>production_budget</th>\n",
       "      <th>domestic_gross</th>\n",
       "      <th>worldwide_gross</th>\n",
       "      <th>tconst</th>\n",
       "      <th>primary_title</th>\n",
       "      <th>original_title</th>\n",
       "      <th>start_year</th>\n",
       "      <th>runtime_minutes</th>\n",
       "      <th>genres</th>\n",
       "      <th>year</th>\n",
       "    </tr>\n",
       "  </thead>\n",
       "  <tbody>\n",
       "    <tr>\n",
       "      <th>1</th>\n",
       "      <td>2</td>\n",
       "      <td>May 20, 2011</td>\n",
       "      <td>Pirates of the Caribbean: On Stranger Tides</td>\n",
       "      <td>410600000</td>\n",
       "      <td>241063875</td>\n",
       "      <td>1045663875</td>\n",
       "      <td>tt1298650</td>\n",
       "      <td>Pirates of the Caribbean: On Stranger Tides</td>\n",
       "      <td>Pirates of the Caribbean: On Stranger Tides</td>\n",
       "      <td>2011</td>\n",
       "      <td>136.0</td>\n",
       "      <td>Action,Adventure,Fantasy</td>\n",
       "      <td>2011</td>\n",
       "    </tr>\n",
       "    <tr>\n",
       "      <th>2</th>\n",
       "      <td>3</td>\n",
       "      <td>Jun 7, 2019</td>\n",
       "      <td>Dark Phoenix</td>\n",
       "      <td>350000000</td>\n",
       "      <td>42762350</td>\n",
       "      <td>149762350</td>\n",
       "      <td>tt6565702</td>\n",
       "      <td>Dark Phoenix</td>\n",
       "      <td>Dark Phoenix</td>\n",
       "      <td>2019</td>\n",
       "      <td>113.0</td>\n",
       "      <td>Action,Adventure,Sci-Fi</td>\n",
       "      <td>2019</td>\n",
       "    </tr>\n",
       "    <tr>\n",
       "      <th>3</th>\n",
       "      <td>4</td>\n",
       "      <td>May 1, 2015</td>\n",
       "      <td>Avengers: Age of Ultron</td>\n",
       "      <td>330600000</td>\n",
       "      <td>459005868</td>\n",
       "      <td>1403013963</td>\n",
       "      <td>tt2395427</td>\n",
       "      <td>Avengers: Age of Ultron</td>\n",
       "      <td>Avengers: Age of Ultron</td>\n",
       "      <td>2015</td>\n",
       "      <td>141.0</td>\n",
       "      <td>Action,Adventure,Sci-Fi</td>\n",
       "      <td>2015</td>\n",
       "    </tr>\n",
       "    <tr>\n",
       "      <th>4</th>\n",
       "      <td>7</td>\n",
       "      <td>Apr 27, 2018</td>\n",
       "      <td>Avengers: Infinity War</td>\n",
       "      <td>300000000</td>\n",
       "      <td>678815482</td>\n",
       "      <td>2048134200</td>\n",
       "      <td>tt4154756</td>\n",
       "      <td>Avengers: Infinity War</td>\n",
       "      <td>Avengers: Infinity War</td>\n",
       "      <td>2018</td>\n",
       "      <td>149.0</td>\n",
       "      <td>Action,Adventure,Sci-Fi</td>\n",
       "      <td>2018</td>\n",
       "    </tr>\n",
       "    <tr>\n",
       "      <th>5</th>\n",
       "      <td>9</td>\n",
       "      <td>Nov 17, 2017</td>\n",
       "      <td>Justice League</td>\n",
       "      <td>300000000</td>\n",
       "      <td>229024295</td>\n",
       "      <td>655945209</td>\n",
       "      <td>tt0974015</td>\n",
       "      <td>Justice League</td>\n",
       "      <td>Justice League</td>\n",
       "      <td>2017</td>\n",
       "      <td>120.0</td>\n",
       "      <td>Action,Adventure,Fantasy</td>\n",
       "      <td>2017</td>\n",
       "    </tr>\n",
       "    <tr>\n",
       "      <th>...</th>\n",
       "      <td>...</td>\n",
       "      <td>...</td>\n",
       "      <td>...</td>\n",
       "      <td>...</td>\n",
       "      <td>...</td>\n",
       "      <td>...</td>\n",
       "      <td>...</td>\n",
       "      <td>...</td>\n",
       "      <td>...</td>\n",
       "      <td>...</td>\n",
       "      <td>...</td>\n",
       "      <td>...</td>\n",
       "      <td>...</td>\n",
       "    </tr>\n",
       "    <tr>\n",
       "      <th>1708</th>\n",
       "      <td>69</td>\n",
       "      <td>Aug 4, 2017</td>\n",
       "      <td>Kidnap</td>\n",
       "      <td>21000000</td>\n",
       "      <td>30718107</td>\n",
       "      <td>34836080</td>\n",
       "      <td>tt1458169</td>\n",
       "      <td>Kidnap</td>\n",
       "      <td>Kidnap</td>\n",
       "      <td>2017</td>\n",
       "      <td>95.0</td>\n",
       "      <td>Crime,Drama,Thriller</td>\n",
       "      <td>2017</td>\n",
       "    </tr>\n",
       "    <tr>\n",
       "      <th>1711</th>\n",
       "      <td>72</td>\n",
       "      <td>Dec 9, 2011</td>\n",
       "      <td>Tinker Tailor Soldier Spy</td>\n",
       "      <td>21000000</td>\n",
       "      <td>24149393</td>\n",
       "      <td>81452811</td>\n",
       "      <td>tt1340800</td>\n",
       "      <td>Tinker Tailor Soldier Spy</td>\n",
       "      <td>Tinker Tailor Soldier Spy</td>\n",
       "      <td>2011</td>\n",
       "      <td>122.0</td>\n",
       "      <td>Drama,Mystery,Thriller</td>\n",
       "      <td>2011</td>\n",
       "    </tr>\n",
       "    <tr>\n",
       "      <th>1713</th>\n",
       "      <td>79</td>\n",
       "      <td>May 6, 2011</td>\n",
       "      <td>The Beaver</td>\n",
       "      <td>21000000</td>\n",
       "      <td>970816</td>\n",
       "      <td>5046038</td>\n",
       "      <td>tt1321860</td>\n",
       "      <td>The Beaver</td>\n",
       "      <td>The Beaver</td>\n",
       "      <td>2011</td>\n",
       "      <td>91.0</td>\n",
       "      <td>Drama</td>\n",
       "      <td>2011</td>\n",
       "    </tr>\n",
       "    <tr>\n",
       "      <th>1714</th>\n",
       "      <td>80</td>\n",
       "      <td>Feb 24, 2017</td>\n",
       "      <td>Bitter Harvest</td>\n",
       "      <td>21000000</td>\n",
       "      <td>557241</td>\n",
       "      <td>606162</td>\n",
       "      <td>tt3182620</td>\n",
       "      <td>Bitter Harvest</td>\n",
       "      <td>Bitter Harvest</td>\n",
       "      <td>2017</td>\n",
       "      <td>103.0</td>\n",
       "      <td>Drama,Romance,War</td>\n",
       "      <td>2017</td>\n",
       "    </tr>\n",
       "    <tr>\n",
       "      <th>1718</th>\n",
       "      <td>82</td>\n",
       "      <td>Feb 1, 2019</td>\n",
       "      <td>Velvet Buzzsaw</td>\n",
       "      <td>21000000</td>\n",
       "      <td>0</td>\n",
       "      <td>0</td>\n",
       "      <td>tt7043012</td>\n",
       "      <td>Velvet Buzzsaw</td>\n",
       "      <td>Velvet Buzzsaw</td>\n",
       "      <td>2019</td>\n",
       "      <td>113.0</td>\n",
       "      <td>Horror,Mystery,Thriller</td>\n",
       "      <td>2019</td>\n",
       "    </tr>\n",
       "  </tbody>\n",
       "</table>\n",
       "<p>848 rows × 13 columns</p>\n",
       "</div>"
      ],
      "text/plain": [
       "      id  release_date                                        movie  \\\n",
       "1      2  May 20, 2011  Pirates of the Caribbean: On Stranger Tides   \n",
       "2      3   Jun 7, 2019                                 Dark Phoenix   \n",
       "3      4   May 1, 2015                      Avengers: Age of Ultron   \n",
       "4      7  Apr 27, 2018                       Avengers: Infinity War   \n",
       "5      9  Nov 17, 2017                               Justice League   \n",
       "...   ..           ...                                          ...   \n",
       "1708  69   Aug 4, 2017                                       Kidnap   \n",
       "1711  72   Dec 9, 2011                    Tinker Tailor Soldier Spy   \n",
       "1713  79   May 6, 2011                                   The Beaver   \n",
       "1714  80  Feb 24, 2017                               Bitter Harvest   \n",
       "1718  82   Feb 1, 2019                               Velvet Buzzsaw   \n",
       "\n",
       "      production_budget  domestic_gross  worldwide_gross     tconst  \\\n",
       "1             410600000       241063875       1045663875  tt1298650   \n",
       "2             350000000        42762350        149762350  tt6565702   \n",
       "3             330600000       459005868       1403013963  tt2395427   \n",
       "4             300000000       678815482       2048134200  tt4154756   \n",
       "5             300000000       229024295        655945209  tt0974015   \n",
       "...                 ...             ...              ...        ...   \n",
       "1708           21000000        30718107         34836080  tt1458169   \n",
       "1711           21000000        24149393         81452811  tt1340800   \n",
       "1713           21000000          970816          5046038  tt1321860   \n",
       "1714           21000000          557241           606162  tt3182620   \n",
       "1718           21000000               0                0  tt7043012   \n",
       "\n",
       "                                    primary_title  \\\n",
       "1     Pirates of the Caribbean: On Stranger Tides   \n",
       "2                                    Dark Phoenix   \n",
       "3                         Avengers: Age of Ultron   \n",
       "4                          Avengers: Infinity War   \n",
       "5                                  Justice League   \n",
       "...                                           ...   \n",
       "1708                                       Kidnap   \n",
       "1711                    Tinker Tailor Soldier Spy   \n",
       "1713                                   The Beaver   \n",
       "1714                               Bitter Harvest   \n",
       "1718                               Velvet Buzzsaw   \n",
       "\n",
       "                                   original_title  start_year  \\\n",
       "1     Pirates of the Caribbean: On Stranger Tides        2011   \n",
       "2                                    Dark Phoenix        2019   \n",
       "3                         Avengers: Age of Ultron        2015   \n",
       "4                          Avengers: Infinity War        2018   \n",
       "5                                  Justice League        2017   \n",
       "...                                           ...         ...   \n",
       "1708                                       Kidnap        2017   \n",
       "1711                    Tinker Tailor Soldier Spy        2011   \n",
       "1713                                   The Beaver        2011   \n",
       "1714                               Bitter Harvest        2017   \n",
       "1718                               Velvet Buzzsaw        2019   \n",
       "\n",
       "      runtime_minutes                    genres  year  \n",
       "1               136.0  Action,Adventure,Fantasy  2011  \n",
       "2               113.0   Action,Adventure,Sci-Fi  2019  \n",
       "3               141.0   Action,Adventure,Sci-Fi  2015  \n",
       "4               149.0   Action,Adventure,Sci-Fi  2018  \n",
       "5               120.0  Action,Adventure,Fantasy  2017  \n",
       "...               ...                       ...   ...  \n",
       "1708             95.0      Crime,Drama,Thriller  2017  \n",
       "1711            122.0    Drama,Mystery,Thriller  2011  \n",
       "1713             91.0                     Drama  2011  \n",
       "1714            103.0         Drama,Romance,War  2017  \n",
       "1718            113.0   Horror,Mystery,Thriller  2019  \n",
       "\n",
       "[848 rows x 13 columns]"
      ]
     },
     "execution_count": 37,
     "metadata": {},
     "output_type": "execute_result"
    }
   ],
   "source": [
    "movie_rt"
   ]
  },
  {
   "cell_type": "code",
   "execution_count": null,
   "metadata": {},
   "outputs": [],
   "source": []
  }
 ],
 "metadata": {
  "kernelspec": {
   "display_name": "learn-env",
   "language": "python",
   "name": "learn-env"
  },
  "language_info": {
   "codemirror_mode": {
    "name": "ipython",
    "version": 3
   },
   "file_extension": ".py",
   "mimetype": "text/x-python",
   "name": "python",
   "nbconvert_exporter": "python",
   "pygments_lexer": "ipython3",
   "version": "3.8.5"
  },
  "toc": {
   "base_numbering": 1,
   "nav_menu": {},
   "number_sections": true,
   "sideBar": true,
   "skip_h1_title": false,
   "title_cell": "Table of Contents",
   "title_sidebar": "Contents",
   "toc_cell": false,
   "toc_position": {},
   "toc_section_display": true,
   "toc_window_display": false
  },
  "varInspector": {
   "cols": {
    "lenName": 16,
    "lenType": 16,
    "lenVar": 40
   },
   "kernels_config": {
    "python": {
     "delete_cmd_postfix": "",
     "delete_cmd_prefix": "del ",
     "library": "var_list.py",
     "varRefreshCmd": "print(var_dic_list())"
    },
    "r": {
     "delete_cmd_postfix": ") ",
     "delete_cmd_prefix": "rm(",
     "library": "var_list.r",
     "varRefreshCmd": "cat(var_dic_list()) "
    }
   },
   "types_to_exclude": [
    "module",
    "function",
    "builtin_function_or_method",
    "instance",
    "_Feature"
   ],
   "window_display": false
  }
 },
 "nbformat": 4,
 "nbformat_minor": 4
}
