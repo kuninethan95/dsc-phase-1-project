{
 "cells": [
  {
   "cell_type": "markdown",
   "metadata": {},
   "source": [
    "## Final Project Submission\n",
    "\n",
    "Please fill out:\n",
    "* Student name: \n",
    "* Student pace: self paced / part time / full time\n",
    "* Scheduled project review date/time: \n",
    "* Instructor name: \n",
    "* Blog post URL:\n"
   ]
  },
  {
   "cell_type": "code",
   "execution_count": 4,
   "metadata": {},
   "outputs": [],
   "source": [
    "# Your code here - remember to use markdown cells for comments as well!\n",
    "\n",
    "import os,glob\n",
    "import pandas as pd\n",
    "import numpy as np\n",
    "import matplotlib.pyplot as plt\n",
    "import seaborn as sns"
   ]
  },
  {
   "cell_type": "code",
   "execution_count": 5,
   "metadata": {},
   "outputs": [
    {
     "data": {
      "text/plain": [
       "['imdb.title.crew.csv.gz',\n",
       " 'tmdb.movies.csv.gz',\n",
       " 'imdb.title.akas.csv.gz',\n",
       " 'imdb.title.ratings.csv.gz',\n",
       " 'imdb.name.basics.csv.gz',\n",
       " 'rt.reviews.tsv.gz',\n",
       " 'imdb.title.basics.csv.gz',\n",
       " 'rt.movie_info.tsv.gz',\n",
       " 'tn.movie_budgets.csv.gz',\n",
       " 'bom.movie_gross.csv.gz',\n",
       " 'imdb.title.principals.csv.gz']"
      ]
     },
     "execution_count": 5,
     "metadata": {},
     "output_type": "execute_result"
    }
   ],
   "source": [
    "folder = \"/Users/ethankunin/Documents/Flatiron/Phase_1/Movie_Project1/dsc-phase-1-project/zippedData/\"\n",
    "os.listdir(folder)\n",
    "#/Users/ethankunin/Documents/Flatiron/Phase_1/Movie_Project1/dsc-phase-1-project\n",
    "#folder = \"../../../Projects/dsc-phase-1-project/zippedData/\""
   ]
  },
  {
   "cell_type": "code",
   "execution_count": 6,
   "metadata": {},
   "outputs": [
    {
     "data": {
      "text/plain": [
       "'/Users/ethankunin/Documents/Flatiron/Phase_1/Movie_Project1/dsc-phase-1-project/zippedData/*.csv*'"
      ]
     },
     "execution_count": 6,
     "metadata": {},
     "output_type": "execute_result"
    }
   ],
   "source": [
    "f\"{folder}*.csv*\""
   ]
  },
  {
   "cell_type": "code",
   "execution_count": 7,
   "metadata": {},
   "outputs": [],
   "source": [
    "files = glob.glob(f\"{folder}*.csv*\")\n"
   ]
  },
  {
   "cell_type": "code",
   "execution_count": 8,
   "metadata": {},
   "outputs": [
    {
     "data": {
      "text/plain": [
       "'imdb_title_crew'"
      ]
     },
     "execution_count": 8,
     "metadata": {},
     "output_type": "execute_result"
    }
   ],
   "source": [
    "files[0].replace('.csv.gz','').split('/')[-1].replace('.','_')"
   ]
  },
  {
   "cell_type": "code",
   "execution_count": 9,
   "metadata": {},
   "outputs": [
    {
     "name": "stdout",
     "output_type": "stream",
     "text": [
      "---------------------------------------------------------------------------\n",
      "Preview of imdb_title_crew\n"
     ]
    },
    {
     "data": {
      "text/html": [
       "<div>\n",
       "<style scoped>\n",
       "    .dataframe tbody tr th:only-of-type {\n",
       "        vertical-align: middle;\n",
       "    }\n",
       "\n",
       "    .dataframe tbody tr th {\n",
       "        vertical-align: top;\n",
       "    }\n",
       "\n",
       "    .dataframe thead th {\n",
       "        text-align: right;\n",
       "    }\n",
       "</style>\n",
       "<table border=\"1\" class=\"dataframe\">\n",
       "  <thead>\n",
       "    <tr style=\"text-align: right;\">\n",
       "      <th></th>\n",
       "      <th>tconst</th>\n",
       "      <th>directors</th>\n",
       "      <th>writers</th>\n",
       "    </tr>\n",
       "  </thead>\n",
       "  <tbody>\n",
       "    <tr>\n",
       "      <th>0</th>\n",
       "      <td>tt0285252</td>\n",
       "      <td>nm0899854</td>\n",
       "      <td>nm0899854</td>\n",
       "    </tr>\n",
       "    <tr>\n",
       "      <th>1</th>\n",
       "      <td>tt0438973</td>\n",
       "      <td>NaN</td>\n",
       "      <td>nm0175726,nm1802864</td>\n",
       "    </tr>\n",
       "    <tr>\n",
       "      <th>2</th>\n",
       "      <td>tt0462036</td>\n",
       "      <td>nm1940585</td>\n",
       "      <td>nm1940585</td>\n",
       "    </tr>\n",
       "    <tr>\n",
       "      <th>3</th>\n",
       "      <td>tt0835418</td>\n",
       "      <td>nm0151540</td>\n",
       "      <td>nm0310087,nm0841532</td>\n",
       "    </tr>\n",
       "    <tr>\n",
       "      <th>4</th>\n",
       "      <td>tt0878654</td>\n",
       "      <td>nm0089502,nm2291498,nm2292011</td>\n",
       "      <td>nm0284943</td>\n",
       "    </tr>\n",
       "  </tbody>\n",
       "</table>\n",
       "</div>"
      ],
      "text/plain": [
       "      tconst                      directors              writers\n",
       "0  tt0285252                      nm0899854            nm0899854\n",
       "1  tt0438973                            NaN  nm0175726,nm1802864\n",
       "2  tt0462036                      nm1940585            nm1940585\n",
       "3  tt0835418                      nm0151540  nm0310087,nm0841532\n",
       "4  tt0878654  nm0089502,nm2291498,nm2292011            nm0284943"
      ]
     },
     "metadata": {},
     "output_type": "display_data"
    },
    {
     "name": "stdout",
     "output_type": "stream",
     "text": [
      "\n",
      "---------------------------------------------------------------------------\n",
      "Preview of tmdb_movies\n"
     ]
    },
    {
     "data": {
      "text/html": [
       "<div>\n",
       "<style scoped>\n",
       "    .dataframe tbody tr th:only-of-type {\n",
       "        vertical-align: middle;\n",
       "    }\n",
       "\n",
       "    .dataframe tbody tr th {\n",
       "        vertical-align: top;\n",
       "    }\n",
       "\n",
       "    .dataframe thead th {\n",
       "        text-align: right;\n",
       "    }\n",
       "</style>\n",
       "<table border=\"1\" class=\"dataframe\">\n",
       "  <thead>\n",
       "    <tr style=\"text-align: right;\">\n",
       "      <th></th>\n",
       "      <th>Unnamed: 0</th>\n",
       "      <th>genre_ids</th>\n",
       "      <th>id</th>\n",
       "      <th>original_language</th>\n",
       "      <th>original_title</th>\n",
       "      <th>popularity</th>\n",
       "      <th>release_date</th>\n",
       "      <th>title</th>\n",
       "      <th>vote_average</th>\n",
       "      <th>vote_count</th>\n",
       "    </tr>\n",
       "  </thead>\n",
       "  <tbody>\n",
       "    <tr>\n",
       "      <th>0</th>\n",
       "      <td>0</td>\n",
       "      <td>[12, 14, 10751]</td>\n",
       "      <td>12444</td>\n",
       "      <td>en</td>\n",
       "      <td>Harry Potter and the Deathly Hallows: Part 1</td>\n",
       "      <td>33.533</td>\n",
       "      <td>2010-11-19</td>\n",
       "      <td>Harry Potter and the Deathly Hallows: Part 1</td>\n",
       "      <td>7.7</td>\n",
       "      <td>10788</td>\n",
       "    </tr>\n",
       "    <tr>\n",
       "      <th>1</th>\n",
       "      <td>1</td>\n",
       "      <td>[14, 12, 16, 10751]</td>\n",
       "      <td>10191</td>\n",
       "      <td>en</td>\n",
       "      <td>How to Train Your Dragon</td>\n",
       "      <td>28.734</td>\n",
       "      <td>2010-03-26</td>\n",
       "      <td>How to Train Your Dragon</td>\n",
       "      <td>7.7</td>\n",
       "      <td>7610</td>\n",
       "    </tr>\n",
       "    <tr>\n",
       "      <th>2</th>\n",
       "      <td>2</td>\n",
       "      <td>[12, 28, 878]</td>\n",
       "      <td>10138</td>\n",
       "      <td>en</td>\n",
       "      <td>Iron Man 2</td>\n",
       "      <td>28.515</td>\n",
       "      <td>2010-05-07</td>\n",
       "      <td>Iron Man 2</td>\n",
       "      <td>6.8</td>\n",
       "      <td>12368</td>\n",
       "    </tr>\n",
       "    <tr>\n",
       "      <th>3</th>\n",
       "      <td>3</td>\n",
       "      <td>[16, 35, 10751]</td>\n",
       "      <td>862</td>\n",
       "      <td>en</td>\n",
       "      <td>Toy Story</td>\n",
       "      <td>28.005</td>\n",
       "      <td>1995-11-22</td>\n",
       "      <td>Toy Story</td>\n",
       "      <td>7.9</td>\n",
       "      <td>10174</td>\n",
       "    </tr>\n",
       "    <tr>\n",
       "      <th>4</th>\n",
       "      <td>4</td>\n",
       "      <td>[28, 878, 12]</td>\n",
       "      <td>27205</td>\n",
       "      <td>en</td>\n",
       "      <td>Inception</td>\n",
       "      <td>27.920</td>\n",
       "      <td>2010-07-16</td>\n",
       "      <td>Inception</td>\n",
       "      <td>8.3</td>\n",
       "      <td>22186</td>\n",
       "    </tr>\n",
       "  </tbody>\n",
       "</table>\n",
       "</div>"
      ],
      "text/plain": [
       "   Unnamed: 0            genre_ids     id original_language  \\\n",
       "0           0      [12, 14, 10751]  12444                en   \n",
       "1           1  [14, 12, 16, 10751]  10191                en   \n",
       "2           2        [12, 28, 878]  10138                en   \n",
       "3           3      [16, 35, 10751]    862                en   \n",
       "4           4        [28, 878, 12]  27205                en   \n",
       "\n",
       "                                 original_title  popularity release_date  \\\n",
       "0  Harry Potter and the Deathly Hallows: Part 1      33.533   2010-11-19   \n",
       "1                      How to Train Your Dragon      28.734   2010-03-26   \n",
       "2                                    Iron Man 2      28.515   2010-05-07   \n",
       "3                                     Toy Story      28.005   1995-11-22   \n",
       "4                                     Inception      27.920   2010-07-16   \n",
       "\n",
       "                                          title  vote_average  vote_count  \n",
       "0  Harry Potter and the Deathly Hallows: Part 1           7.7       10788  \n",
       "1                      How to Train Your Dragon           7.7        7610  \n",
       "2                                    Iron Man 2           6.8       12368  \n",
       "3                                     Toy Story           7.9       10174  \n",
       "4                                     Inception           8.3       22186  "
      ]
     },
     "metadata": {},
     "output_type": "display_data"
    },
    {
     "name": "stdout",
     "output_type": "stream",
     "text": [
      "\n",
      "---------------------------------------------------------------------------\n",
      "Preview of imdb_title_akas\n"
     ]
    },
    {
     "data": {
      "text/html": [
       "<div>\n",
       "<style scoped>\n",
       "    .dataframe tbody tr th:only-of-type {\n",
       "        vertical-align: middle;\n",
       "    }\n",
       "\n",
       "    .dataframe tbody tr th {\n",
       "        vertical-align: top;\n",
       "    }\n",
       "\n",
       "    .dataframe thead th {\n",
       "        text-align: right;\n",
       "    }\n",
       "</style>\n",
       "<table border=\"1\" class=\"dataframe\">\n",
       "  <thead>\n",
       "    <tr style=\"text-align: right;\">\n",
       "      <th></th>\n",
       "      <th>title_id</th>\n",
       "      <th>ordering</th>\n",
       "      <th>title</th>\n",
       "      <th>region</th>\n",
       "      <th>language</th>\n",
       "      <th>types</th>\n",
       "      <th>attributes</th>\n",
       "      <th>is_original_title</th>\n",
       "    </tr>\n",
       "  </thead>\n",
       "  <tbody>\n",
       "    <tr>\n",
       "      <th>0</th>\n",
       "      <td>tt0369610</td>\n",
       "      <td>10</td>\n",
       "      <td>Джурасик свят</td>\n",
       "      <td>BG</td>\n",
       "      <td>bg</td>\n",
       "      <td>NaN</td>\n",
       "      <td>NaN</td>\n",
       "      <td>0.0</td>\n",
       "    </tr>\n",
       "    <tr>\n",
       "      <th>1</th>\n",
       "      <td>tt0369610</td>\n",
       "      <td>11</td>\n",
       "      <td>Jurashikku warudo</td>\n",
       "      <td>JP</td>\n",
       "      <td>NaN</td>\n",
       "      <td>imdbDisplay</td>\n",
       "      <td>NaN</td>\n",
       "      <td>0.0</td>\n",
       "    </tr>\n",
       "    <tr>\n",
       "      <th>2</th>\n",
       "      <td>tt0369610</td>\n",
       "      <td>12</td>\n",
       "      <td>Jurassic World: O Mundo dos Dinossauros</td>\n",
       "      <td>BR</td>\n",
       "      <td>NaN</td>\n",
       "      <td>imdbDisplay</td>\n",
       "      <td>NaN</td>\n",
       "      <td>0.0</td>\n",
       "    </tr>\n",
       "    <tr>\n",
       "      <th>3</th>\n",
       "      <td>tt0369610</td>\n",
       "      <td>13</td>\n",
       "      <td>O Mundo dos Dinossauros</td>\n",
       "      <td>BR</td>\n",
       "      <td>NaN</td>\n",
       "      <td>NaN</td>\n",
       "      <td>short title</td>\n",
       "      <td>0.0</td>\n",
       "    </tr>\n",
       "    <tr>\n",
       "      <th>4</th>\n",
       "      <td>tt0369610</td>\n",
       "      <td>14</td>\n",
       "      <td>Jurassic World</td>\n",
       "      <td>FR</td>\n",
       "      <td>NaN</td>\n",
       "      <td>imdbDisplay</td>\n",
       "      <td>NaN</td>\n",
       "      <td>0.0</td>\n",
       "    </tr>\n",
       "  </tbody>\n",
       "</table>\n",
       "</div>"
      ],
      "text/plain": [
       "    title_id  ordering                                    title region  \\\n",
       "0  tt0369610        10                            Джурасик свят     BG   \n",
       "1  tt0369610        11                        Jurashikku warudo     JP   \n",
       "2  tt0369610        12  Jurassic World: O Mundo dos Dinossauros     BR   \n",
       "3  tt0369610        13                  O Mundo dos Dinossauros     BR   \n",
       "4  tt0369610        14                           Jurassic World     FR   \n",
       "\n",
       "  language        types   attributes  is_original_title  \n",
       "0       bg          NaN          NaN                0.0  \n",
       "1      NaN  imdbDisplay          NaN                0.0  \n",
       "2      NaN  imdbDisplay          NaN                0.0  \n",
       "3      NaN          NaN  short title                0.0  \n",
       "4      NaN  imdbDisplay          NaN                0.0  "
      ]
     },
     "metadata": {},
     "output_type": "display_data"
    },
    {
     "name": "stdout",
     "output_type": "stream",
     "text": [
      "\n",
      "---------------------------------------------------------------------------\n",
      "Preview of imdb_title_ratings\n"
     ]
    },
    {
     "data": {
      "text/html": [
       "<div>\n",
       "<style scoped>\n",
       "    .dataframe tbody tr th:only-of-type {\n",
       "        vertical-align: middle;\n",
       "    }\n",
       "\n",
       "    .dataframe tbody tr th {\n",
       "        vertical-align: top;\n",
       "    }\n",
       "\n",
       "    .dataframe thead th {\n",
       "        text-align: right;\n",
       "    }\n",
       "</style>\n",
       "<table border=\"1\" class=\"dataframe\">\n",
       "  <thead>\n",
       "    <tr style=\"text-align: right;\">\n",
       "      <th></th>\n",
       "      <th>tconst</th>\n",
       "      <th>averagerating</th>\n",
       "      <th>numvotes</th>\n",
       "    </tr>\n",
       "  </thead>\n",
       "  <tbody>\n",
       "    <tr>\n",
       "      <th>0</th>\n",
       "      <td>tt10356526</td>\n",
       "      <td>8.3</td>\n",
       "      <td>31</td>\n",
       "    </tr>\n",
       "    <tr>\n",
       "      <th>1</th>\n",
       "      <td>tt10384606</td>\n",
       "      <td>8.9</td>\n",
       "      <td>559</td>\n",
       "    </tr>\n",
       "    <tr>\n",
       "      <th>2</th>\n",
       "      <td>tt1042974</td>\n",
       "      <td>6.4</td>\n",
       "      <td>20</td>\n",
       "    </tr>\n",
       "    <tr>\n",
       "      <th>3</th>\n",
       "      <td>tt1043726</td>\n",
       "      <td>4.2</td>\n",
       "      <td>50352</td>\n",
       "    </tr>\n",
       "    <tr>\n",
       "      <th>4</th>\n",
       "      <td>tt1060240</td>\n",
       "      <td>6.5</td>\n",
       "      <td>21</td>\n",
       "    </tr>\n",
       "  </tbody>\n",
       "</table>\n",
       "</div>"
      ],
      "text/plain": [
       "       tconst  averagerating  numvotes\n",
       "0  tt10356526            8.3        31\n",
       "1  tt10384606            8.9       559\n",
       "2   tt1042974            6.4        20\n",
       "3   tt1043726            4.2     50352\n",
       "4   tt1060240            6.5        21"
      ]
     },
     "metadata": {},
     "output_type": "display_data"
    },
    {
     "name": "stdout",
     "output_type": "stream",
     "text": [
      "\n",
      "---------------------------------------------------------------------------\n",
      "Preview of imdb_name_basics\n"
     ]
    },
    {
     "data": {
      "text/html": [
       "<div>\n",
       "<style scoped>\n",
       "    .dataframe tbody tr th:only-of-type {\n",
       "        vertical-align: middle;\n",
       "    }\n",
       "\n",
       "    .dataframe tbody tr th {\n",
       "        vertical-align: top;\n",
       "    }\n",
       "\n",
       "    .dataframe thead th {\n",
       "        text-align: right;\n",
       "    }\n",
       "</style>\n",
       "<table border=\"1\" class=\"dataframe\">\n",
       "  <thead>\n",
       "    <tr style=\"text-align: right;\">\n",
       "      <th></th>\n",
       "      <th>nconst</th>\n",
       "      <th>primary_name</th>\n",
       "      <th>birth_year</th>\n",
       "      <th>death_year</th>\n",
       "      <th>primary_profession</th>\n",
       "      <th>known_for_titles</th>\n",
       "    </tr>\n",
       "  </thead>\n",
       "  <tbody>\n",
       "    <tr>\n",
       "      <th>0</th>\n",
       "      <td>nm0061671</td>\n",
       "      <td>Mary Ellen Bauder</td>\n",
       "      <td>NaN</td>\n",
       "      <td>NaN</td>\n",
       "      <td>miscellaneous,production_manager,producer</td>\n",
       "      <td>tt0837562,tt2398241,tt0844471,tt0118553</td>\n",
       "    </tr>\n",
       "    <tr>\n",
       "      <th>1</th>\n",
       "      <td>nm0061865</td>\n",
       "      <td>Joseph Bauer</td>\n",
       "      <td>NaN</td>\n",
       "      <td>NaN</td>\n",
       "      <td>composer,music_department,sound_department</td>\n",
       "      <td>tt0896534,tt6791238,tt0287072,tt1682940</td>\n",
       "    </tr>\n",
       "    <tr>\n",
       "      <th>2</th>\n",
       "      <td>nm0062070</td>\n",
       "      <td>Bruce Baum</td>\n",
       "      <td>NaN</td>\n",
       "      <td>NaN</td>\n",
       "      <td>miscellaneous,actor,writer</td>\n",
       "      <td>tt1470654,tt0363631,tt0104030,tt0102898</td>\n",
       "    </tr>\n",
       "    <tr>\n",
       "      <th>3</th>\n",
       "      <td>nm0062195</td>\n",
       "      <td>Axel Baumann</td>\n",
       "      <td>NaN</td>\n",
       "      <td>NaN</td>\n",
       "      <td>camera_department,cinematographer,art_department</td>\n",
       "      <td>tt0114371,tt2004304,tt1618448,tt1224387</td>\n",
       "    </tr>\n",
       "    <tr>\n",
       "      <th>4</th>\n",
       "      <td>nm0062798</td>\n",
       "      <td>Pete Baxter</td>\n",
       "      <td>NaN</td>\n",
       "      <td>NaN</td>\n",
       "      <td>production_designer,art_department,set_decorator</td>\n",
       "      <td>tt0452644,tt0452692,tt3458030,tt2178256</td>\n",
       "    </tr>\n",
       "  </tbody>\n",
       "</table>\n",
       "</div>"
      ],
      "text/plain": [
       "      nconst       primary_name  birth_year  death_year  \\\n",
       "0  nm0061671  Mary Ellen Bauder         NaN         NaN   \n",
       "1  nm0061865       Joseph Bauer         NaN         NaN   \n",
       "2  nm0062070         Bruce Baum         NaN         NaN   \n",
       "3  nm0062195       Axel Baumann         NaN         NaN   \n",
       "4  nm0062798        Pete Baxter         NaN         NaN   \n",
       "\n",
       "                                 primary_profession  \\\n",
       "0         miscellaneous,production_manager,producer   \n",
       "1        composer,music_department,sound_department   \n",
       "2                        miscellaneous,actor,writer   \n",
       "3  camera_department,cinematographer,art_department   \n",
       "4  production_designer,art_department,set_decorator   \n",
       "\n",
       "                          known_for_titles  \n",
       "0  tt0837562,tt2398241,tt0844471,tt0118553  \n",
       "1  tt0896534,tt6791238,tt0287072,tt1682940  \n",
       "2  tt1470654,tt0363631,tt0104030,tt0102898  \n",
       "3  tt0114371,tt2004304,tt1618448,tt1224387  \n",
       "4  tt0452644,tt0452692,tt3458030,tt2178256  "
      ]
     },
     "metadata": {},
     "output_type": "display_data"
    },
    {
     "name": "stdout",
     "output_type": "stream",
     "text": [
      "\n",
      "---------------------------------------------------------------------------\n",
      "Preview of imdb_title_basics\n"
     ]
    },
    {
     "data": {
      "text/html": [
       "<div>\n",
       "<style scoped>\n",
       "    .dataframe tbody tr th:only-of-type {\n",
       "        vertical-align: middle;\n",
       "    }\n",
       "\n",
       "    .dataframe tbody tr th {\n",
       "        vertical-align: top;\n",
       "    }\n",
       "\n",
       "    .dataframe thead th {\n",
       "        text-align: right;\n",
       "    }\n",
       "</style>\n",
       "<table border=\"1\" class=\"dataframe\">\n",
       "  <thead>\n",
       "    <tr style=\"text-align: right;\">\n",
       "      <th></th>\n",
       "      <th>tconst</th>\n",
       "      <th>primary_title</th>\n",
       "      <th>original_title</th>\n",
       "      <th>start_year</th>\n",
       "      <th>runtime_minutes</th>\n",
       "      <th>genres</th>\n",
       "    </tr>\n",
       "  </thead>\n",
       "  <tbody>\n",
       "    <tr>\n",
       "      <th>0</th>\n",
       "      <td>tt0063540</td>\n",
       "      <td>Sunghursh</td>\n",
       "      <td>Sunghursh</td>\n",
       "      <td>2013</td>\n",
       "      <td>175.0</td>\n",
       "      <td>Action,Crime,Drama</td>\n",
       "    </tr>\n",
       "    <tr>\n",
       "      <th>1</th>\n",
       "      <td>tt0066787</td>\n",
       "      <td>One Day Before the Rainy Season</td>\n",
       "      <td>Ashad Ka Ek Din</td>\n",
       "      <td>2019</td>\n",
       "      <td>114.0</td>\n",
       "      <td>Biography,Drama</td>\n",
       "    </tr>\n",
       "    <tr>\n",
       "      <th>2</th>\n",
       "      <td>tt0069049</td>\n",
       "      <td>The Other Side of the Wind</td>\n",
       "      <td>The Other Side of the Wind</td>\n",
       "      <td>2018</td>\n",
       "      <td>122.0</td>\n",
       "      <td>Drama</td>\n",
       "    </tr>\n",
       "    <tr>\n",
       "      <th>3</th>\n",
       "      <td>tt0069204</td>\n",
       "      <td>Sabse Bada Sukh</td>\n",
       "      <td>Sabse Bada Sukh</td>\n",
       "      <td>2018</td>\n",
       "      <td>NaN</td>\n",
       "      <td>Comedy,Drama</td>\n",
       "    </tr>\n",
       "    <tr>\n",
       "      <th>4</th>\n",
       "      <td>tt0100275</td>\n",
       "      <td>The Wandering Soap Opera</td>\n",
       "      <td>La Telenovela Errante</td>\n",
       "      <td>2017</td>\n",
       "      <td>80.0</td>\n",
       "      <td>Comedy,Drama,Fantasy</td>\n",
       "    </tr>\n",
       "  </tbody>\n",
       "</table>\n",
       "</div>"
      ],
      "text/plain": [
       "      tconst                    primary_title              original_title  \\\n",
       "0  tt0063540                        Sunghursh                   Sunghursh   \n",
       "1  tt0066787  One Day Before the Rainy Season             Ashad Ka Ek Din   \n",
       "2  tt0069049       The Other Side of the Wind  The Other Side of the Wind   \n",
       "3  tt0069204                  Sabse Bada Sukh             Sabse Bada Sukh   \n",
       "4  tt0100275         The Wandering Soap Opera       La Telenovela Errante   \n",
       "\n",
       "   start_year  runtime_minutes                genres  \n",
       "0        2013            175.0    Action,Crime,Drama  \n",
       "1        2019            114.0       Biography,Drama  \n",
       "2        2018            122.0                 Drama  \n",
       "3        2018              NaN          Comedy,Drama  \n",
       "4        2017             80.0  Comedy,Drama,Fantasy  "
      ]
     },
     "metadata": {},
     "output_type": "display_data"
    },
    {
     "name": "stdout",
     "output_type": "stream",
     "text": [
      "\n",
      "---------------------------------------------------------------------------\n",
      "Preview of tn_movie_budgets\n"
     ]
    },
    {
     "data": {
      "text/html": [
       "<div>\n",
       "<style scoped>\n",
       "    .dataframe tbody tr th:only-of-type {\n",
       "        vertical-align: middle;\n",
       "    }\n",
       "\n",
       "    .dataframe tbody tr th {\n",
       "        vertical-align: top;\n",
       "    }\n",
       "\n",
       "    .dataframe thead th {\n",
       "        text-align: right;\n",
       "    }\n",
       "</style>\n",
       "<table border=\"1\" class=\"dataframe\">\n",
       "  <thead>\n",
       "    <tr style=\"text-align: right;\">\n",
       "      <th></th>\n",
       "      <th>id</th>\n",
       "      <th>release_date</th>\n",
       "      <th>movie</th>\n",
       "      <th>production_budget</th>\n",
       "      <th>domestic_gross</th>\n",
       "      <th>worldwide_gross</th>\n",
       "    </tr>\n",
       "  </thead>\n",
       "  <tbody>\n",
       "    <tr>\n",
       "      <th>0</th>\n",
       "      <td>1</td>\n",
       "      <td>Dec 18, 2009</td>\n",
       "      <td>Avatar</td>\n",
       "      <td>$425,000,000</td>\n",
       "      <td>$760,507,625</td>\n",
       "      <td>$2,776,345,279</td>\n",
       "    </tr>\n",
       "    <tr>\n",
       "      <th>1</th>\n",
       "      <td>2</td>\n",
       "      <td>May 20, 2011</td>\n",
       "      <td>Pirates of the Caribbean: On Stranger Tides</td>\n",
       "      <td>$410,600,000</td>\n",
       "      <td>$241,063,875</td>\n",
       "      <td>$1,045,663,875</td>\n",
       "    </tr>\n",
       "    <tr>\n",
       "      <th>2</th>\n",
       "      <td>3</td>\n",
       "      <td>Jun 7, 2019</td>\n",
       "      <td>Dark Phoenix</td>\n",
       "      <td>$350,000,000</td>\n",
       "      <td>$42,762,350</td>\n",
       "      <td>$149,762,350</td>\n",
       "    </tr>\n",
       "    <tr>\n",
       "      <th>3</th>\n",
       "      <td>4</td>\n",
       "      <td>May 1, 2015</td>\n",
       "      <td>Avengers: Age of Ultron</td>\n",
       "      <td>$330,600,000</td>\n",
       "      <td>$459,005,868</td>\n",
       "      <td>$1,403,013,963</td>\n",
       "    </tr>\n",
       "    <tr>\n",
       "      <th>4</th>\n",
       "      <td>5</td>\n",
       "      <td>Dec 15, 2017</td>\n",
       "      <td>Star Wars Ep. VIII: The Last Jedi</td>\n",
       "      <td>$317,000,000</td>\n",
       "      <td>$620,181,382</td>\n",
       "      <td>$1,316,721,747</td>\n",
       "    </tr>\n",
       "  </tbody>\n",
       "</table>\n",
       "</div>"
      ],
      "text/plain": [
       "   id  release_date                                        movie  \\\n",
       "0   1  Dec 18, 2009                                       Avatar   \n",
       "1   2  May 20, 2011  Pirates of the Caribbean: On Stranger Tides   \n",
       "2   3   Jun 7, 2019                                 Dark Phoenix   \n",
       "3   4   May 1, 2015                      Avengers: Age of Ultron   \n",
       "4   5  Dec 15, 2017            Star Wars Ep. VIII: The Last Jedi   \n",
       "\n",
       "  production_budget domestic_gross worldwide_gross  \n",
       "0      $425,000,000   $760,507,625  $2,776,345,279  \n",
       "1      $410,600,000   $241,063,875  $1,045,663,875  \n",
       "2      $350,000,000    $42,762,350    $149,762,350  \n",
       "3      $330,600,000   $459,005,868  $1,403,013,963  \n",
       "4      $317,000,000   $620,181,382  $1,316,721,747  "
      ]
     },
     "metadata": {},
     "output_type": "display_data"
    },
    {
     "name": "stdout",
     "output_type": "stream",
     "text": [
      "\n",
      "---------------------------------------------------------------------------\n",
      "Preview of bom_movie_gross\n"
     ]
    },
    {
     "data": {
      "text/html": [
       "<div>\n",
       "<style scoped>\n",
       "    .dataframe tbody tr th:only-of-type {\n",
       "        vertical-align: middle;\n",
       "    }\n",
       "\n",
       "    .dataframe tbody tr th {\n",
       "        vertical-align: top;\n",
       "    }\n",
       "\n",
       "    .dataframe thead th {\n",
       "        text-align: right;\n",
       "    }\n",
       "</style>\n",
       "<table border=\"1\" class=\"dataframe\">\n",
       "  <thead>\n",
       "    <tr style=\"text-align: right;\">\n",
       "      <th></th>\n",
       "      <th>title</th>\n",
       "      <th>studio</th>\n",
       "      <th>domestic_gross</th>\n",
       "      <th>foreign_gross</th>\n",
       "      <th>year</th>\n",
       "    </tr>\n",
       "  </thead>\n",
       "  <tbody>\n",
       "    <tr>\n",
       "      <th>0</th>\n",
       "      <td>Toy Story 3</td>\n",
       "      <td>BV</td>\n",
       "      <td>415000000.0</td>\n",
       "      <td>652000000</td>\n",
       "      <td>2010</td>\n",
       "    </tr>\n",
       "    <tr>\n",
       "      <th>1</th>\n",
       "      <td>Alice in Wonderland (2010)</td>\n",
       "      <td>BV</td>\n",
       "      <td>334200000.0</td>\n",
       "      <td>691300000</td>\n",
       "      <td>2010</td>\n",
       "    </tr>\n",
       "    <tr>\n",
       "      <th>2</th>\n",
       "      <td>Harry Potter and the Deathly Hallows Part 1</td>\n",
       "      <td>WB</td>\n",
       "      <td>296000000.0</td>\n",
       "      <td>664300000</td>\n",
       "      <td>2010</td>\n",
       "    </tr>\n",
       "    <tr>\n",
       "      <th>3</th>\n",
       "      <td>Inception</td>\n",
       "      <td>WB</td>\n",
       "      <td>292600000.0</td>\n",
       "      <td>535700000</td>\n",
       "      <td>2010</td>\n",
       "    </tr>\n",
       "    <tr>\n",
       "      <th>4</th>\n",
       "      <td>Shrek Forever After</td>\n",
       "      <td>P/DW</td>\n",
       "      <td>238700000.0</td>\n",
       "      <td>513900000</td>\n",
       "      <td>2010</td>\n",
       "    </tr>\n",
       "  </tbody>\n",
       "</table>\n",
       "</div>"
      ],
      "text/plain": [
       "                                         title studio  domestic_gross  \\\n",
       "0                                  Toy Story 3     BV     415000000.0   \n",
       "1                   Alice in Wonderland (2010)     BV     334200000.0   \n",
       "2  Harry Potter and the Deathly Hallows Part 1     WB     296000000.0   \n",
       "3                                    Inception     WB     292600000.0   \n",
       "4                          Shrek Forever After   P/DW     238700000.0   \n",
       "\n",
       "  foreign_gross  year  \n",
       "0     652000000  2010  \n",
       "1     691300000  2010  \n",
       "2     664300000  2010  \n",
       "3     535700000  2010  \n",
       "4     513900000  2010  "
      ]
     },
     "metadata": {},
     "output_type": "display_data"
    },
    {
     "name": "stdout",
     "output_type": "stream",
     "text": [
      "\n",
      "---------------------------------------------------------------------------\n",
      "Preview of imdb_title_principals\n"
     ]
    },
    {
     "data": {
      "text/html": [
       "<div>\n",
       "<style scoped>\n",
       "    .dataframe tbody tr th:only-of-type {\n",
       "        vertical-align: middle;\n",
       "    }\n",
       "\n",
       "    .dataframe tbody tr th {\n",
       "        vertical-align: top;\n",
       "    }\n",
       "\n",
       "    .dataframe thead th {\n",
       "        text-align: right;\n",
       "    }\n",
       "</style>\n",
       "<table border=\"1\" class=\"dataframe\">\n",
       "  <thead>\n",
       "    <tr style=\"text-align: right;\">\n",
       "      <th></th>\n",
       "      <th>tconst</th>\n",
       "      <th>ordering</th>\n",
       "      <th>nconst</th>\n",
       "      <th>category</th>\n",
       "      <th>job</th>\n",
       "      <th>characters</th>\n",
       "    </tr>\n",
       "  </thead>\n",
       "  <tbody>\n",
       "    <tr>\n",
       "      <th>0</th>\n",
       "      <td>tt0111414</td>\n",
       "      <td>1</td>\n",
       "      <td>nm0246005</td>\n",
       "      <td>actor</td>\n",
       "      <td>NaN</td>\n",
       "      <td>[\"The Man\"]</td>\n",
       "    </tr>\n",
       "    <tr>\n",
       "      <th>1</th>\n",
       "      <td>tt0111414</td>\n",
       "      <td>2</td>\n",
       "      <td>nm0398271</td>\n",
       "      <td>director</td>\n",
       "      <td>NaN</td>\n",
       "      <td>NaN</td>\n",
       "    </tr>\n",
       "    <tr>\n",
       "      <th>2</th>\n",
       "      <td>tt0111414</td>\n",
       "      <td>3</td>\n",
       "      <td>nm3739909</td>\n",
       "      <td>producer</td>\n",
       "      <td>producer</td>\n",
       "      <td>NaN</td>\n",
       "    </tr>\n",
       "    <tr>\n",
       "      <th>3</th>\n",
       "      <td>tt0323808</td>\n",
       "      <td>10</td>\n",
       "      <td>nm0059247</td>\n",
       "      <td>editor</td>\n",
       "      <td>NaN</td>\n",
       "      <td>NaN</td>\n",
       "    </tr>\n",
       "    <tr>\n",
       "      <th>4</th>\n",
       "      <td>tt0323808</td>\n",
       "      <td>1</td>\n",
       "      <td>nm3579312</td>\n",
       "      <td>actress</td>\n",
       "      <td>NaN</td>\n",
       "      <td>[\"Beth Boothby\"]</td>\n",
       "    </tr>\n",
       "  </tbody>\n",
       "</table>\n",
       "</div>"
      ],
      "text/plain": [
       "      tconst  ordering     nconst  category       job        characters\n",
       "0  tt0111414         1  nm0246005     actor       NaN       [\"The Man\"]\n",
       "1  tt0111414         2  nm0398271  director       NaN               NaN\n",
       "2  tt0111414         3  nm3739909  producer  producer               NaN\n",
       "3  tt0323808        10  nm0059247    editor       NaN               NaN\n",
       "4  tt0323808         1  nm3579312   actress       NaN  [\"Beth Boothby\"]"
      ]
     },
     "metadata": {},
     "output_type": "display_data"
    },
    {
     "name": "stdout",
     "output_type": "stream",
     "text": [
      "\n"
     ]
    }
   ],
   "source": [
    "tables = {}\n",
    "dashes='---'*25\n",
    "\n",
    "for file in files:\n",
    "    ## Save a variable-friendly version of the file name\n",
    "    table_name = file.replace('.csv.gz','').split('/')[-1].replace('.','_')\n",
    "    print(dashes)\n",
    "    \n",
    "    ## Load and preview dataframe\n",
    "    print(f\"Preview of {table_name}\")\n",
    "    tables[table_name] = pd.read_csv(file)\n",
    "    display(tables[table_name].head(5))\n",
    "    print()"
   ]
  },
  {
   "cell_type": "markdown",
   "metadata": {},
   "source": [
    "Trying to get the merge between movies and directors"
   ]
  },
  {
   "cell_type": "code",
   "execution_count": 7,
   "metadata": {},
   "outputs": [
    {
     "ename": "NameError",
     "evalue": "name 'imdb_name_basics' is not defined",
     "output_type": "error",
     "traceback": [
      "\u001b[0;31m---------------------------------------------------------------------------\u001b[0m",
      "\u001b[0;31mNameError\u001b[0m                                 Traceback (most recent call last)",
      "\u001b[0;32m<ipython-input-7-f35520abb638>\u001b[0m in \u001b[0;36m<module>\u001b[0;34m\u001b[0m\n\u001b[0;32m----> 1\u001b[0;31m \u001b[0mname_titles\u001b[0m \u001b[0;34m=\u001b[0m \u001b[0mimdb_name_basics\u001b[0m\u001b[0;34m.\u001b[0m\u001b[0mmerge\u001b[0m\u001b[0;34m(\u001b[0m\u001b[0mimdb_title_principals\u001b[0m\u001b[0;34m,\u001b[0m \u001b[0mhow\u001b[0m\u001b[0;34m=\u001b[0m\u001b[0;34m'left'\u001b[0m\u001b[0;34m,\u001b[0m \u001b[0mon\u001b[0m\u001b[0;34m=\u001b[0m\u001b[0;34m'nconst'\u001b[0m\u001b[0;34m)\u001b[0m\u001b[0;34m\u001b[0m\u001b[0;34m\u001b[0m\u001b[0m\n\u001b[0m\u001b[1;32m      2\u001b[0m \u001b[0mname_titles\u001b[0m\u001b[0;34m.\u001b[0m\u001b[0mhead\u001b[0m\u001b[0;34m(\u001b[0m\u001b[0;34m)\u001b[0m\u001b[0;34m\u001b[0m\u001b[0;34m\u001b[0m\u001b[0m\n",
      "\u001b[0;31mNameError\u001b[0m: name 'imdb_name_basics' is not defined"
     ]
    }
   ],
   "source": [
    "name_titles = imdb_name_basics.merge(imdb_title_principals, how='left', on='nconst')\n",
    "name_titles.head()"
   ]
  },
  {
   "cell_type": "code",
   "execution_count": null,
   "metadata": {},
   "outputs": [],
   "source": [
    "names_movies = imdb_title_akas.merge(name_titles, how='inner', left_on='title_id', right_on='tconst')\n",
    "names_movies.head()"
   ]
  },
  {
   "cell_type": "code",
   "execution_count": null,
   "metadata": {},
   "outputs": [],
   "source": [
    "names_movies = names_movies[names_movies['category'] == 'director']\n",
    "names_movies.head()\n",
    "len(names_movies)"
   ]
  },
  {
   "cell_type": "code",
   "execution_count": null,
   "metadata": {},
   "outputs": [],
   "source": [
    "names_movies = names_movies.drop_duplicates(subset=['title', 'primary_name'])\n",
    "len(names_movies)"
   ]
  },
  {
   "cell_type": "code",
   "execution_count": null,
   "metadata": {},
   "outputs": [],
   "source": [
    "names_movies.isna().sum()"
   ]
  },
  {
   "cell_type": "code",
   "execution_count": null,
   "metadata": {},
   "outputs": [],
   "source": [
    "budgets_direct1 = tn_movie_budgets.merge(names_movies, how='inner', left_on='movie', right_on='title')"
   ]
  },
  {
   "cell_type": "code",
   "execution_count": null,
   "metadata": {},
   "outputs": [],
   "source": [
    "budgets_direct1.head()\n",
    "budgets_direct1 = budgets_direct1.drop_duplicates(subset='movie')"
   ]
  },
  {
   "cell_type": "code",
   "execution_count": null,
   "metadata": {},
   "outputs": [],
   "source": [
    "budgets_direct1"
   ]
  },
  {
   "cell_type": "code",
   "execution_count": null,
   "metadata": {},
   "outputs": [],
   "source": [
    "budgets_direct1['year'] = budgets_direct1['release_date'].map(lambda x: x[-4:])"
   ]
  },
  {
   "cell_type": "code",
   "execution_count": null,
   "metadata": {},
   "outputs": [],
   "source": [
    "budgets_direct1['year'] = budgets_direct1['year'].astype('int')"
   ]
  },
  {
   "cell_type": "code",
   "execution_count": null,
   "metadata": {},
   "outputs": [],
   "source": [
    "budgets_direct1 = budgets_direct1[budgets_direct1['year'] > 2000]"
   ]
  },
  {
   "cell_type": "code",
   "execution_count": null,
   "metadata": {},
   "outputs": [],
   "source": [
    "budgets_direct1 = budgets_direct1[budgets_direct1['production_budget'] > 20000000]"
   ]
  },
  {
   "cell_type": "code",
   "execution_count": null,
   "metadata": {},
   "outputs": [],
   "source": [
    "grouped3 = budgets_direct1.groupby('primary_name')[['production_budget','domestic_gross', 'worldwide_gross']].mean()\n",
    "grouped3 = grouped3[grouped3['domestic_gross']>300000000]\n",
    "grouped3 = grouped3.reset_index()\n",
    "grouped3.head()"
   ]
  },
  {
   "cell_type": "code",
   "execution_count": null,
   "metadata": {},
   "outputs": [],
   "source": [
    "grouped4 = budgets_direct1.groupby('primary_name')[['production_budget','domestic_gross', 'worldwide_gross']].sum()\n",
    "grouped4 = grouped4[grouped4['domestic_gross']>500000000]\n",
    "grouped4 = grouped4.reset_index()\n",
    "len(grouped4)"
   ]
  },
  {
   "cell_type": "code",
   "execution_count": null,
   "metadata": {},
   "outputs": [],
   "source": [
    "fig, (ax1, ax2) = plt.subplots(figsize= (13,5), nrows=1, ncols=2)\n",
    "\n",
    "ax1 = sns.barplot(data=grouped3, x='domestic_gross', y='primary_name', palette='flare', ax=ax1)\n",
    "ax1.set_title('Top Directors by Average Domestic Gross')\n",
    "ax1.set_xlabel('Domestic Gross ($ hundreds of millions)')\n",
    "ax1.set_ylabel('Director')\n",
    "\n",
    "ax2 = sns.barplot(data=grouped4, x='domestic_gross', y='primary_name', palette='flare', ax=ax2)\n",
    "ax2.set_title('Top Directors by Total Domestic Gross')\n",
    "ax2.set_xlabel('Domestic Gross ($ billions)')\n",
    "ax2.set_ylabel('Director')\n",
    "\n",
    "\n",
    "\n",
    "fig.tight_layout()"
   ]
  },
  {
   "cell_type": "markdown",
   "metadata": {},
   "source": [
    "## Work on turning the groupby into an easy function"
   ]
  },
  {
   "cell_type": "markdown",
   "metadata": {},
   "source": [
    "### quick description of each file: where I see value\n",
    "\n",
    "imdb_title_crew - value if I can see how directors/writers are linked to movies\n",
    "\n",
    "tmdb_movies - nothing really here, maybe genre_ids\n",
    "\n",
    "imdb_title_akas - needed to join to IMDB base because title_id\n",
    "\n",
    "imdb_title_ratings - not necessary\n",
    "\n",
    "imdb_name_basics - can weed out directors/known for can use for movies and then join\n",
    "\n",
    "imdb_title_basics - useful for runtime and genres\n",
    "\n",
    "tn_movie_budgets - good for release date (seasons) and profit margin\n",
    "\n",
    "bom_movie_gross - ^ is superior\n",
    "\n",
    "imdb_title_principals - can use to figure out director/actor/producer. might be better than imdb_name_basics\n"
   ]
  },
  {
   "cell_type": "code",
   "execution_count": 8,
   "metadata": {},
   "outputs": [
    {
     "data": {
      "text/html": [
       "<div>\n",
       "<style scoped>\n",
       "    .dataframe tbody tr th:only-of-type {\n",
       "        vertical-align: middle;\n",
       "    }\n",
       "\n",
       "    .dataframe tbody tr th {\n",
       "        vertical-align: top;\n",
       "    }\n",
       "\n",
       "    .dataframe thead th {\n",
       "        text-align: right;\n",
       "    }\n",
       "</style>\n",
       "<table border=\"1\" class=\"dataframe\">\n",
       "  <thead>\n",
       "    <tr style=\"text-align: right;\">\n",
       "      <th></th>\n",
       "      <th>tconst</th>\n",
       "      <th>directors</th>\n",
       "      <th>writers</th>\n",
       "    </tr>\n",
       "  </thead>\n",
       "  <tbody>\n",
       "    <tr>\n",
       "      <th>0</th>\n",
       "      <td>tt0285252</td>\n",
       "      <td>nm0899854</td>\n",
       "      <td>nm0899854</td>\n",
       "    </tr>\n",
       "    <tr>\n",
       "      <th>1</th>\n",
       "      <td>tt0438973</td>\n",
       "      <td>NaN</td>\n",
       "      <td>nm0175726,nm1802864</td>\n",
       "    </tr>\n",
       "    <tr>\n",
       "      <th>2</th>\n",
       "      <td>tt0462036</td>\n",
       "      <td>nm1940585</td>\n",
       "      <td>nm1940585</td>\n",
       "    </tr>\n",
       "    <tr>\n",
       "      <th>3</th>\n",
       "      <td>tt0835418</td>\n",
       "      <td>nm0151540</td>\n",
       "      <td>nm0310087,nm0841532</td>\n",
       "    </tr>\n",
       "    <tr>\n",
       "      <th>4</th>\n",
       "      <td>tt0878654</td>\n",
       "      <td>nm0089502,nm2291498,nm2292011</td>\n",
       "      <td>nm0284943</td>\n",
       "    </tr>\n",
       "  </tbody>\n",
       "</table>\n",
       "</div>"
      ],
      "text/plain": [
       "      tconst                      directors              writers\n",
       "0  tt0285252                      nm0899854            nm0899854\n",
       "1  tt0438973                            NaN  nm0175726,nm1802864\n",
       "2  tt0462036                      nm1940585            nm1940585\n",
       "3  tt0835418                      nm0151540  nm0310087,nm0841532\n",
       "4  tt0878654  nm0089502,nm2291498,nm2292011            nm0284943"
      ]
     },
     "execution_count": 8,
     "metadata": {},
     "output_type": "execute_result"
    }
   ],
   "source": [
    "filepath0 = files[0]\n",
    "imdb_title_crew = pd.read_csv(filepath0)\n",
    "imdb_title_crew.head()"
   ]
  },
  {
   "cell_type": "code",
   "execution_count": 9,
   "metadata": {},
   "outputs": [
    {
     "data": {
      "text/html": [
       "<div>\n",
       "<style scoped>\n",
       "    .dataframe tbody tr th:only-of-type {\n",
       "        vertical-align: middle;\n",
       "    }\n",
       "\n",
       "    .dataframe tbody tr th {\n",
       "        vertical-align: top;\n",
       "    }\n",
       "\n",
       "    .dataframe thead th {\n",
       "        text-align: right;\n",
       "    }\n",
       "</style>\n",
       "<table border=\"1\" class=\"dataframe\">\n",
       "  <thead>\n",
       "    <tr style=\"text-align: right;\">\n",
       "      <th></th>\n",
       "      <th>Unnamed: 0</th>\n",
       "      <th>genre_ids</th>\n",
       "      <th>id</th>\n",
       "      <th>original_language</th>\n",
       "      <th>original_title</th>\n",
       "      <th>popularity</th>\n",
       "      <th>release_date</th>\n",
       "      <th>title</th>\n",
       "      <th>vote_average</th>\n",
       "      <th>vote_count</th>\n",
       "    </tr>\n",
       "  </thead>\n",
       "  <tbody>\n",
       "    <tr>\n",
       "      <th>0</th>\n",
       "      <td>0</td>\n",
       "      <td>[12, 14, 10751]</td>\n",
       "      <td>12444</td>\n",
       "      <td>en</td>\n",
       "      <td>Harry Potter and the Deathly Hallows: Part 1</td>\n",
       "      <td>33.533</td>\n",
       "      <td>2010-11-19</td>\n",
       "      <td>Harry Potter and the Deathly Hallows: Part 1</td>\n",
       "      <td>7.7</td>\n",
       "      <td>10788</td>\n",
       "    </tr>\n",
       "    <tr>\n",
       "      <th>1</th>\n",
       "      <td>1</td>\n",
       "      <td>[14, 12, 16, 10751]</td>\n",
       "      <td>10191</td>\n",
       "      <td>en</td>\n",
       "      <td>How to Train Your Dragon</td>\n",
       "      <td>28.734</td>\n",
       "      <td>2010-03-26</td>\n",
       "      <td>How to Train Your Dragon</td>\n",
       "      <td>7.7</td>\n",
       "      <td>7610</td>\n",
       "    </tr>\n",
       "    <tr>\n",
       "      <th>2</th>\n",
       "      <td>2</td>\n",
       "      <td>[12, 28, 878]</td>\n",
       "      <td>10138</td>\n",
       "      <td>en</td>\n",
       "      <td>Iron Man 2</td>\n",
       "      <td>28.515</td>\n",
       "      <td>2010-05-07</td>\n",
       "      <td>Iron Man 2</td>\n",
       "      <td>6.8</td>\n",
       "      <td>12368</td>\n",
       "    </tr>\n",
       "    <tr>\n",
       "      <th>3</th>\n",
       "      <td>3</td>\n",
       "      <td>[16, 35, 10751]</td>\n",
       "      <td>862</td>\n",
       "      <td>en</td>\n",
       "      <td>Toy Story</td>\n",
       "      <td>28.005</td>\n",
       "      <td>1995-11-22</td>\n",
       "      <td>Toy Story</td>\n",
       "      <td>7.9</td>\n",
       "      <td>10174</td>\n",
       "    </tr>\n",
       "    <tr>\n",
       "      <th>4</th>\n",
       "      <td>4</td>\n",
       "      <td>[28, 878, 12]</td>\n",
       "      <td>27205</td>\n",
       "      <td>en</td>\n",
       "      <td>Inception</td>\n",
       "      <td>27.920</td>\n",
       "      <td>2010-07-16</td>\n",
       "      <td>Inception</td>\n",
       "      <td>8.3</td>\n",
       "      <td>22186</td>\n",
       "    </tr>\n",
       "  </tbody>\n",
       "</table>\n",
       "</div>"
      ],
      "text/plain": [
       "   Unnamed: 0            genre_ids     id original_language  \\\n",
       "0           0      [12, 14, 10751]  12444                en   \n",
       "1           1  [14, 12, 16, 10751]  10191                en   \n",
       "2           2        [12, 28, 878]  10138                en   \n",
       "3           3      [16, 35, 10751]    862                en   \n",
       "4           4        [28, 878, 12]  27205                en   \n",
       "\n",
       "                                 original_title  popularity release_date  \\\n",
       "0  Harry Potter and the Deathly Hallows: Part 1      33.533   2010-11-19   \n",
       "1                      How to Train Your Dragon      28.734   2010-03-26   \n",
       "2                                    Iron Man 2      28.515   2010-05-07   \n",
       "3                                     Toy Story      28.005   1995-11-22   \n",
       "4                                     Inception      27.920   2010-07-16   \n",
       "\n",
       "                                          title  vote_average  vote_count  \n",
       "0  Harry Potter and the Deathly Hallows: Part 1           7.7       10788  \n",
       "1                      How to Train Your Dragon           7.7        7610  \n",
       "2                                    Iron Man 2           6.8       12368  \n",
       "3                                     Toy Story           7.9       10174  \n",
       "4                                     Inception           8.3       22186  "
      ]
     },
     "execution_count": 9,
     "metadata": {},
     "output_type": "execute_result"
    }
   ],
   "source": [
    "filepath1 = files[1]\n",
    "tmdb_movies = pd.read_csv(filepath1)\n",
    "tmdb_movies.head()"
   ]
  },
  {
   "cell_type": "code",
   "execution_count": 10,
   "metadata": {},
   "outputs": [
    {
     "data": {
      "text/html": [
       "<div>\n",
       "<style scoped>\n",
       "    .dataframe tbody tr th:only-of-type {\n",
       "        vertical-align: middle;\n",
       "    }\n",
       "\n",
       "    .dataframe tbody tr th {\n",
       "        vertical-align: top;\n",
       "    }\n",
       "\n",
       "    .dataframe thead th {\n",
       "        text-align: right;\n",
       "    }\n",
       "</style>\n",
       "<table border=\"1\" class=\"dataframe\">\n",
       "  <thead>\n",
       "    <tr style=\"text-align: right;\">\n",
       "      <th></th>\n",
       "      <th>title_id</th>\n",
       "      <th>ordering</th>\n",
       "      <th>title</th>\n",
       "      <th>region</th>\n",
       "      <th>language</th>\n",
       "      <th>types</th>\n",
       "      <th>attributes</th>\n",
       "      <th>is_original_title</th>\n",
       "    </tr>\n",
       "  </thead>\n",
       "  <tbody>\n",
       "    <tr>\n",
       "      <th>0</th>\n",
       "      <td>tt0369610</td>\n",
       "      <td>10</td>\n",
       "      <td>Джурасик свят</td>\n",
       "      <td>BG</td>\n",
       "      <td>bg</td>\n",
       "      <td>NaN</td>\n",
       "      <td>NaN</td>\n",
       "      <td>0.0</td>\n",
       "    </tr>\n",
       "    <tr>\n",
       "      <th>1</th>\n",
       "      <td>tt0369610</td>\n",
       "      <td>11</td>\n",
       "      <td>Jurashikku warudo</td>\n",
       "      <td>JP</td>\n",
       "      <td>NaN</td>\n",
       "      <td>imdbDisplay</td>\n",
       "      <td>NaN</td>\n",
       "      <td>0.0</td>\n",
       "    </tr>\n",
       "    <tr>\n",
       "      <th>2</th>\n",
       "      <td>tt0369610</td>\n",
       "      <td>12</td>\n",
       "      <td>Jurassic World: O Mundo dos Dinossauros</td>\n",
       "      <td>BR</td>\n",
       "      <td>NaN</td>\n",
       "      <td>imdbDisplay</td>\n",
       "      <td>NaN</td>\n",
       "      <td>0.0</td>\n",
       "    </tr>\n",
       "    <tr>\n",
       "      <th>3</th>\n",
       "      <td>tt0369610</td>\n",
       "      <td>13</td>\n",
       "      <td>O Mundo dos Dinossauros</td>\n",
       "      <td>BR</td>\n",
       "      <td>NaN</td>\n",
       "      <td>NaN</td>\n",
       "      <td>short title</td>\n",
       "      <td>0.0</td>\n",
       "    </tr>\n",
       "    <tr>\n",
       "      <th>4</th>\n",
       "      <td>tt0369610</td>\n",
       "      <td>14</td>\n",
       "      <td>Jurassic World</td>\n",
       "      <td>FR</td>\n",
       "      <td>NaN</td>\n",
       "      <td>imdbDisplay</td>\n",
       "      <td>NaN</td>\n",
       "      <td>0.0</td>\n",
       "    </tr>\n",
       "  </tbody>\n",
       "</table>\n",
       "</div>"
      ],
      "text/plain": [
       "    title_id  ordering                                    title region  \\\n",
       "0  tt0369610        10                            Джурасик свят     BG   \n",
       "1  tt0369610        11                        Jurashikku warudo     JP   \n",
       "2  tt0369610        12  Jurassic World: O Mundo dos Dinossauros     BR   \n",
       "3  tt0369610        13                  O Mundo dos Dinossauros     BR   \n",
       "4  tt0369610        14                           Jurassic World     FR   \n",
       "\n",
       "  language        types   attributes  is_original_title  \n",
       "0       bg          NaN          NaN                0.0  \n",
       "1      NaN  imdbDisplay          NaN                0.0  \n",
       "2      NaN  imdbDisplay          NaN                0.0  \n",
       "3      NaN          NaN  short title                0.0  \n",
       "4      NaN  imdbDisplay          NaN                0.0  "
      ]
     },
     "execution_count": 10,
     "metadata": {},
     "output_type": "execute_result"
    }
   ],
   "source": [
    "filepath2 = files[2]\n",
    "imdb_title_akas = pd.read_csv(filepath2)\n",
    "imdb_title_akas.head()"
   ]
  },
  {
   "cell_type": "code",
   "execution_count": 11,
   "metadata": {},
   "outputs": [
    {
     "data": {
      "text/html": [
       "<div>\n",
       "<style scoped>\n",
       "    .dataframe tbody tr th:only-of-type {\n",
       "        vertical-align: middle;\n",
       "    }\n",
       "\n",
       "    .dataframe tbody tr th {\n",
       "        vertical-align: top;\n",
       "    }\n",
       "\n",
       "    .dataframe thead th {\n",
       "        text-align: right;\n",
       "    }\n",
       "</style>\n",
       "<table border=\"1\" class=\"dataframe\">\n",
       "  <thead>\n",
       "    <tr style=\"text-align: right;\">\n",
       "      <th></th>\n",
       "      <th>tconst</th>\n",
       "      <th>averagerating</th>\n",
       "      <th>numvotes</th>\n",
       "    </tr>\n",
       "  </thead>\n",
       "  <tbody>\n",
       "    <tr>\n",
       "      <th>0</th>\n",
       "      <td>tt10356526</td>\n",
       "      <td>8.3</td>\n",
       "      <td>31</td>\n",
       "    </tr>\n",
       "    <tr>\n",
       "      <th>1</th>\n",
       "      <td>tt10384606</td>\n",
       "      <td>8.9</td>\n",
       "      <td>559</td>\n",
       "    </tr>\n",
       "    <tr>\n",
       "      <th>2</th>\n",
       "      <td>tt1042974</td>\n",
       "      <td>6.4</td>\n",
       "      <td>20</td>\n",
       "    </tr>\n",
       "    <tr>\n",
       "      <th>3</th>\n",
       "      <td>tt1043726</td>\n",
       "      <td>4.2</td>\n",
       "      <td>50352</td>\n",
       "    </tr>\n",
       "    <tr>\n",
       "      <th>4</th>\n",
       "      <td>tt1060240</td>\n",
       "      <td>6.5</td>\n",
       "      <td>21</td>\n",
       "    </tr>\n",
       "  </tbody>\n",
       "</table>\n",
       "</div>"
      ],
      "text/plain": [
       "       tconst  averagerating  numvotes\n",
       "0  tt10356526            8.3        31\n",
       "1  tt10384606            8.9       559\n",
       "2   tt1042974            6.4        20\n",
       "3   tt1043726            4.2     50352\n",
       "4   tt1060240            6.5        21"
      ]
     },
     "execution_count": 11,
     "metadata": {},
     "output_type": "execute_result"
    }
   ],
   "source": [
    "filepath3 = files[3]\n",
    "imdb_title_ratings = pd.read_csv(filepath3)\n",
    "imdb_title_ratings.head()"
   ]
  },
  {
   "cell_type": "code",
   "execution_count": 12,
   "metadata": {},
   "outputs": [
    {
     "data": {
      "text/html": [
       "<div>\n",
       "<style scoped>\n",
       "    .dataframe tbody tr th:only-of-type {\n",
       "        vertical-align: middle;\n",
       "    }\n",
       "\n",
       "    .dataframe tbody tr th {\n",
       "        vertical-align: top;\n",
       "    }\n",
       "\n",
       "    .dataframe thead th {\n",
       "        text-align: right;\n",
       "    }\n",
       "</style>\n",
       "<table border=\"1\" class=\"dataframe\">\n",
       "  <thead>\n",
       "    <tr style=\"text-align: right;\">\n",
       "      <th></th>\n",
       "      <th>nconst</th>\n",
       "      <th>primary_name</th>\n",
       "      <th>birth_year</th>\n",
       "      <th>death_year</th>\n",
       "      <th>primary_profession</th>\n",
       "      <th>known_for_titles</th>\n",
       "    </tr>\n",
       "  </thead>\n",
       "  <tbody>\n",
       "    <tr>\n",
       "      <th>0</th>\n",
       "      <td>nm0061671</td>\n",
       "      <td>Mary Ellen Bauder</td>\n",
       "      <td>NaN</td>\n",
       "      <td>NaN</td>\n",
       "      <td>miscellaneous,production_manager,producer</td>\n",
       "      <td>tt0837562,tt2398241,tt0844471,tt0118553</td>\n",
       "    </tr>\n",
       "    <tr>\n",
       "      <th>1</th>\n",
       "      <td>nm0061865</td>\n",
       "      <td>Joseph Bauer</td>\n",
       "      <td>NaN</td>\n",
       "      <td>NaN</td>\n",
       "      <td>composer,music_department,sound_department</td>\n",
       "      <td>tt0896534,tt6791238,tt0287072,tt1682940</td>\n",
       "    </tr>\n",
       "    <tr>\n",
       "      <th>2</th>\n",
       "      <td>nm0062070</td>\n",
       "      <td>Bruce Baum</td>\n",
       "      <td>NaN</td>\n",
       "      <td>NaN</td>\n",
       "      <td>miscellaneous,actor,writer</td>\n",
       "      <td>tt1470654,tt0363631,tt0104030,tt0102898</td>\n",
       "    </tr>\n",
       "    <tr>\n",
       "      <th>3</th>\n",
       "      <td>nm0062195</td>\n",
       "      <td>Axel Baumann</td>\n",
       "      <td>NaN</td>\n",
       "      <td>NaN</td>\n",
       "      <td>camera_department,cinematographer,art_department</td>\n",
       "      <td>tt0114371,tt2004304,tt1618448,tt1224387</td>\n",
       "    </tr>\n",
       "    <tr>\n",
       "      <th>4</th>\n",
       "      <td>nm0062798</td>\n",
       "      <td>Pete Baxter</td>\n",
       "      <td>NaN</td>\n",
       "      <td>NaN</td>\n",
       "      <td>production_designer,art_department,set_decorator</td>\n",
       "      <td>tt0452644,tt0452692,tt3458030,tt2178256</td>\n",
       "    </tr>\n",
       "  </tbody>\n",
       "</table>\n",
       "</div>"
      ],
      "text/plain": [
       "      nconst       primary_name  birth_year  death_year  \\\n",
       "0  nm0061671  Mary Ellen Bauder         NaN         NaN   \n",
       "1  nm0061865       Joseph Bauer         NaN         NaN   \n",
       "2  nm0062070         Bruce Baum         NaN         NaN   \n",
       "3  nm0062195       Axel Baumann         NaN         NaN   \n",
       "4  nm0062798        Pete Baxter         NaN         NaN   \n",
       "\n",
       "                                 primary_profession  \\\n",
       "0         miscellaneous,production_manager,producer   \n",
       "1        composer,music_department,sound_department   \n",
       "2                        miscellaneous,actor,writer   \n",
       "3  camera_department,cinematographer,art_department   \n",
       "4  production_designer,art_department,set_decorator   \n",
       "\n",
       "                          known_for_titles  \n",
       "0  tt0837562,tt2398241,tt0844471,tt0118553  \n",
       "1  tt0896534,tt6791238,tt0287072,tt1682940  \n",
       "2  tt1470654,tt0363631,tt0104030,tt0102898  \n",
       "3  tt0114371,tt2004304,tt1618448,tt1224387  \n",
       "4  tt0452644,tt0452692,tt3458030,tt2178256  "
      ]
     },
     "execution_count": 12,
     "metadata": {},
     "output_type": "execute_result"
    }
   ],
   "source": [
    "filepath4 = files[4]\n",
    "imdb_name_basics = pd.read_csv(filepath4)\n",
    "imdb_name_basics.head()"
   ]
  },
  {
   "cell_type": "code",
   "execution_count": 13,
   "metadata": {},
   "outputs": [
    {
     "data": {
      "text/html": [
       "<div>\n",
       "<style scoped>\n",
       "    .dataframe tbody tr th:only-of-type {\n",
       "        vertical-align: middle;\n",
       "    }\n",
       "\n",
       "    .dataframe tbody tr th {\n",
       "        vertical-align: top;\n",
       "    }\n",
       "\n",
       "    .dataframe thead th {\n",
       "        text-align: right;\n",
       "    }\n",
       "</style>\n",
       "<table border=\"1\" class=\"dataframe\">\n",
       "  <thead>\n",
       "    <tr style=\"text-align: right;\">\n",
       "      <th></th>\n",
       "      <th>tconst</th>\n",
       "      <th>primary_title</th>\n",
       "      <th>original_title</th>\n",
       "      <th>start_year</th>\n",
       "      <th>runtime_minutes</th>\n",
       "      <th>genres</th>\n",
       "    </tr>\n",
       "  </thead>\n",
       "  <tbody>\n",
       "    <tr>\n",
       "      <th>0</th>\n",
       "      <td>tt0063540</td>\n",
       "      <td>Sunghursh</td>\n",
       "      <td>Sunghursh</td>\n",
       "      <td>2013</td>\n",
       "      <td>175.0</td>\n",
       "      <td>Action,Crime,Drama</td>\n",
       "    </tr>\n",
       "    <tr>\n",
       "      <th>1</th>\n",
       "      <td>tt0066787</td>\n",
       "      <td>One Day Before the Rainy Season</td>\n",
       "      <td>Ashad Ka Ek Din</td>\n",
       "      <td>2019</td>\n",
       "      <td>114.0</td>\n",
       "      <td>Biography,Drama</td>\n",
       "    </tr>\n",
       "    <tr>\n",
       "      <th>2</th>\n",
       "      <td>tt0069049</td>\n",
       "      <td>The Other Side of the Wind</td>\n",
       "      <td>The Other Side of the Wind</td>\n",
       "      <td>2018</td>\n",
       "      <td>122.0</td>\n",
       "      <td>Drama</td>\n",
       "    </tr>\n",
       "    <tr>\n",
       "      <th>3</th>\n",
       "      <td>tt0069204</td>\n",
       "      <td>Sabse Bada Sukh</td>\n",
       "      <td>Sabse Bada Sukh</td>\n",
       "      <td>2018</td>\n",
       "      <td>NaN</td>\n",
       "      <td>Comedy,Drama</td>\n",
       "    </tr>\n",
       "    <tr>\n",
       "      <th>4</th>\n",
       "      <td>tt0100275</td>\n",
       "      <td>The Wandering Soap Opera</td>\n",
       "      <td>La Telenovela Errante</td>\n",
       "      <td>2017</td>\n",
       "      <td>80.0</td>\n",
       "      <td>Comedy,Drama,Fantasy</td>\n",
       "    </tr>\n",
       "  </tbody>\n",
       "</table>\n",
       "</div>"
      ],
      "text/plain": [
       "      tconst                    primary_title              original_title  \\\n",
       "0  tt0063540                        Sunghursh                   Sunghursh   \n",
       "1  tt0066787  One Day Before the Rainy Season             Ashad Ka Ek Din   \n",
       "2  tt0069049       The Other Side of the Wind  The Other Side of the Wind   \n",
       "3  tt0069204                  Sabse Bada Sukh             Sabse Bada Sukh   \n",
       "4  tt0100275         The Wandering Soap Opera       La Telenovela Errante   \n",
       "\n",
       "   start_year  runtime_minutes                genres  \n",
       "0        2013            175.0    Action,Crime,Drama  \n",
       "1        2019            114.0       Biography,Drama  \n",
       "2        2018            122.0                 Drama  \n",
       "3        2018              NaN          Comedy,Drama  \n",
       "4        2017             80.0  Comedy,Drama,Fantasy  "
      ]
     },
     "execution_count": 13,
     "metadata": {},
     "output_type": "execute_result"
    }
   ],
   "source": [
    "filepath5 = files[5]\n",
    "imdb_title_basics = pd.read_csv(filepath5)\n",
    "imdb_title_basics.head()"
   ]
  },
  {
   "cell_type": "code",
   "execution_count": 10,
   "metadata": {},
   "outputs": [
    {
     "data": {
      "text/html": [
       "<div>\n",
       "<style scoped>\n",
       "    .dataframe tbody tr th:only-of-type {\n",
       "        vertical-align: middle;\n",
       "    }\n",
       "\n",
       "    .dataframe tbody tr th {\n",
       "        vertical-align: top;\n",
       "    }\n",
       "\n",
       "    .dataframe thead th {\n",
       "        text-align: right;\n",
       "    }\n",
       "</style>\n",
       "<table border=\"1\" class=\"dataframe\">\n",
       "  <thead>\n",
       "    <tr style=\"text-align: right;\">\n",
       "      <th></th>\n",
       "      <th>id</th>\n",
       "      <th>release_date</th>\n",
       "      <th>movie</th>\n",
       "      <th>production_budget</th>\n",
       "      <th>domestic_gross</th>\n",
       "      <th>worldwide_gross</th>\n",
       "    </tr>\n",
       "  </thead>\n",
       "  <tbody>\n",
       "    <tr>\n",
       "      <th>0</th>\n",
       "      <td>1</td>\n",
       "      <td>Dec 18, 2009</td>\n",
       "      <td>Avatar</td>\n",
       "      <td>$425,000,000</td>\n",
       "      <td>$760,507,625</td>\n",
       "      <td>$2,776,345,279</td>\n",
       "    </tr>\n",
       "    <tr>\n",
       "      <th>1</th>\n",
       "      <td>2</td>\n",
       "      <td>May 20, 2011</td>\n",
       "      <td>Pirates of the Caribbean: On Stranger Tides</td>\n",
       "      <td>$410,600,000</td>\n",
       "      <td>$241,063,875</td>\n",
       "      <td>$1,045,663,875</td>\n",
       "    </tr>\n",
       "    <tr>\n",
       "      <th>2</th>\n",
       "      <td>3</td>\n",
       "      <td>Jun 7, 2019</td>\n",
       "      <td>Dark Phoenix</td>\n",
       "      <td>$350,000,000</td>\n",
       "      <td>$42,762,350</td>\n",
       "      <td>$149,762,350</td>\n",
       "    </tr>\n",
       "    <tr>\n",
       "      <th>3</th>\n",
       "      <td>4</td>\n",
       "      <td>May 1, 2015</td>\n",
       "      <td>Avengers: Age of Ultron</td>\n",
       "      <td>$330,600,000</td>\n",
       "      <td>$459,005,868</td>\n",
       "      <td>$1,403,013,963</td>\n",
       "    </tr>\n",
       "    <tr>\n",
       "      <th>4</th>\n",
       "      <td>5</td>\n",
       "      <td>Dec 15, 2017</td>\n",
       "      <td>Star Wars Ep. VIII: The Last Jedi</td>\n",
       "      <td>$317,000,000</td>\n",
       "      <td>$620,181,382</td>\n",
       "      <td>$1,316,721,747</td>\n",
       "    </tr>\n",
       "  </tbody>\n",
       "</table>\n",
       "</div>"
      ],
      "text/plain": [
       "   id  release_date                                        movie  \\\n",
       "0   1  Dec 18, 2009                                       Avatar   \n",
       "1   2  May 20, 2011  Pirates of the Caribbean: On Stranger Tides   \n",
       "2   3   Jun 7, 2019                                 Dark Phoenix   \n",
       "3   4   May 1, 2015                      Avengers: Age of Ultron   \n",
       "4   5  Dec 15, 2017            Star Wars Ep. VIII: The Last Jedi   \n",
       "\n",
       "  production_budget domestic_gross worldwide_gross  \n",
       "0      $425,000,000   $760,507,625  $2,776,345,279  \n",
       "1      $410,600,000   $241,063,875  $1,045,663,875  \n",
       "2      $350,000,000    $42,762,350    $149,762,350  \n",
       "3      $330,600,000   $459,005,868  $1,403,013,963  \n",
       "4      $317,000,000   $620,181,382  $1,316,721,747  "
      ]
     },
     "execution_count": 10,
     "metadata": {},
     "output_type": "execute_result"
    }
   ],
   "source": [
    "filepath6 = files[6]\n",
    "tn_movie_budgets = pd.read_csv(filepath6)\n",
    "tn_movie_budgets.head()\n"
   ]
  },
  {
   "cell_type": "code",
   "execution_count": 15,
   "metadata": {},
   "outputs": [
    {
     "data": {
      "text/html": [
       "<div>\n",
       "<style scoped>\n",
       "    .dataframe tbody tr th:only-of-type {\n",
       "        vertical-align: middle;\n",
       "    }\n",
       "\n",
       "    .dataframe tbody tr th {\n",
       "        vertical-align: top;\n",
       "    }\n",
       "\n",
       "    .dataframe thead th {\n",
       "        text-align: right;\n",
       "    }\n",
       "</style>\n",
       "<table border=\"1\" class=\"dataframe\">\n",
       "  <thead>\n",
       "    <tr style=\"text-align: right;\">\n",
       "      <th></th>\n",
       "      <th>title</th>\n",
       "      <th>studio</th>\n",
       "      <th>domestic_gross</th>\n",
       "      <th>foreign_gross</th>\n",
       "      <th>year</th>\n",
       "    </tr>\n",
       "  </thead>\n",
       "  <tbody>\n",
       "    <tr>\n",
       "      <th>0</th>\n",
       "      <td>Toy Story 3</td>\n",
       "      <td>BV</td>\n",
       "      <td>415000000.0</td>\n",
       "      <td>652000000</td>\n",
       "      <td>2010</td>\n",
       "    </tr>\n",
       "    <tr>\n",
       "      <th>1</th>\n",
       "      <td>Alice in Wonderland (2010)</td>\n",
       "      <td>BV</td>\n",
       "      <td>334200000.0</td>\n",
       "      <td>691300000</td>\n",
       "      <td>2010</td>\n",
       "    </tr>\n",
       "    <tr>\n",
       "      <th>2</th>\n",
       "      <td>Harry Potter and the Deathly Hallows Part 1</td>\n",
       "      <td>WB</td>\n",
       "      <td>296000000.0</td>\n",
       "      <td>664300000</td>\n",
       "      <td>2010</td>\n",
       "    </tr>\n",
       "    <tr>\n",
       "      <th>3</th>\n",
       "      <td>Inception</td>\n",
       "      <td>WB</td>\n",
       "      <td>292600000.0</td>\n",
       "      <td>535700000</td>\n",
       "      <td>2010</td>\n",
       "    </tr>\n",
       "    <tr>\n",
       "      <th>4</th>\n",
       "      <td>Shrek Forever After</td>\n",
       "      <td>P/DW</td>\n",
       "      <td>238700000.0</td>\n",
       "      <td>513900000</td>\n",
       "      <td>2010</td>\n",
       "    </tr>\n",
       "  </tbody>\n",
       "</table>\n",
       "</div>"
      ],
      "text/plain": [
       "                                         title studio  domestic_gross  \\\n",
       "0                                  Toy Story 3     BV     415000000.0   \n",
       "1                   Alice in Wonderland (2010)     BV     334200000.0   \n",
       "2  Harry Potter and the Deathly Hallows Part 1     WB     296000000.0   \n",
       "3                                    Inception     WB     292600000.0   \n",
       "4                          Shrek Forever After   P/DW     238700000.0   \n",
       "\n",
       "  foreign_gross  year  \n",
       "0     652000000  2010  \n",
       "1     691300000  2010  \n",
       "2     664300000  2010  \n",
       "3     535700000  2010  \n",
       "4     513900000  2010  "
      ]
     },
     "execution_count": 15,
     "metadata": {},
     "output_type": "execute_result"
    }
   ],
   "source": [
    "filepath7 = files[7]\n",
    "bom_movie_gross = pd.read_csv(filepath7)\n",
    "bom_movie_gross.head()"
   ]
  },
  {
   "cell_type": "code",
   "execution_count": 16,
   "metadata": {},
   "outputs": [
    {
     "data": {
      "text/html": [
       "<div>\n",
       "<style scoped>\n",
       "    .dataframe tbody tr th:only-of-type {\n",
       "        vertical-align: middle;\n",
       "    }\n",
       "\n",
       "    .dataframe tbody tr th {\n",
       "        vertical-align: top;\n",
       "    }\n",
       "\n",
       "    .dataframe thead th {\n",
       "        text-align: right;\n",
       "    }\n",
       "</style>\n",
       "<table border=\"1\" class=\"dataframe\">\n",
       "  <thead>\n",
       "    <tr style=\"text-align: right;\">\n",
       "      <th></th>\n",
       "      <th>tconst</th>\n",
       "      <th>ordering</th>\n",
       "      <th>nconst</th>\n",
       "      <th>category</th>\n",
       "      <th>job</th>\n",
       "      <th>characters</th>\n",
       "    </tr>\n",
       "  </thead>\n",
       "  <tbody>\n",
       "    <tr>\n",
       "      <th>0</th>\n",
       "      <td>tt0111414</td>\n",
       "      <td>1</td>\n",
       "      <td>nm0246005</td>\n",
       "      <td>actor</td>\n",
       "      <td>NaN</td>\n",
       "      <td>[\"The Man\"]</td>\n",
       "    </tr>\n",
       "    <tr>\n",
       "      <th>1</th>\n",
       "      <td>tt0111414</td>\n",
       "      <td>2</td>\n",
       "      <td>nm0398271</td>\n",
       "      <td>director</td>\n",
       "      <td>NaN</td>\n",
       "      <td>NaN</td>\n",
       "    </tr>\n",
       "    <tr>\n",
       "      <th>2</th>\n",
       "      <td>tt0111414</td>\n",
       "      <td>3</td>\n",
       "      <td>nm3739909</td>\n",
       "      <td>producer</td>\n",
       "      <td>producer</td>\n",
       "      <td>NaN</td>\n",
       "    </tr>\n",
       "    <tr>\n",
       "      <th>3</th>\n",
       "      <td>tt0323808</td>\n",
       "      <td>10</td>\n",
       "      <td>nm0059247</td>\n",
       "      <td>editor</td>\n",
       "      <td>NaN</td>\n",
       "      <td>NaN</td>\n",
       "    </tr>\n",
       "    <tr>\n",
       "      <th>4</th>\n",
       "      <td>tt0323808</td>\n",
       "      <td>1</td>\n",
       "      <td>nm3579312</td>\n",
       "      <td>actress</td>\n",
       "      <td>NaN</td>\n",
       "      <td>[\"Beth Boothby\"]</td>\n",
       "    </tr>\n",
       "  </tbody>\n",
       "</table>\n",
       "</div>"
      ],
      "text/plain": [
       "      tconst  ordering     nconst  category       job        characters\n",
       "0  tt0111414         1  nm0246005     actor       NaN       [\"The Man\"]\n",
       "1  tt0111414         2  nm0398271  director       NaN               NaN\n",
       "2  tt0111414         3  nm3739909  producer  producer               NaN\n",
       "3  tt0323808        10  nm0059247    editor       NaN               NaN\n",
       "4  tt0323808         1  nm3579312   actress       NaN  [\"Beth Boothby\"]"
      ]
     },
     "execution_count": 16,
     "metadata": {},
     "output_type": "execute_result"
    }
   ],
   "source": [
    "filepath8 = files[8]\n",
    "imdb_title_principals = pd.read_csv(filepath8)\n",
    "imdb_title_principals.head()"
   ]
  },
  {
   "cell_type": "code",
   "execution_count": 17,
   "metadata": {},
   "outputs": [
    {
     "data": {
      "text/html": [
       "<div>\n",
       "<style scoped>\n",
       "    .dataframe tbody tr th:only-of-type {\n",
       "        vertical-align: middle;\n",
       "    }\n",
       "\n",
       "    .dataframe tbody tr th {\n",
       "        vertical-align: top;\n",
       "    }\n",
       "\n",
       "    .dataframe thead th {\n",
       "        text-align: right;\n",
       "    }\n",
       "</style>\n",
       "<table border=\"1\" class=\"dataframe\">\n",
       "  <thead>\n",
       "    <tr style=\"text-align: right;\">\n",
       "      <th></th>\n",
       "      <th>tconst</th>\n",
       "      <th>primary_title</th>\n",
       "      <th>original_title</th>\n",
       "      <th>start_year</th>\n",
       "      <th>runtime_minutes</th>\n",
       "      <th>genres</th>\n",
       "    </tr>\n",
       "  </thead>\n",
       "  <tbody>\n",
       "    <tr>\n",
       "      <th>0</th>\n",
       "      <td>tt0063540</td>\n",
       "      <td>Sunghursh</td>\n",
       "      <td>Sunghursh</td>\n",
       "      <td>2013</td>\n",
       "      <td>175.0</td>\n",
       "      <td>Action,Crime,Drama</td>\n",
       "    </tr>\n",
       "    <tr>\n",
       "      <th>1</th>\n",
       "      <td>tt0066787</td>\n",
       "      <td>One Day Before the Rainy Season</td>\n",
       "      <td>Ashad Ka Ek Din</td>\n",
       "      <td>2019</td>\n",
       "      <td>114.0</td>\n",
       "      <td>Biography,Drama</td>\n",
       "    </tr>\n",
       "    <tr>\n",
       "      <th>2</th>\n",
       "      <td>tt0069049</td>\n",
       "      <td>The Other Side of the Wind</td>\n",
       "      <td>The Other Side of the Wind</td>\n",
       "      <td>2018</td>\n",
       "      <td>122.0</td>\n",
       "      <td>Drama</td>\n",
       "    </tr>\n",
       "    <tr>\n",
       "      <th>3</th>\n",
       "      <td>tt0069204</td>\n",
       "      <td>Sabse Bada Sukh</td>\n",
       "      <td>Sabse Bada Sukh</td>\n",
       "      <td>2018</td>\n",
       "      <td>NaN</td>\n",
       "      <td>Comedy,Drama</td>\n",
       "    </tr>\n",
       "    <tr>\n",
       "      <th>4</th>\n",
       "      <td>tt0100275</td>\n",
       "      <td>The Wandering Soap Opera</td>\n",
       "      <td>La Telenovela Errante</td>\n",
       "      <td>2017</td>\n",
       "      <td>80.0</td>\n",
       "      <td>Comedy,Drama,Fantasy</td>\n",
       "    </tr>\n",
       "  </tbody>\n",
       "</table>\n",
       "</div>"
      ],
      "text/plain": [
       "      tconst                    primary_title              original_title  \\\n",
       "0  tt0063540                        Sunghursh                   Sunghursh   \n",
       "1  tt0066787  One Day Before the Rainy Season             Ashad Ka Ek Din   \n",
       "2  tt0069049       The Other Side of the Wind  The Other Side of the Wind   \n",
       "3  tt0069204                  Sabse Bada Sukh             Sabse Bada Sukh   \n",
       "4  tt0100275         The Wandering Soap Opera       La Telenovela Errante   \n",
       "\n",
       "   start_year  runtime_minutes                genres  \n",
       "0        2013            175.0    Action,Crime,Drama  \n",
       "1        2019            114.0       Biography,Drama  \n",
       "2        2018            122.0                 Drama  \n",
       "3        2018              NaN          Comedy,Drama  \n",
       "4        2017             80.0  Comedy,Drama,Fantasy  "
      ]
     },
     "execution_count": 17,
     "metadata": {},
     "output_type": "execute_result"
    }
   ],
   "source": [
    "imdb_title_basics.head()"
   ]
  },
  {
   "cell_type": "markdown",
   "metadata": {},
   "source": [
    "- Observe that tconst denotes an ID of the title, which links to imdb_title_principals\n",
    "- Can perform inner join here to determine the actor/director of specified films\n",
    "- Observe that tconst denotes ID of person, which links imdb_title_principals to imdb_name_basics"
   ]
  },
  {
   "cell_type": "code",
   "execution_count": null,
   "metadata": {},
   "outputs": [],
   "source": [
    "# Link category (role) to primary_name (name)\n",
    "\n",
    "role_name = imdb_title_principals.merge(imdb_name_basics, how='inner', on = 'nconst')"
   ]
  },
  {
   "cell_type": "code",
   "execution_count": null,
   "metadata": {},
   "outputs": [],
   "source": [
    "role_name.head()"
   ]
  },
  {
   "cell_type": "code",
   "execution_count": null,
   "metadata": {},
   "outputs": [],
   "source": [
    "# Link role_name to movie titles using t_const thru imdb_title_basics showing primary_titles\n",
    "\n",
    "name_role_movie = role_name.merge(imdb_title_basics, on='tconst', how='left')"
   ]
  },
  {
   "cell_type": "code",
   "execution_count": null,
   "metadata": {},
   "outputs": [],
   "source": [
    "name_role_movie.head()"
   ]
  },
  {
   "cell_type": "code",
   "execution_count": null,
   "metadata": {},
   "outputs": [],
   "source": [
    "movie_directors = name_role_movie.loc[name_role_movie['category'] == 'director']"
   ]
  },
  {
   "cell_type": "code",
   "execution_count": null,
   "metadata": {},
   "outputs": [],
   "source": [
    "movie_directors.loc[movie_directors['primary_name']=='James Cameron']"
   ]
  },
  {
   "cell_type": "code",
   "execution_count": null,
   "metadata": {},
   "outputs": [],
   "source": [
    "# merge tn movie budgets to view who the director of each film is. seems to work outside of Avatar"
   ]
  },
  {
   "cell_type": "code",
   "execution_count": null,
   "metadata": {},
   "outputs": [],
   "source": [
    "budgets_directors = tn_movie_budgets.merge(movie_directors, left_on = 'movie', right_on = 'primary_title', how='inner')"
   ]
  },
  {
   "cell_type": "code",
   "execution_count": null,
   "metadata": {},
   "outputs": [],
   "source": [
    "budgets_directors.head(25)"
   ]
  },
  {
   "cell_type": "code",
   "execution_count": null,
   "metadata": {},
   "outputs": [],
   "source": [
    "# # Turn Production budget, domestic gross, worldwide gross into numeric values\n",
    "budgets_directors['production_budget'].map(lambda x: x.replace('$', '')).map(lambda x: x.replace(',', '')).astype('int')"
   ]
  },
  {
   "cell_type": "code",
   "execution_count": null,
   "metadata": {},
   "outputs": [],
   "source": [
    "\n",
    "budgets_directors['domestic_gross'] = budgets_directors['domestic_gross'].map(lambda x: x.replace('$', '')).map(lambda x: x.replace(',', '')).astype('int')"
   ]
  },
  {
   "cell_type": "code",
   "execution_count": null,
   "metadata": {},
   "outputs": [],
   "source": [
    "budgets_directors['worldwide_gross'] = budgets_directors['worldwide_gross'].map(lambda x: x.replace('$', '')).map(lambda x: x.replace(',', '')).astype('int')"
   ]
  },
  {
   "cell_type": "code",
   "execution_count": null,
   "metadata": {},
   "outputs": [],
   "source": [
    "budgets_directors.head()"
   ]
  },
  {
   "cell_type": "code",
   "execution_count": null,
   "metadata": {},
   "outputs": [],
   "source": [
    "# # Change columns to reflect $\n",
    "# budgets_directors.rename(columns={'production_budget': 'Production_Budget_$', 'domestic_gross': 'Domestic_Gross_$', 'worldwide_gross': 'WorldWide_Gross_$'}, inplace=True)"
   ]
  },
  {
   "cell_type": "code",
   "execution_count": null,
   "metadata": {},
   "outputs": [],
   "source": [
    "# Start pulling out outliers from data set\n"
   ]
  },
  {
   "cell_type": "markdown",
   "metadata": {},
   "source": [
    "https://www.marketwatch.com/story/netflix-reportedly-set-to-produce-90-movies-a-year-with-budgets-up-to-200-million-2018-12-16\n",
    "\n",
    "Sweetspot between $20 million - $200 million\n",
    "Will remove movies below $20 million from data set. Use this bound for analysis"
   ]
  },
  {
   "cell_type": "code",
   "execution_count": null,
   "metadata": {},
   "outputs": [],
   "source": [
    "# budgets_directors = budgets_directors.loc[budgets_directors['Production_Budget_$'] > 20000000]"
   ]
  },
  {
   "cell_type": "markdown",
   "metadata": {},
   "source": [
    "Our data-set now contains 1,634 films, all contains budgets in excess of $20 million"
   ]
  },
  {
   "cell_type": "code",
   "execution_count": null,
   "metadata": {},
   "outputs": [],
   "source": [
    "# budgets_directors['Production_Budget_$'].head(20).sort_values().plot(kind='barh')"
   ]
  },
  {
   "cell_type": "code",
   "execution_count": null,
   "metadata": {},
   "outputs": [],
   "source": [
    "# # Create column to represent profit-margin, which will be our indicator for success\n",
    "\n",
    "# budgets_directors['Profit_Margin'] = budgets_directors['WorldWide_Gross_$'] / budgets_directors['Production_Budget_$']"
   ]
  },
  {
   "cell_type": "code",
   "execution_count": null,
   "metadata": {},
   "outputs": [],
   "source": [
    "# bd_dropped = budgets_directors.drop_duplicates(subset= 'id', keep='first')"
   ]
  },
  {
   "cell_type": "code",
   "execution_count": null,
   "metadata": {},
   "outputs": [],
   "source": [
    "# bd_dropped.release_date.unique()"
   ]
  },
  {
   "cell_type": "code",
   "execution_count": null,
   "metadata": {},
   "outputs": [],
   "source": [
    "len(tn_movie_budgets)"
   ]
  },
  {
   "cell_type": "code",
   "execution_count": null,
   "metadata": {},
   "outputs": [],
   "source": [
    "tn_movie_budgets.head()"
   ]
  },
  {
   "cell_type": "code",
   "execution_count": null,
   "metadata": {},
   "outputs": [],
   "source": [
    "#Parsing through the duplicates on the movie columns are remakes. No duplicates when using movie & release date subset\n",
    "tn_movie_budgets[tn_movie_budgets.duplicated(subset=['movie', 'release_date'])]"
   ]
  },
  {
   "cell_type": "code",
   "execution_count": null,
   "metadata": {},
   "outputs": [],
   "source": [
    "tn_movie_budgets['production_budget'] = tn_movie_budgets['production_budget'].map(lambda x: x.replace('$', '')).map(lambda x: x.replace(',', '')).astype('int')"
   ]
  },
  {
   "cell_type": "code",
   "execution_count": null,
   "metadata": {},
   "outputs": [],
   "source": [
    "tn_movie_budgets['domestic_gross'] = tn_movie_budgets['domestic_gross'].map(lambda x: x.replace('$', '')).map(lambda x: x.replace(',', '')).astype('int')"
   ]
  },
  {
   "cell_type": "code",
   "execution_count": null,
   "metadata": {},
   "outputs": [],
   "source": [
    "tn_movie_budgets['worldwide_gross'] = tn_movie_budgets['worldwide_gross'].map(lambda x: x.replace('$', '')).map(lambda x: x.replace(',', '')).astype('int')"
   ]
  },
  {
   "cell_type": "code",
   "execution_count": null,
   "metadata": {},
   "outputs": [],
   "source": [
    "len(tn_movie_budgets)"
   ]
  },
  {
   "cell_type": "code",
   "execution_count": null,
   "metadata": {},
   "outputs": [],
   "source": [
    "big_budget = tn_movie_budgets.loc[tn_movie_budgets['production_budget'] > 20000000]"
   ]
  },
  {
   "cell_type": "code",
   "execution_count": null,
   "metadata": {},
   "outputs": [],
   "source": [
    "big_budget.head()"
   ]
  },
  {
   "cell_type": "code",
   "execution_count": null,
   "metadata": {},
   "outputs": [],
   "source": [
    "big_budget_2 = big_budget.copy()"
   ]
  },
  {
   "cell_type": "code",
   "execution_count": null,
   "metadata": {},
   "outputs": [],
   "source": [
    "big_budget_2"
   ]
  },
  {
   "cell_type": "code",
   "execution_count": null,
   "metadata": {},
   "outputs": [],
   "source": [
    "big_budget_2['month'] = big_budget_2['release_date'].map(lambda x: x[0:3])"
   ]
  },
  {
   "cell_type": "code",
   "execution_count": null,
   "metadata": {},
   "outputs": [],
   "source": [
    "big_budget_2"
   ]
  },
  {
   "cell_type": "code",
   "execution_count": null,
   "metadata": {},
   "outputs": [],
   "source": [
    "month_map = {'Jan':1, 'Feb':2, 'Mar':3, 'Apr':4, 'May':5, 'Jun': 6, 'Jul': 7, 'Aug': 8, 'Sep': 9, 'Oct': 10, 'Nov':11, 'Dec':12}"
   ]
  },
  {
   "cell_type": "code",
   "execution_count": null,
   "metadata": {},
   "outputs": [],
   "source": [
    "big_budget_2['month_num'] = big_budget_2['month'].map(month_map)"
   ]
  },
  {
   "cell_type": "code",
   "execution_count": null,
   "metadata": {},
   "outputs": [],
   "source": [
    "grouped = big_budget_2.groupby('month_num')[['worldwide_gross','domestic_gross']].mean()"
   ]
  },
  {
   "cell_type": "code",
   "execution_count": null,
   "metadata": {},
   "outputs": [],
   "source": [
    "grouped.plot(kind='bar')"
   ]
  },
  {
   "cell_type": "code",
   "execution_count": null,
   "metadata": {},
   "outputs": [],
   "source": [
    "grouped.head()"
   ]
  },
  {
   "cell_type": "code",
   "execution_count": null,
   "metadata": {},
   "outputs": [],
   "source": [
    "grouped['worldwide_gross']\n",
    "grouped.reset_index()"
   ]
  },
  {
   "cell_type": "code",
   "execution_count": null,
   "metadata": {},
   "outputs": [],
   "source": [
    "t_labels = ['Jan', 'Feb', 'Mar', 'Apr', 'May', 'Jun', 'Jul', 'Aug', 'Sep', 'Oct', 'Nov', 'Dec']\n",
    "grouped.plot(kind='bar')\n",
    "plt.ylabel('Profit $')\n",
    "plt.xlabel('Month')\n",
    "plt.set_xticklabels(x)"
   ]
  },
  {
   "cell_type": "code",
   "execution_count": null,
   "metadata": {},
   "outputs": [],
   "source": [
    "import seaborn as sns\n",
    "fig, ax = plt.subplots(figsize=(10,5))\n",
    "fig.set_facecolor(\"lightgrey\")\n",
    "ax = sns.barplot(x='month_num', y=\"worldwide_gross\", data=big_budget_2, color='mediumorchid', ci=None, label='Worldwide Gross')\n",
    "ax = sns.barplot(x='month_num', y=\"domestic_gross\", data=big_budget_2, color='violet', ci=None, label= 'Domestic Gross')\n",
    "ax.legend()\n",
    "ax.set_xlabel('Month', color='black')\n",
    "ax.set_ylabel('Worldwide Gross ($ hundreds of millions)')\n",
    "ax.set_title('Movie Gross by Month')\n",
    "\n",
    "t_labels = ['Jan', 'Feb', 'Mar', 'Apr', 'May', 'Jun', 'Jul', 'Aug', 'Sep', 'Oct', 'Nov', 'Dec']\n",
    "ax.set_xticklabels(t_labels)\n",
    "#fig.savefig(\"/Users/ethankunin/Documents/movie_month.png\")"
   ]
  },
  {
   "cell_type": "code",
   "execution_count": null,
   "metadata": {},
   "outputs": [],
   "source": [
    "#maybe can try and figure out how to get a cleaner merge. For now move on with budgets directors\n",
    "\n",
    "t_rt = big_budget.merge(imdb_title_basics, left_on='movie', right_on='primary_title', how='left')\n",
    "\n",
    "t_rt.info()"
   ]
  },
  {
   "cell_type": "code",
   "execution_count": null,
   "metadata": {},
   "outputs": [],
   "source": [
    "run_time = budgets_directors.copy()"
   ]
  },
  {
   "cell_type": "code",
   "execution_count": null,
   "metadata": {},
   "outputs": [],
   "source": [
    "run_time.isna().sum()"
   ]
  },
  {
   "cell_type": "code",
   "execution_count": null,
   "metadata": {},
   "outputs": [],
   "source": [
    "# Chop out low-budget (20 million) films"
   ]
  },
  {
   "cell_type": "code",
   "execution_count": null,
   "metadata": {},
   "outputs": [],
   "source": [
    "run_time.head()"
   ]
  },
  {
   "cell_type": "code",
   "execution_count": null,
   "metadata": {},
   "outputs": [],
   "source": [
    "run_time['production_budget'] = run_time['production_budget'].map(lambda x: x.replace('$', '')).map(lambda x: x.replace(',', '')).astype('int')"
   ]
  },
  {
   "cell_type": "code",
   "execution_count": null,
   "metadata": {},
   "outputs": [],
   "source": [
    "run_time = run_time[run_time['production_budget'] > 20000000]"
   ]
  },
  {
   "cell_type": "code",
   "execution_count": null,
   "metadata": {},
   "outputs": [],
   "source": [
    "# Find median/mean\n",
    "\n",
    "run_time.agg({'runtime_minutes' : ['mean', 'median']})"
   ]
  },
  {
   "cell_type": "code",
   "execution_count": null,
   "metadata": {},
   "outputs": [],
   "source": [
    "budgets_directors['runtime_minutes'] = budgets_directors['runtime_minutes'].fillna(budgets_directors['runtime_minutes'].median())"
   ]
  },
  {
   "cell_type": "code",
   "execution_count": null,
   "metadata": {},
   "outputs": [],
   "source": [
    "budgets_directors.isna().sum()"
   ]
  },
  {
   "cell_type": "code",
   "execution_count": null,
   "metadata": {},
   "outputs": [],
   "source": []
  },
  {
   "cell_type": "code",
   "execution_count": null,
   "metadata": {},
   "outputs": [],
   "source": [
    "t_rt2 = run_time.merge(budgets_directors, left_on='movie', right_on='movie', how='left')\n",
    "t_rt2.head()"
   ]
  },
  {
   "cell_type": "code",
   "execution_count": null,
   "metadata": {},
   "outputs": [],
   "source": [
    "t2cols = t_rt2.columns\n",
    "t2cols = ['id_x','tconst_x', 'ordering_x',\n",
    "       'nconst_x', 'category_x', 'job_x', 'characters_x', 'primary_name_x',\n",
    "       'birth_year_x', 'death_year_x', 'primary_profession_x',\n",
    "       'known_for_titles_x', 'primary_title_x', 'original_title_x',\n",
    "       'start_year_x', 'id_y',\n",
    "       'release_date_y', 'production_budget_y', 'domestic_gross_y',\n",
    "       'worldwide_gross_y', 'tconst_y', 'ordering_y', 'nconst_y', 'category_y',\n",
    "       'job_y', 'characters_y', 'primary_name_y', 'birth_year_y',\n",
    "       'death_year_y', 'primary_profession_y', 'known_for_titles_y',\n",
    "       'primary_title_y', 'original_title_y', 'start_year_y', 'runtime_minutes_x']"
   ]
  },
  {
   "cell_type": "code",
   "execution_count": null,
   "metadata": {},
   "outputs": [],
   "source": [
    "t_rt2.drop(columns= ['id_x','tconst_x', 'ordering_x',\n",
    "       'nconst_x', 'category_x', 'job_x', 'characters_x', 'primary_name_x',\n",
    "       'birth_year_x', 'death_year_x', 'primary_profession_x',\n",
    "       'known_for_titles_x', 'primary_title_x', 'original_title_x',\n",
    "       'start_year_x', 'id_y',\n",
    "       'release_date_y', 'production_budget_y', 'domestic_gross_y',\n",
    "       'worldwide_gross_y', 'tconst_y', 'ordering_y', 'nconst_y', 'category_y',\n",
    "       'job_y', 'characters_y', 'primary_name_y', 'birth_year_y',\n",
    "       'death_year_y', 'primary_profession_y', 'known_for_titles_y',\n",
    "       'primary_title_y', 'original_title_y', 'start_year_y', 'runtime_minutes_x', 'genres_x'], inplace=True)"
   ]
  },
  {
   "cell_type": "code",
   "execution_count": null,
   "metadata": {},
   "outputs": [],
   "source": [
    "t_rt2 = t_rt2.rename(columns={'release_date_x': 'release_date', 'production_budget_x': 'production_budget', 'domestic_gross_x': 'domestic_gross', 'worldwide_gross_x': 'worldwide_gross', 'runtime_minutes_y': 'runtime_minutes', 'genres_y': 'genres'})"
   ]
  },
  {
   "cell_type": "code",
   "execution_count": null,
   "metadata": {},
   "outputs": [],
   "source": [
    "t_rt2.head()"
   ]
  },
  {
   "cell_type": "code",
   "execution_count": null,
   "metadata": {},
   "outputs": [],
   "source": [
    "len(t_rt2)"
   ]
  },
  {
   "cell_type": "code",
   "execution_count": null,
   "metadata": {},
   "outputs": [],
   "source": [
    "t_rt2 = t_rt2[t_rt2['production_budget'] > 20000000]"
   ]
  },
  {
   "cell_type": "code",
   "execution_count": null,
   "metadata": {},
   "outputs": [],
   "source": [
    "t_rt2.drop_duplicates(subset=['release_date', 'movie'], keep='first', inplace=True)"
   ]
  },
  {
   "cell_type": "markdown",
   "metadata": {},
   "source": [
    "Have dropped duplicates, have runtime and movie lined up, need to make a cool graph to show either linear relationship between time and worldwide gross. Must change gross to int. Possibly scatter plot grouped by 10 min intervals. Use a function to design this. Only show worldwide gross"
   ]
  },
  {
   "cell_type": "code",
   "execution_count": null,
   "metadata": {},
   "outputs": [],
   "source": [
    "len(t_rt2)"
   ]
  },
  {
   "cell_type": "code",
   "execution_count": null,
   "metadata": {},
   "outputs": [],
   "source": [
    "t_rt2.info()"
   ]
  },
  {
   "cell_type": "code",
   "execution_count": null,
   "metadata": {},
   "outputs": [],
   "source": [
    "t_rt2['domestic_gross'] = t_rt2['domestic_gross'].map(lambda x: x.replace('$', '')).map(lambda x: x.replace(',', '')).astype('int')"
   ]
  },
  {
   "cell_type": "code",
   "execution_count": null,
   "metadata": {},
   "outputs": [],
   "source": [
    "t_rt2['worldwide_gross'] = t_rt2['worldwide_gross'].map(lambda x: x.replace('$', '')).map(lambda x: x.replace(',', '')).astype('int')"
   ]
  },
  {
   "cell_type": "code",
   "execution_count": null,
   "metadata": {},
   "outputs": [],
   "source": [
    "t_rt2.info()"
   ]
  },
  {
   "cell_type": "code",
   "execution_count": null,
   "metadata": {},
   "outputs": [],
   "source": [
    "t_rt2.head()"
   ]
  },
  {
   "cell_type": "code",
   "execution_count": null,
   "metadata": {},
   "outputs": [],
   "source": [
    "# Remove movies below 90 mins"
   ]
  },
  {
   "cell_type": "code",
   "execution_count": null,
   "metadata": {},
   "outputs": [],
   "source": [
    "length_m = t_rt2[(t_rt2['runtime_minutes'] > 90) & (t_rt2['runtime_minutes'] < 180)]"
   ]
  },
  {
   "cell_type": "code",
   "execution_count": null,
   "metadata": {},
   "outputs": [],
   "source": [
    "len(length_m)"
   ]
  },
  {
   "cell_type": "code",
   "execution_count": null,
   "metadata": {},
   "outputs": [],
   "source": [
    "length_m.isna().sum()"
   ]
  },
  {
   "cell_type": "code",
   "execution_count": null,
   "metadata": {},
   "outputs": [],
   "source": [
    "def length(mins):\n",
    "    if mins < 120:\n",
    "        return 'short'\n",
    "    elif mins < 150:\n",
    "        return 'medium'\n",
    "    else:\n",
    "        return 'long'"
   ]
  },
  {
   "cell_type": "code",
   "execution_count": null,
   "metadata": {},
   "outputs": [],
   "source": [
    "length_m['duration'] = length_m['runtime_minutes'].map(length)"
   ]
  },
  {
   "cell_type": "code",
   "execution_count": null,
   "metadata": {},
   "outputs": [],
   "source": [
    "length_m.head()"
   ]
  },
  {
   "cell_type": "code",
   "execution_count": null,
   "metadata": {},
   "outputs": [],
   "source": [
    "fig, ax = plt.subplots(figsize=(8, 6))\n",
    "ax = sns.boxplot(x='duration', y='worldwide_gross', data=length_m)\n",
    "ax.set_ylim(0, 1500000000)\n",
    "ax.set_title('Movie Gross Based on Duration')\n",
    "ax.set_ylabel('Worldwide Gross ($ hundreds of millions)')\n",
    "ax.set_xlabel('Duration')\n",
    "\n",
    "x_labs = ['90-120 mins', '120-150 mins', '150-180 mins']\n",
    "ax.set_xticklabels(x_labs)\n",
    "#fig.savefig(\"/Users/ethankunin/Documents/box_plot_by_duration.png\");"
   ]
  },
  {
   "cell_type": "code",
   "execution_count": null,
   "metadata": {},
   "outputs": [],
   "source": [
    "fig, ax = plt.subplots(figsize=(8, 6))\n",
    "ax = sns.regplot(x='runtime_minutes', y='worldwide_gross', data=length_m)\n",
    "\n",
    "ax.set_title('Movie Gross Based on Duration')\n",
    "ax.set_ylabel('Worldwide Gross ($ hundreds of millions)')\n",
    "ax.set_xlabel('Minutes')\n",
    "ax.axvline(x=120, color='cornflowerblue', linestyle='solid', label='short', alpha=0.5)\n",
    "ax.axvline(x=150, color='cornflowerblue', linestyle='solid', label='medium', alpha=0.5)\n",
    "ax.legend()\n",
    "#fig.savefig(\"/Users/ethankunin/Documents/lin_reg_minutes.png\")\n",
    "\n",
    ";"
   ]
  },
  {
   "cell_type": "markdown",
   "metadata": {},
   "source": [
    "Create graph to show seasonal success"
   ]
  },
  {
   "cell_type": "code",
   "execution_count": null,
   "metadata": {},
   "outputs": [],
   "source": [
    "big_budget_2.info()"
   ]
  },
  {
   "cell_type": "code",
   "execution_count": null,
   "metadata": {},
   "outputs": [],
   "source": [
    "big_budget_2.head()"
   ]
  },
  {
   "cell_type": "code",
   "execution_count": null,
   "metadata": {},
   "outputs": [],
   "source": [
    "def seasons(month):\n",
    "    if (month >= 3) & (month <= 5):\n",
    "        return 'Spring'\n",
    "    elif (month >= 6) & (month <=8):\n",
    "        return 'Summer'\n",
    "    elif (month >= 9) & (month <=11):\n",
    "        return 'Fall'\n",
    "    else:\n",
    "        return 'Winter'\n",
    "    \n",
    "    \n",
    "    \n",
    "    \n",
    "seasons(3)"
   ]
  },
  {
   "cell_type": "code",
   "execution_count": null,
   "metadata": {},
   "outputs": [],
   "source": [
    "big_budget_2['Season'] = big_budget_2['month_num'].map(seasons)"
   ]
  },
  {
   "cell_type": "code",
   "execution_count": null,
   "metadata": {},
   "outputs": [],
   "source": [
    "big_budget_2.head(20)"
   ]
  },
  {
   "cell_type": "code",
   "execution_count": null,
   "metadata": {},
   "outputs": [],
   "source": [
    "fig, ax = plt.subplots(figsize=(8, 6))\n",
    "ax = sns.boxplot(x='Season', y='worldwide_gross', data=big_budget_2)\n",
    "ax.set_ylim(0, 700000000)\n",
    "ax.set_title('Movie Gross Based on Season')\n",
    "ax.set_ylabel('Worldwide Gross ($ hundreds of millions)')\n",
    "ax.set_xlabel('Season')\n"
   ]
  },
  {
   "cell_type": "markdown",
   "metadata": {},
   "source": [
    "Create dictionary of the 200 top grossing films directos"
   ]
  },
  {
   "cell_type": "code",
   "execution_count": null,
   "metadata": {},
   "outputs": [],
   "source": [
    "budgets_directors.head()"
   ]
  },
  {
   "cell_type": "code",
   "execution_count": null,
   "metadata": {},
   "outputs": [],
   "source": [
    "budgets_directors2 = budgets_directors.copy()"
   ]
  },
  {
   "cell_type": "code",
   "execution_count": null,
   "metadata": {},
   "outputs": [],
   "source": [
    "budgets_directors2.head()"
   ]
  },
  {
   "cell_type": "code",
   "execution_count": null,
   "metadata": {},
   "outputs": [],
   "source": [
    "budgets_directors2['worldwide_gross'] = budgets_directors2['worldwide_gross'].map(lambda x: x.replace('$', '')).map(lambda x: x.replace(',', '')).astype('int')"
   ]
  },
  {
   "cell_type": "code",
   "execution_count": null,
   "metadata": {},
   "outputs": [],
   "source": [
    "budgets_directors2.info()"
   ]
  },
  {
   "cell_type": "code",
   "execution_count": null,
   "metadata": {},
   "outputs": [],
   "source": [
    "hp_dirs = budgets_directors2.loc[budgets_directors2['worldwide_gross']> 100000000]"
   ]
  },
  {
   "cell_type": "code",
   "execution_count": null,
   "metadata": {},
   "outputs": [],
   "source": [
    "len(hp_dirs)"
   ]
  },
  {
   "cell_type": "code",
   "execution_count": null,
   "metadata": {},
   "outputs": [],
   "source": [
    "dir_ws = hp_dirs.groupby('primary_name')['worldwide_gross'].sum()"
   ]
  },
  {
   "cell_type": "markdown",
   "metadata": {},
   "source": [
    "###  Directors List (WWG > 1800000000)"
   ]
  },
  {
   "cell_type": "code",
   "execution_count": null,
   "metadata": {},
   "outputs": [],
   "source": [
    "len(dir_ws[dir_ws > 1800000000])"
   ]
  },
  {
   "cell_type": "markdown",
   "metadata": {},
   "source": [
    "### Start building out genre recommendation"
   ]
  },
  {
   "cell_type": "code",
   "execution_count": null,
   "metadata": {},
   "outputs": [],
   "source": [
    "t_rt2.info()"
   ]
  },
  {
   "cell_type": "code",
   "execution_count": null,
   "metadata": {},
   "outputs": [],
   "source": [
    "t_rt3 = t_rt2.copy()"
   ]
  },
  {
   "cell_type": "code",
   "execution_count": null,
   "metadata": {},
   "outputs": [],
   "source": [
    "t_rt3.groupby('genres')['worldwide_gross'].agg(['median', 'mean'])\n"
   ]
  },
  {
   "cell_type": "code",
   "execution_count": null,
   "metadata": {},
   "outputs": [],
   "source": [
    "## Testing function"
   ]
  },
  {
   "cell_type": "code",
   "execution_count": null,
   "metadata": {},
   "outputs": [],
   "source": [
    "budgets_directors.head()"
   ]
  },
  {
   "cell_type": "code",
   "execution_count": 84,
   "metadata": {},
   "outputs": [],
   "source": [
    "def col_to_int(df, colm):\n",
    "    df[colm] = df[colm].map(lambda x: x.replace('$', '')).map(lambda x: x.replace(',', '')).astype('int')\n",
    "    return df"
   ]
  },
  {
   "cell_type": "code",
   "execution_count": null,
   "metadata": {},
   "outputs": [],
   "source": [
    "budgets_directors4 = budgets_directors.copy()"
   ]
  },
  {
   "cell_type": "code",
   "execution_count": null,
   "metadata": {},
   "outputs": [],
   "source": [
    "col_to_int(budgets_directors4, 'domestic_gross')"
   ]
  },
  {
   "cell_type": "code",
   "execution_count": null,
   "metadata": {},
   "outputs": [],
   "source": [
    "tester5 = 'Dec 18, 2009'\n",
    "tester5[-4:]"
   ]
  },
  {
   "cell_type": "code",
   "execution_count": null,
   "metadata": {},
   "outputs": [],
   "source": [
    "import matplotlib as mpl\n",
    "ax.style.context('ggplot')"
   ]
  },
  {
   "cell_type": "code",
   "execution_count": null,
   "metadata": {},
   "outputs": [],
   "source": [
    "fig, ax = plt.subplots(figsize=(8, 6))\n",
    "ax = sns.boxplot(x='Season', y='worldwide_gross', data=big_budget_2)\n",
    "ax.set_ylim(0, 700000000)\n",
    "ax.set_title('Movie Gross Based on Season')\n",
    "ax.set_ylabel('Worldwide Gross ($ hundreds of millions)')\n",
    "ax.set_xlabel('Season')"
   ]
  },
  {
   "cell_type": "code",
   "execution_count": null,
   "metadata": {},
   "outputs": [],
   "source": [
    "budgets_directors5 = budgets_directors.copy()"
   ]
  },
  {
   "cell_type": "code",
   "execution_count": null,
   "metadata": {},
   "outputs": [],
   "source": [
    "budgets_directors5.head(2)"
   ]
  },
  {
   "cell_type": "code",
   "execution_count": null,
   "metadata": {},
   "outputs": [],
   "source": [
    "budgets_directors5['profit'] = budgets_directors5['worldwide_gross'] - budgets_directors5['domestic_gross']"
   ]
  },
  {
   "cell_type": "code",
   "execution_count": null,
   "metadata": {},
   "outputs": [],
   "source": [
    "budgets_directors5.head(2)"
   ]
  },
  {
   "cell_type": "code",
   "execution_count": null,
   "metadata": {},
   "outputs": [],
   "source": [
    "def profitable(num):\n",
    "    if num > 0:\n",
    "        return True\n",
    "    else:\n",
    "        False"
   ]
  },
  {
   "cell_type": "code",
   "execution_count": null,
   "metadata": {},
   "outputs": [],
   "source": [
    "budgets_directors5['ptf'] = budgets_directors5['profit'].map(profitable)"
   ]
  },
  {
   "cell_type": "code",
   "execution_count": null,
   "metadata": {},
   "outputs": [],
   "source": [
    "budgets_directors5.head(2)"
   ]
  },
  {
   "cell_type": "code",
   "execution_count": null,
   "metadata": {},
   "outputs": [],
   "source": [
    "budgets_directors5['pmarg (%)'] = (budgets_directors5['worldwide_gross'] / budgets_directors5['domestic_gross']) *100"
   ]
  },
  {
   "cell_type": "code",
   "execution_count": null,
   "metadata": {},
   "outputs": [],
   "source": [
    "budgets_directors5.head(2)"
   ]
  },
  {
   "cell_type": "code",
   "execution_count": null,
   "metadata": {},
   "outputs": [],
   "source": [
    "pd.to_datetime(budgets_directors5['release_date']).head()"
   ]
  },
  {
   "cell_type": "code",
   "execution_count": null,
   "metadata": {},
   "outputs": [],
   "source": [
    "sns.lineplot(x='release_date', y='worldwide_gross', data=budgets_directors5)"
   ]
  },
  {
   "cell_type": "code",
   "execution_count": null,
   "metadata": {},
   "outputs": [],
   "source": [
    "budgets_directors5['year'] = budgets_directors5['release_date'].map(lambda x: x[-4:])"
   ]
  },
  {
   "cell_type": "code",
   "execution_count": null,
   "metadata": {},
   "outputs": [],
   "source": [
    "budgets_directors5.head(2)"
   ]
  },
  {
   "cell_type": "code",
   "execution_count": null,
   "metadata": {},
   "outputs": [],
   "source": [
    "budgets_directors5['year'] = budgets_directors5['year'].astype(int)\n",
    "budgets_directors5.year.unique()"
   ]
  },
  {
   "cell_type": "code",
   "execution_count": null,
   "metadata": {},
   "outputs": [],
   "source": [
    "# Groupby month and display domestic/worlwide growth\n",
    "\n",
    "grouped7 = budgets_directors5.groupby('year')[['domestic_gross', 'worldwide_gross']].agg('mean').reset_index()"
   ]
  },
  {
   "cell_type": "code",
   "execution_count": null,
   "metadata": {},
   "outputs": [],
   "source": [
    "grouped7 = grouped7[grouped7['year'] > 2010]"
   ]
  },
  {
   "cell_type": "code",
   "execution_count": null,
   "metadata": {},
   "outputs": [],
   "source": [
    "grouped7.year.unique()"
   ]
  },
  {
   "cell_type": "code",
   "execution_count": null,
   "metadata": {},
   "outputs": [],
   "source": [
    "sns.lineplot(data='grouped7', y='domestic_gross')"
   ]
  },
  {
   "cell_type": "code",
   "execution_count": null,
   "metadata": {},
   "outputs": [],
   "source": [
    "fig, ax = plt.subplots(figsize=(10,6))\n",
    "ax.plot(grouped7['year'], grouped7['worldwide_gross'], label='WW Gross')\n",
    "ax.plot(grouped7['year'], grouped7['domestic_gross'], label='D Gross')\n",
    "ax.set_xticks(grouped7['year'])\n",
    "ax.ticklabel_format(style='plain')\n",
    "ax.legend()\n"
   ]
  },
  {
   "cell_type": "markdown",
   "metadata": {},
   "source": [
    "# Appendix, trying to webscrape"
   ]
  },
  {
   "cell_type": "code",
   "execution_count": 11,
   "metadata": {},
   "outputs": [],
   "source": [
    "tn_movie_budgets.columns\n",
    "import requests\n",
    "from bs4 import BeautifulSoup\n",
    "import pandas"
   ]
  },
  {
   "cell_type": "code",
   "execution_count": 12,
   "metadata": {},
   "outputs": [
    {
     "data": {
      "text/plain": [
       "['Pixar-Disney Animations *  Toy Story (1995',\n",
       " \"  A Bug's Life (1998\",\n",
       " '  Toy Story 2 (1999',\n",
       " '  Monsters, Inc. (2001',\n",
       " '  Finding Nemo (2003',\n",
       " '  The Incredibles (2004',\n",
       " '  Cars (2006',\n",
       " '  Ratatouille (2007',\n",
       " '  WALL-E (2008',\n",
       " '  Up (2009',\n",
       " '  Toy Story 3 (2010',\n",
       " '  Cars 2 (2011',\n",
       " '  Brave (2012',\n",
       " '  Monsters University (2013',\n",
       " '  Inside Out (2015',\n",
       " '  The Good Dinosaur (2015',\n",
       " '  Finding Dory (2016',\n",
       " '  Cars 3 (2017',\n",
       " '  Coco (2017',\n",
       " '  Incredibles 2 (2018',\n",
       " '  Toy Story 4 (2019',\n",
       " '  Onward (2020',\n",
       " '  Soul (2020',\n",
       " '  (* Is it a brand and/or a franchise?',\n",
       " '']"
      ]
     },
     "execution_count": 12,
     "metadata": {},
     "output_type": "execute_result"
    }
   ],
   "source": [
    "\n",
    "\n",
    "url = 'https://www.filmsite.org/series-boxoffice.html'\n",
    "dfs = pd.read_html(url)\n",
    "df = pd.concat(dfs)\n",
    "df.drop(columns=[0,1,5], inplace=True)\n",
    "df = df.rename(columns={2: 'series_list', 3:'number_of_films_in_franchise', 4:'top_movie'})\n",
    "some_list = df['series_list'][3].split(')')\n",
    "some_list"
   ]
  },
  {
   "cell_type": "code",
   "execution_count": 13,
   "metadata": {},
   "outputs": [],
   "source": [
    "def franchise_splitter(df, col):\n",
    "    \n",
    "    output = []\n",
    "    for i in range(len(df)):\n",
    "        some_list = df[col][i].split(')') \n",
    "        for item in some_list:\n",
    "            item2=item[2:]\n",
    "            item3=item2[:-6]\n",
    "            output.append(item3)\n",
    "    \n",
    "    return output\n"
   ]
  },
  {
   "cell_type": "code",
   "execution_count": 22,
   "metadata": {},
   "outputs": [
    {
     "data": {
      "text/html": [
       "<div>\n",
       "<style scoped>\n",
       "    .dataframe tbody tr th:only-of-type {\n",
       "        vertical-align: middle;\n",
       "    }\n",
       "\n",
       "    .dataframe tbody tr th {\n",
       "        vertical-align: top;\n",
       "    }\n",
       "\n",
       "    .dataframe thead th {\n",
       "        text-align: right;\n",
       "    }\n",
       "</style>\n",
       "<table border=\"1\" class=\"dataframe\">\n",
       "  <thead>\n",
       "    <tr style=\"text-align: right;\">\n",
       "      <th></th>\n",
       "      <th>series_list</th>\n",
       "      <th>number_of_films_in_franchise</th>\n",
       "      <th>top_movie</th>\n",
       "    </tr>\n",
       "  </thead>\n",
       "  <tbody>\n",
       "    <tr>\n",
       "      <th>0</th>\n",
       "      <td>NaN</td>\n",
       "      <td>NaN</td>\n",
       "      <td>NaN</td>\n",
       "    </tr>\n",
       "    <tr>\n",
       "      <th>0</th>\n",
       "      <td>NaN</td>\n",
       "      <td>NaN</td>\n",
       "      <td>NaN</td>\n",
       "    </tr>\n",
       "    <tr>\n",
       "      <th>0</th>\n",
       "      <td>Greatest Film Series Franchises  (part 1 of 4,...</td>\n",
       "      <td>Greatest Film Series Franchises  (part 1 of 4,...</td>\n",
       "      <td>Greatest Film Series Franchises  (part 1 of 4,...</td>\n",
       "    </tr>\n",
       "    <tr>\n",
       "      <th>1</th>\n",
       "      <td>Individual Films in Franchise  (if clickable, ...</td>\n",
       "      <td># of Films in Franchise</td>\n",
       "      <td># 1 Film in Franchise</td>\n",
       "    </tr>\n",
       "    <tr>\n",
       "      <th>2</th>\n",
       "      <td>Marvel's Cinematic  Universe  Iron Man (2008) ...</td>\n",
       "      <td>23</td>\n",
       "      <td>Avengers: Endgame (2019)</td>\n",
       "    </tr>\n",
       "    <tr>\n",
       "      <th>3</th>\n",
       "      <td>Pixar-Disney Animations *  Toy Story (1995)  A...</td>\n",
       "      <td>23</td>\n",
       "      <td>Incredibles 2 (2018)</td>\n",
       "    </tr>\n",
       "    <tr>\n",
       "      <th>4</th>\n",
       "      <td>Star Wars  (Ranked) Star Wars: (Original Trilo...</td>\n",
       "      <td>12</td>\n",
       "      <td>Star Wars: Episode VII - The Force Awakens (2015)</td>\n",
       "    </tr>\n",
       "    <tr>\n",
       "      <th>5</th>\n",
       "      <td>Disney (Live-Action Animations Reimagined)  Th...</td>\n",
       "      <td>15</td>\n",
       "      <td>The Lion King (2019)</td>\n",
       "    </tr>\n",
       "    <tr>\n",
       "      <th>6</th>\n",
       "      <td>J.K. Rowling Wizardry Harry Potter  Harry Pott...</td>\n",
       "      <td>10  (or 8)</td>\n",
       "      <td>Harry Potter and the Deathly Hallows, Part 2 (...</td>\n",
       "    </tr>\n",
       "    <tr>\n",
       "      <th>7</th>\n",
       "      <td>Avengers  (see Marvel's Cinematic Universe)  M...</td>\n",
       "      <td>4</td>\n",
       "      <td>Avengers: Endgame (2019)</td>\n",
       "    </tr>\n",
       "    <tr>\n",
       "      <th>8</th>\n",
       "      <td>Spider-Man Spider-Man (Sam Raimi) Spider-Man (...</td>\n",
       "      <td>9</td>\n",
       "      <td>Spider-Man (2002)</td>\n",
       "    </tr>\n",
       "    <tr>\n",
       "      <th>9</th>\n",
       "      <td>X-Men  X-Men (Original Series) X-Men (2000)  X...</td>\n",
       "      <td>12</td>\n",
       "      <td>Deadpool (2016)</td>\n",
       "    </tr>\n",
       "    <tr>\n",
       "      <th>10</th>\n",
       "      <td>Batman  Batman (Early Films) Batman: The Movie...</td>\n",
       "      <td>11</td>\n",
       "      <td>The Dark Knight (2008)</td>\n",
       "    </tr>\n",
       "    <tr>\n",
       "      <th>11</th>\n",
       "      <td>DC Extended  Universe  Man of Steel  (2013)  B...</td>\n",
       "      <td>8</td>\n",
       "      <td>Wonder Woman (2017)</td>\n",
       "    </tr>\n",
       "    <tr>\n",
       "      <th>12</th>\n",
       "      <td>James Bond (ranked) Dr. No (1962)  From Russia...</td>\n",
       "      <td>25</td>\n",
       "      <td>Skyfall (2012)</td>\n",
       "    </tr>\n",
       "    <tr>\n",
       "      <th>13</th>\n",
       "      <td>Jurassic Park  Jurassic Park Jurassic Park (19...</td>\n",
       "      <td>5</td>\n",
       "      <td>Jurassic World (2015)</td>\n",
       "    </tr>\n",
       "    <tr>\n",
       "      <th>14</th>\n",
       "      <td>Middle Earth  The Lord of the Rings The Lord o...</td>\n",
       "      <td>6</td>\n",
       "      <td>The Lord of the Rings: The Return of the King ...</td>\n",
       "    </tr>\n",
       "    <tr>\n",
       "      <th>15</th>\n",
       "      <td>Fast and the Furious  The Fast and the Furious...</td>\n",
       "      <td>9</td>\n",
       "      <td>Fast &amp; Furious 7 (2015)</td>\n",
       "    </tr>\n",
       "    <tr>\n",
       "      <th>16</th>\n",
       "      <td>Transformers  Transformers: The Movie (1986)  ...</td>\n",
       "      <td>7</td>\n",
       "      <td>Transformers: Revenge of the Fallen (2009)</td>\n",
       "    </tr>\n",
       "    <tr>\n",
       "      <th>17</th>\n",
       "      <td>Pirates of the Caribbean  Pirates of the Carib...</td>\n",
       "      <td>5</td>\n",
       "      <td>Pirates of the Caribbean: Dead Man's Chest (2006)</td>\n",
       "    </tr>\n",
       "    <tr>\n",
       "      <th>18</th>\n",
       "      <td>The Hunger Games  The Hunger Games (2012)  The...</td>\n",
       "      <td>4</td>\n",
       "      <td>The Hunger Games: Catching Fire (2013)</td>\n",
       "    </tr>\n",
       "    <tr>\n",
       "      <th>19</th>\n",
       "      <td>Shrek (Original and Sequels) Shrek (2001)  Shr...</td>\n",
       "      <td>5</td>\n",
       "      <td>Shrek 2 (2004)</td>\n",
       "    </tr>\n",
       "    <tr>\n",
       "      <th>20</th>\n",
       "      <td>Star Trek Star Trek (Original) Star Trek: The ...</td>\n",
       "      <td>13</td>\n",
       "      <td>Star Trek (2009)</td>\n",
       "    </tr>\n",
       "    <tr>\n",
       "      <th>21</th>\n",
       "      <td>Twilight Saga  Twilight (2008)  The Twilight S...</td>\n",
       "      <td>5</td>\n",
       "      <td>The Twilight Saga: Eclipse (2010)</td>\n",
       "    </tr>\n",
       "    <tr>\n",
       "      <th>22</th>\n",
       "      <td>Toy Story  (see Pixar-Disney) Toy Story (1995)...</td>\n",
       "      <td>4</td>\n",
       "      <td>Toy Story 4 (2019)</td>\n",
       "    </tr>\n",
       "    <tr>\n",
       "      <th>23</th>\n",
       "      <td>Despicable Me  Despicable Me  Despicable Me (2...</td>\n",
       "      <td>4</td>\n",
       "      <td>Despicable Me 2 (2013)</td>\n",
       "    </tr>\n",
       "    <tr>\n",
       "      <th>24</th>\n",
       "      <td>The Dark Knight Trilogy (see Batman)  Batman B...</td>\n",
       "      <td>3</td>\n",
       "      <td>The Dark Knight (2008)</td>\n",
       "    </tr>\n",
       "    <tr>\n",
       "      <th>25</th>\n",
       "      <td>Mission: Impossible  Mission: Impossible (1996...</td>\n",
       "      <td>6</td>\n",
       "      <td>Mission: Impossible - Fallout (2018)</td>\n",
       "    </tr>\n",
       "    <tr>\n",
       "      <th>26</th>\n",
       "      <td>Superman  Superman (Original) Superman (1978) ...</td>\n",
       "      <td>7</td>\n",
       "      <td>Batman v Superman: Dawn of Justice (2016)</td>\n",
       "    </tr>\n",
       "    <tr>\n",
       "      <th>27</th>\n",
       "      <td>Iron Man (see Marvel's Cinematic Universe) Iro...</td>\n",
       "      <td>3</td>\n",
       "      <td>Iron Man 3 (2013)</td>\n",
       "    </tr>\n",
       "    <tr>\n",
       "      <th>28</th>\n",
       "      <td>The Lord of the Rings Trilogy (see Middle Eart...</td>\n",
       "      <td>3</td>\n",
       "      <td>The Lord of the Rings: The Return of the King ...</td>\n",
       "    </tr>\n",
       "    <tr>\n",
       "      <th>29</th>\n",
       "      <td>Indiana Jones  Raiders of the Lost Ark (1981) ...</td>\n",
       "      <td>4</td>\n",
       "      <td>Indiana Jones and the Kingdom of the Crystal S...</td>\n",
       "    </tr>\n",
       "    <tr>\n",
       "      <th>30</th>\n",
       "      <td>Captain America  (see Marvel's  Cinematic Univ...</td>\n",
       "      <td>3</td>\n",
       "      <td>Captain America: Civil War (2016)</td>\n",
       "    </tr>\n",
       "    <tr>\n",
       "      <th>31</th>\n",
       "      <td>Jumanji  Jumanji (1995)  Jumanji: Welcome to t...</td>\n",
       "      <td>3</td>\n",
       "      <td>Jumanji: Welcome to the Jungle (2017)</td>\n",
       "    </tr>\n",
       "    <tr>\n",
       "      <th>32</th>\n",
       "      <td>The Hobbit (see The Lord of the Rings) The  Ho...</td>\n",
       "      <td>3</td>\n",
       "      <td>The Hobbit: An Unexpected Journey (2012)</td>\n",
       "    </tr>\n",
       "    <tr>\n",
       "      <th>33</th>\n",
       "      <td>Bourne  The Bourne Identity (2002)  The Bourne...</td>\n",
       "      <td>5</td>\n",
       "      <td>The Bourne Ultimatum (2007)</td>\n",
       "    </tr>\n",
       "    <tr>\n",
       "      <th>34</th>\n",
       "      <td>Planet of the Apes  Planet of the Apes (Origin...</td>\n",
       "      <td>9</td>\n",
       "      <td>Dawn of the Planet of the Apes (2014)</td>\n",
       "    </tr>\n",
       "    <tr>\n",
       "      <th>35</th>\n",
       "      <td>Ice Age  Ice Age (2002)  Ice Age: The Meltdown...</td>\n",
       "      <td>5</td>\n",
       "      <td>Ice Age 3: Dawn of the Dinosaurs (2009)</td>\n",
       "    </tr>\n",
       "    <tr>\n",
       "      <th>36</th>\n",
       "      <td>Rocky  Rocky (1976)  Rocky II (1979)  Rocky II...</td>\n",
       "      <td>8</td>\n",
       "      <td>Rocky IV (1985)</td>\n",
       "    </tr>\n",
       "    <tr>\n",
       "      <th>0</th>\n",
       "      <td>NaN</td>\n",
       "      <td>NaN</td>\n",
       "      <td>NaN</td>\n",
       "    </tr>\n",
       "  </tbody>\n",
       "</table>\n",
       "</div>"
      ],
      "text/plain": [
       "                                          series_list  \\\n",
       "0                                                 NaN   \n",
       "0                                                 NaN   \n",
       "0   Greatest Film Series Franchises  (part 1 of 4,...   \n",
       "1   Individual Films in Franchise  (if clickable, ...   \n",
       "2   Marvel's Cinematic  Universe  Iron Man (2008) ...   \n",
       "3   Pixar-Disney Animations *  Toy Story (1995)  A...   \n",
       "4   Star Wars  (Ranked) Star Wars: (Original Trilo...   \n",
       "5   Disney (Live-Action Animations Reimagined)  Th...   \n",
       "6   J.K. Rowling Wizardry Harry Potter  Harry Pott...   \n",
       "7   Avengers  (see Marvel's Cinematic Universe)  M...   \n",
       "8   Spider-Man Spider-Man (Sam Raimi) Spider-Man (...   \n",
       "9   X-Men  X-Men (Original Series) X-Men (2000)  X...   \n",
       "10  Batman  Batman (Early Films) Batman: The Movie...   \n",
       "11  DC Extended  Universe  Man of Steel  (2013)  B...   \n",
       "12  James Bond (ranked) Dr. No (1962)  From Russia...   \n",
       "13  Jurassic Park  Jurassic Park Jurassic Park (19...   \n",
       "14  Middle Earth  The Lord of the Rings The Lord o...   \n",
       "15  Fast and the Furious  The Fast and the Furious...   \n",
       "16  Transformers  Transformers: The Movie (1986)  ...   \n",
       "17  Pirates of the Caribbean  Pirates of the Carib...   \n",
       "18  The Hunger Games  The Hunger Games (2012)  The...   \n",
       "19  Shrek (Original and Sequels) Shrek (2001)  Shr...   \n",
       "20  Star Trek Star Trek (Original) Star Trek: The ...   \n",
       "21  Twilight Saga  Twilight (2008)  The Twilight S...   \n",
       "22  Toy Story  (see Pixar-Disney) Toy Story (1995)...   \n",
       "23  Despicable Me  Despicable Me  Despicable Me (2...   \n",
       "24  The Dark Knight Trilogy (see Batman)  Batman B...   \n",
       "25  Mission: Impossible  Mission: Impossible (1996...   \n",
       "26  Superman  Superman (Original) Superman (1978) ...   \n",
       "27  Iron Man (see Marvel's Cinematic Universe) Iro...   \n",
       "28  The Lord of the Rings Trilogy (see Middle Eart...   \n",
       "29  Indiana Jones  Raiders of the Lost Ark (1981) ...   \n",
       "30  Captain America  (see Marvel's  Cinematic Univ...   \n",
       "31  Jumanji  Jumanji (1995)  Jumanji: Welcome to t...   \n",
       "32  The Hobbit (see The Lord of the Rings) The  Ho...   \n",
       "33  Bourne  The Bourne Identity (2002)  The Bourne...   \n",
       "34  Planet of the Apes  Planet of the Apes (Origin...   \n",
       "35  Ice Age  Ice Age (2002)  Ice Age: The Meltdown...   \n",
       "36  Rocky  Rocky (1976)  Rocky II (1979)  Rocky II...   \n",
       "0                                                 NaN   \n",
       "\n",
       "                         number_of_films_in_franchise  \\\n",
       "0                                                 NaN   \n",
       "0                                                 NaN   \n",
       "0   Greatest Film Series Franchises  (part 1 of 4,...   \n",
       "1                             # of Films in Franchise   \n",
       "2                                                  23   \n",
       "3                                                  23   \n",
       "4                                                  12   \n",
       "5                                                  15   \n",
       "6                                          10  (or 8)   \n",
       "7                                                   4   \n",
       "8                                                   9   \n",
       "9                                                  12   \n",
       "10                                                 11   \n",
       "11                                                  8   \n",
       "12                                                 25   \n",
       "13                                                  5   \n",
       "14                                                  6   \n",
       "15                                                  9   \n",
       "16                                                  7   \n",
       "17                                                  5   \n",
       "18                                                  4   \n",
       "19                                                  5   \n",
       "20                                                 13   \n",
       "21                                                  5   \n",
       "22                                                  4   \n",
       "23                                                  4   \n",
       "24                                                  3   \n",
       "25                                                  6   \n",
       "26                                                  7   \n",
       "27                                                  3   \n",
       "28                                                  3   \n",
       "29                                                  4   \n",
       "30                                                  3   \n",
       "31                                                  3   \n",
       "32                                                  3   \n",
       "33                                                  5   \n",
       "34                                                  9   \n",
       "35                                                  5   \n",
       "36                                                  8   \n",
       "0                                                 NaN   \n",
       "\n",
       "                                            top_movie  \n",
       "0                                                 NaN  \n",
       "0                                                 NaN  \n",
       "0   Greatest Film Series Franchises  (part 1 of 4,...  \n",
       "1                               # 1 Film in Franchise  \n",
       "2                            Avengers: Endgame (2019)  \n",
       "3                                Incredibles 2 (2018)  \n",
       "4   Star Wars: Episode VII - The Force Awakens (2015)  \n",
       "5                                The Lion King (2019)  \n",
       "6   Harry Potter and the Deathly Hallows, Part 2 (...  \n",
       "7                            Avengers: Endgame (2019)  \n",
       "8                                   Spider-Man (2002)  \n",
       "9                                     Deadpool (2016)  \n",
       "10                             The Dark Knight (2008)  \n",
       "11                                Wonder Woman (2017)  \n",
       "12                                     Skyfall (2012)  \n",
       "13                              Jurassic World (2015)  \n",
       "14  The Lord of the Rings: The Return of the King ...  \n",
       "15                            Fast & Furious 7 (2015)  \n",
       "16         Transformers: Revenge of the Fallen (2009)  \n",
       "17  Pirates of the Caribbean: Dead Man's Chest (2006)  \n",
       "18             The Hunger Games: Catching Fire (2013)  \n",
       "19                                     Shrek 2 (2004)  \n",
       "20                                   Star Trek (2009)  \n",
       "21                  The Twilight Saga: Eclipse (2010)  \n",
       "22                                 Toy Story 4 (2019)  \n",
       "23                             Despicable Me 2 (2013)  \n",
       "24                             The Dark Knight (2008)  \n",
       "25               Mission: Impossible - Fallout (2018)  \n",
       "26          Batman v Superman: Dawn of Justice (2016)  \n",
       "27                                  Iron Man 3 (2013)  \n",
       "28  The Lord of the Rings: The Return of the King ...  \n",
       "29  Indiana Jones and the Kingdom of the Crystal S...  \n",
       "30                  Captain America: Civil War (2016)  \n",
       "31              Jumanji: Welcome to the Jungle (2017)  \n",
       "32           The Hobbit: An Unexpected Journey (2012)  \n",
       "33                        The Bourne Ultimatum (2007)  \n",
       "34              Dawn of the Planet of the Apes (2014)  \n",
       "35            Ice Age 3: Dawn of the Dinosaurs (2009)  \n",
       "36                                    Rocky IV (1985)  \n",
       "0                                                 NaN  "
      ]
     },
     "execution_count": 22,
     "metadata": {},
     "output_type": "execute_result"
    }
   ],
   "source": [
    "df1 = df.copy()\n",
    "df1"
   ]
  },
  {
   "cell_type": "code",
   "execution_count": 15,
   "metadata": {},
   "outputs": [],
   "source": [
    "df1 = df1.dropna()"
   ]
  },
  {
   "cell_type": "code",
   "execution_count": 16,
   "metadata": {},
   "outputs": [
    {
     "data": {
      "text/html": [
       "<div>\n",
       "<style scoped>\n",
       "    .dataframe tbody tr th:only-of-type {\n",
       "        vertical-align: middle;\n",
       "    }\n",
       "\n",
       "    .dataframe tbody tr th {\n",
       "        vertical-align: top;\n",
       "    }\n",
       "\n",
       "    .dataframe thead th {\n",
       "        text-align: right;\n",
       "    }\n",
       "</style>\n",
       "<table border=\"1\" class=\"dataframe\">\n",
       "  <thead>\n",
       "    <tr style=\"text-align: right;\">\n",
       "      <th></th>\n",
       "      <th>series_list</th>\n",
       "      <th>number_of_films_in_franchise</th>\n",
       "      <th>top_movie</th>\n",
       "    </tr>\n",
       "  </thead>\n",
       "  <tbody>\n",
       "    <tr>\n",
       "      <th>0</th>\n",
       "      <td>Greatest Film Series Franchises  (part 1 of 4,...</td>\n",
       "      <td>Greatest Film Series Franchises  (part 1 of 4,...</td>\n",
       "      <td>Greatest Film Series Franchises  (part 1 of 4,...</td>\n",
       "    </tr>\n",
       "    <tr>\n",
       "      <th>1</th>\n",
       "      <td>Individual Films in Franchise  (if clickable, ...</td>\n",
       "      <td># of Films in Franchise</td>\n",
       "      <td># 1 Film in Franchise</td>\n",
       "    </tr>\n",
       "    <tr>\n",
       "      <th>2</th>\n",
       "      <td>Marvel's Cinematic  Universe  Iron Man (2008) ...</td>\n",
       "      <td>23</td>\n",
       "      <td>Avengers: Endgame (2019)</td>\n",
       "    </tr>\n",
       "    <tr>\n",
       "      <th>3</th>\n",
       "      <td>Pixar-Disney Animations *  Toy Story (1995)  A...</td>\n",
       "      <td>23</td>\n",
       "      <td>Incredibles 2 (2018)</td>\n",
       "    </tr>\n",
       "  </tbody>\n",
       "</table>\n",
       "</div>"
      ],
      "text/plain": [
       "                                         series_list  \\\n",
       "0  Greatest Film Series Franchises  (part 1 of 4,...   \n",
       "1  Individual Films in Franchise  (if clickable, ...   \n",
       "2  Marvel's Cinematic  Universe  Iron Man (2008) ...   \n",
       "3  Pixar-Disney Animations *  Toy Story (1995)  A...   \n",
       "\n",
       "                        number_of_films_in_franchise  \\\n",
       "0  Greatest Film Series Franchises  (part 1 of 4,...   \n",
       "1                            # of Films in Franchise   \n",
       "2                                                 23   \n",
       "3                                                 23   \n",
       "\n",
       "                                           top_movie  \n",
       "0  Greatest Film Series Franchises  (part 1 of 4,...  \n",
       "1                              # 1 Film in Franchise  \n",
       "2                           Avengers: Endgame (2019)  \n",
       "3                               Incredibles 2 (2018)  "
      ]
     },
     "execution_count": 16,
     "metadata": {},
     "output_type": "execute_result"
    }
   ],
   "source": [
    "df1.head(4)"
   ]
  },
  {
   "cell_type": "code",
   "execution_count": 20,
   "metadata": {},
   "outputs": [],
   "source": [
    "page1 = franchise_splitter(df1, 'series_list')"
   ]
  },
  {
   "cell_type": "code",
   "execution_count": 21,
   "metadata": {},
   "outputs": [
    {
     "data": {
      "text/plain": [
       "['eatest Film Series Franchises  (part 1 of 4, above $750 million total revenue, in  descending',\n",
       " '',\n",
       " 'dividual Films in Franchise  (if clickable, links to r',\n",
       " '',\n",
       " \"rvel's Cinematic  Universe  Iron Man\",\n",
       " 'The Incredible Hulk',\n",
       " 'Iron Man 2',\n",
       " 'Thor',\n",
       " 'Captain America: The First Avenger',\n",
       " \"Marvel's The Avengers\",\n",
       " 'Iron Man 3',\n",
       " 'hor: The Dark World',\n",
       " 'aptain America: The Winter Soldier',\n",
       " 'Guardians of the Galaxy',\n",
       " 'Avengers: Age of Ultron',\n",
       " 'Ant-Man',\n",
       " 'Captain America: Civil War',\n",
       " 'Doctor Strange',\n",
       " 'Guardians of the Galaxy Vol. 2',\n",
       " 'Spider-Man: Homecoming',\n",
       " 'Thor: Ragnarok',\n",
       " 'Black Panther',\n",
       " 'Avengers: Infinity War',\n",
       " 'Ant-Man and the Wasp',\n",
       " 'Captain Marvel',\n",
       " 'Avengers: Endgame',\n",
       " 'Spider-Man: Far from Home',\n",
       " '',\n",
       " 'xar-Disney Animations *  Toy Story',\n",
       " \"A Bug's Life\",\n",
       " 'Toy Story 2',\n",
       " 'Monsters, Inc.',\n",
       " 'Finding Nemo',\n",
       " 'The Incredibles',\n",
       " 'Cars',\n",
       " 'Ratatouille',\n",
       " 'WALL-E',\n",
       " 'Up',\n",
       " 'Toy Story 3',\n",
       " 'Cars 2',\n",
       " 'Brave',\n",
       " 'Monsters University',\n",
       " 'Inside Out',\n",
       " 'The Good Dinosaur',\n",
       " 'Finding Dory',\n",
       " 'Cars 3',\n",
       " 'Coco',\n",
       " 'Incredibles 2',\n",
       " 'Toy Story 4',\n",
       " 'Onward',\n",
       " 'Soul',\n",
       " '(* Is it a brand and/or a fran',\n",
       " '',\n",
       " 'ar Wars  (',\n",
       " 'tar Wars: (Original T',\n",
       " 'tar Wars: Episode IV -  A New Hope',\n",
       " 'Star Wars: Episode V - The  Empire Strikes Back',\n",
       " 'Star Wars: Episode VI - Return  of the Jedi',\n",
       " 'Star Wars: (Prequel T',\n",
       " 'tar Wars: Episode I - The Phantom  Menace',\n",
       " 'Star Wars: Episode II - Attack  of the Clones',\n",
       " 'Star Wars: Episode III - Revenge  of the Sith',\n",
       " 'Star Wars: (Sequel T',\n",
       " 'tar Wars: Episode VII  - The Force Awakens',\n",
       " 'Star Wars: Episode VIII -  The Last Jedi',\n",
       " 'Star Wars: Episode IX - The Rise of Skywalker',\n",
       " 'tar Wars: (Anthology Films and Spi',\n",
       " 'tar Wars: The Clone Wars',\n",
       " 'Rogue One: A Star Wars Story ',\n",
       " 'Solo: A Star Wars Story',\n",
       " 'does not include re-re',\n",
       " '',\n",
       " 'sney (Live-Action Animations Reim',\n",
       " 'The Jungle Book The Jungle Book',\n",
       " 'The Jungle Book',\n",
       " '101 Dalmatians 101 Dalmatians',\n",
       " '102 Dalmatians',\n",
       " 'lice in Wonderland Alice in Wonderland',\n",
       " 'Alice Through the Looking Glass',\n",
       " 'Maleficent  Maleficent',\n",
       " 'Maleficent: Mistress of Evil',\n",
       " 'z the Great and Powerful',\n",
       " 'Cinderella',\n",
       " \"ete's Dragon\",\n",
       " 'eauty and the Beast',\n",
       " 'Dumbo',\n",
       " 'Aladdin',\n",
       " 'The Lion King',\n",
       " '',\n",
       " \"K. Rowling Wizardry Harry Potter  Harry Potter and the Sorcerer's  Stone\",\n",
       " 'Harry Potter and the Chamber  of Secrets',\n",
       " 'Harry Potter and the  Prisoner of Azkaban',\n",
       " 'Harry Potter and  the Goblet of Fire',\n",
       " 'Harry Potter  and the Order of the Phoenix',\n",
       " 'Harry  Potter and the Half-Blood Prince',\n",
       " 'Harry  Potter and the Deathly Hallows, Part  1',\n",
       " 'Harry  Potter and the Deathly Hallows, Part  2',\n",
       " 'Fantastic Beasts Fantastic Beasts and Where to Find  Them',\n",
       " 'Fantastic Beasts: The Crimes of Grindelwald ',\n",
       " '',\n",
       " \"engers  (see Marvel's Cinematic Un\",\n",
       " \"Marvel's The Avengers\",\n",
       " 'Avengers: Age of Ultron',\n",
       " 'Avengers: Infinity War',\n",
       " 'Avengers: Endgame',\n",
       " '',\n",
       " 'ider-Man Spider-Man (Sam',\n",
       " 'pider-Man',\n",
       " 'Spider-Man 2',\n",
       " 'Spider-Man 3',\n",
       " 'Spider-Man (Mar',\n",
       " 'he Amazing Spider-Man',\n",
       " 'he Amazing Spider-Man  2',\n",
       " \"Spider-Man  (see Marvel's Cinematic  Un\",\n",
       " 'Spider-Man:  Homecoming',\n",
       " 'pider-Man: Far From Home ',\n",
       " 'pider-Verse  (An',\n",
       " 'pider-Man: Into the Spider-Verse ',\n",
       " '',\n",
       " 'Men  X-Men (Original ',\n",
       " '-Men',\n",
       " 'X2: X-Men United',\n",
       " 'X-Men: The Last Stand',\n",
       " 'X-Men: First Class',\n",
       " 'X-Men: Days of Future Past',\n",
       " 'X-Men: Apocalypse',\n",
       " '-Men (Wolverine & Phoenix Spi',\n",
       " '-Men Origins: Wolverine',\n",
       " 'The Wolverine',\n",
       " 'Logan',\n",
       " 'X-Men Dark Phoenix',\n",
       " '-Men (Deadpool Spi',\n",
       " 'eadpool',\n",
       " 'Deadpool 2',\n",
       " '',\n",
       " 'tman  Batman (Early',\n",
       " 'atman: The Movie',\n",
       " 'Batman (Burton/Schu',\n",
       " 'atman',\n",
       " 'Batman Returns',\n",
       " 'Batman Forever',\n",
       " 'Batman & Robin',\n",
       " 'Batman (An',\n",
       " 'atman: Mask of the Phantasm',\n",
       " 'atman: The Killing Joke',\n",
       " 'The LEGO Batman Movie',\n",
       " 'atman (The Dark Knight T',\n",
       " 'atman Begins',\n",
       " 'The Dark Knight',\n",
       " 'The Dark Knight Rises',\n",
       " 'Batman  (see DC  Extended Un',\n",
       " 'Batman v Superman: Dawn  of Justice',\n",
       " '',\n",
       " ' Extended  Universe  Man of Steel ',\n",
       " 'Batman v Superman:  Dawn of Justice',\n",
       " 'Suicide Squad',\n",
       " 'Wonder Woman',\n",
       " 'Justice League',\n",
       " 'Aquaman',\n",
       " 'Shazam!',\n",
       " 'Birds of Prey: And the Fantabulous Emancipation of One Harley  Quinn',\n",
       " '',\n",
       " 'mes Bond (',\n",
       " 'r. No',\n",
       " 'From Russia With Love',\n",
       " 'Goldfinger',\n",
       " 'Thunderball',\n",
       " 'You Only Live Twice',\n",
       " \"On Her Majesty's Secret Service\",\n",
       " 'Diamonds Are Forever',\n",
       " 'Live and Let Die',\n",
       " 'The Man with the Golden Gun',\n",
       " 'The Spy Who Loved Me',\n",
       " 'Moonraker',\n",
       " 'For Your Eyes Only',\n",
       " 'Octopussy',\n",
       " 'A View to a Kill',\n",
       " 'The Living Daylights',\n",
       " 'Licence to Kill',\n",
       " 'GoldenEye',\n",
       " 'Tomorrow Never Dies',\n",
       " 'The World is Not Enough',\n",
       " 'Die Another Day',\n",
       " 'Casino Royale',\n",
       " 'Quantum of Solace, 007',\n",
       " 'Skyfall',\n",
       " 'pectre',\n",
       " 'o Time to Die',\n",
       " '',\n",
       " 'on-Canon Films: Casino Royale',\n",
       " 'ever Say Never Again',\n",
       " '',\n",
       " '',\n",
       " 'rassic Park  Jurassic Park Jurassic Park',\n",
       " 'The Lost World: Jurassic Park',\n",
       " 'Jurassic Park III',\n",
       " 'Sequel Trilogy Jurassic World',\n",
       " 'Jurassic World: Fallen Kingdom',\n",
       " '',\n",
       " 'ddle Earth  The Lord of the Rings The Lord of the Rings: The  Fellowship of the Ring',\n",
       " 'The Lord of the  Rings: The Two Towers',\n",
       " 'The Lord of  the Rings: The Return of the King',\n",
       " 'The Hobbit The Hobbit: An Unexpected Journey ',\n",
       " 'The Hobbit: The Desolation  of Smaug',\n",
       " 'he Hobbit:  The Battle of the Five Armies',\n",
       " '',\n",
       " 'st and the Furious  The Fast and the Furious',\n",
       " '2 Fast 2 Furious',\n",
       " 'The Fast and the Furious: Tokyo Drift',\n",
       " 'Fast & Furious',\n",
       " 'Fast Five',\n",
       " 'Fast & Furious 6',\n",
       " 'Fast & Furious 7',\n",
       " 'aka Fur',\n",
       " 'The Fate of the Furious',\n",
       " 'Fast & Furious Presents: Hobbs & Shaw',\n",
       " '',\n",
       " 'ansformers  Transformers: The Movie',\n",
       " 'Transformers',\n",
       " 'Transformers: Revenge of the Fallen',\n",
       " 'Transformers: Dark of the Moon',\n",
       " 'Transformers: Age of Extinction',\n",
       " 'Transformers: The Last Knight',\n",
       " 'Bumblebee',\n",
       " '',\n",
       " 'rates of the Caribbean  Pirates of the Caribbean:  The Curse of the Black Pearl',\n",
       " \"Pirates of the Caribbean:  Dead Man's Chest\",\n",
       " \"Pirates of the  Caribbean: At World's End\",\n",
       " 'Pirates of  the Caribbean: On Stranger Tides',\n",
       " 'Pirates  of the Caribbean: Dead Men Tell No Tales',\n",
       " '',\n",
       " 'e Hunger Games  The Hunger Games',\n",
       " 'The Hunger Games: Catching Fire',\n",
       " 'The Hunger Games: Mockingjay - Part 1',\n",
       " 'The Hunger Games: Mockingjay - Part 2',\n",
       " '',\n",
       " 'rek (Original and S',\n",
       " 'hrek',\n",
       " 'Shrek 2',\n",
       " 'Shrek the Third',\n",
       " 'Shrek Forever After',\n",
       " 'Shrek (Sp',\n",
       " 'uss in Boots',\n",
       " '',\n",
       " 'ar Trek Star Trek (Or',\n",
       " 'tar Trek: The Motion Picture',\n",
       " 'Star Trek II: The Wrath of Khan',\n",
       " 'Star Trek III: The Search for Spock ',\n",
       " 'Star Trek IV: The Voyage Home ',\n",
       " 'Star Trek V: The Final  Frontier',\n",
       " 'Star Trek VI: The  Undiscovered Country',\n",
       " 'Star Trek (Next Gene',\n",
       " 'Star Trek: Generations ',\n",
       " 'Star Trek: First  Contact',\n",
       " 'Star Trek: Insurrection ',\n",
       " 'Star Trek Nemesis ',\n",
       " 'Star Trek (',\n",
       " 'Star Trek',\n",
       " 'Star Trek Into Darkness ',\n",
       " 'tar  Trek Beyond',\n",
       " '',\n",
       " 'ilight Saga  Twilight',\n",
       " 'The Twilight Saga: New Moon',\n",
       " 'The Twilight Saga: Eclipse',\n",
       " 'The Twilight Saga: Breaking Dawn, Part 1',\n",
       " 'The Twilight Saga: Breaking Dawn, Part 2',\n",
       " '',\n",
       " 'y Story  (see Pixar-',\n",
       " 'oy Story',\n",
       " 'Toy Story 2',\n",
       " 'Toy Story 3',\n",
       " 'Toy Story 4',\n",
       " '',\n",
       " 'spicable Me  Despicable Me  Despicable Me',\n",
       " 'Despicable Me 2',\n",
       " 'Despicable Me 3',\n",
       " 'inions  Minions',\n",
       " '',\n",
       " 'e Dark Knight Trilogy (see ',\n",
       " 'Batman Begins',\n",
       " 'The Dark Knight',\n",
       " 'The Dark Knight Rises',\n",
       " '',\n",
       " 'ssion: Impossible  Mission: Impossible',\n",
       " 'Mission: Impossible II',\n",
       " 'Mission: Impossible III',\n",
       " 'Mission: Impossible - Ghost  Protocol',\n",
       " 'Mission: Impossible - Rogue Nation',\n",
       " 'Mission: Impossible - Fallout',\n",
       " '',\n",
       " 'perman  Superman (Or',\n",
       " 'uperman',\n",
       " 'Superman II',\n",
       " 'Superman III',\n",
       " 'Superman IV: The Quest for Peace ',\n",
       " 'Superman (Homage ',\n",
       " 'uperman Returns',\n",
       " 'Superman (see DC Extended  Un',\n",
       " 'an of Steel',\n",
       " 'Batman v Superman:  Dawn of Justice',\n",
       " '',\n",
       " \"on Man (see Marvel's Cinematic Un\",\n",
       " 'ron Man',\n",
       " 'Iron Man 2',\n",
       " 'Iron Man 3',\n",
       " '',\n",
       " 'e Lord of the Rings Trilogy (see Middle',\n",
       " 'The Lord of the Rings',\n",
       " '(Not Included in ',\n",
       " 'he Lord of the Rings:  The Fellowship of the Ring',\n",
       " 'The Lord of the Rings:  The Two Towers',\n",
       " 'The Lord of the Rings:  The Return of the King',\n",
       " '',\n",
       " 'diana Jones  Raiders of the Lost Ark',\n",
       " 'Indiana Jones and the Temple of  Doom',\n",
       " 'Indiana Jones and the Last  Crusade',\n",
       " 'Indiana Jones and the Kingdom  of the Crystal Skull',\n",
       " '',\n",
       " \"ptain America  (see Marvel's  Cinematic Un\",\n",
       " 'Captain America: The First Avenger',\n",
       " 'aptain America: The Winter Soldier',\n",
       " 'aptain America: Civil War',\n",
       " '',\n",
       " 'manji  Jumanji',\n",
       " 'Jumanji: Welcome to the Jungle',\n",
       " 'Jumanji: The Next Level',\n",
       " '',\n",
       " 'e Hobbit (see The Lord of the',\n",
       " 'he  Hobbit: An Unexpected Journey',\n",
       " 'The Hobbit: The Desolation  of Smaug',\n",
       " 'he Hobbit:  The Battle of the Five Armies',\n",
       " '',\n",
       " 'urne  The Bourne Identity',\n",
       " 'The Bourne Supremacy',\n",
       " 'The Bourne Ultimatum',\n",
       " 'The Bourne Legacy',\n",
       " 'ason Bourne',\n",
       " '',\n",
       " 'anet of the Apes  Planet of the Apes (Or',\n",
       " 'lanet of the Apes',\n",
       " 'Beneath the Planet of the Apes ',\n",
       " 'Escape from the Planet  of the Apes',\n",
       " 'Conquest of the Planet  of the Apes',\n",
       " 'Battle for the  Planet of the Apes',\n",
       " 'Planet of the Apes (',\n",
       " 'lanet  of the Apes',\n",
       " 'Planet of the Apes (',\n",
       " 'ise  of the Planet of the Apes',\n",
       " 'awn  of the Planet of the Apes',\n",
       " 'War  for the Planet of the Apes',\n",
       " '',\n",
       " 'e Age  Ice Age',\n",
       " 'Ice Age: The Meltdown',\n",
       " 'Ice Age 3: Dawn of the Dinosaurs',\n",
       " 'ce Age: Continental Drift',\n",
       " 'ce Age: Collision Course',\n",
       " '',\n",
       " 'cky  Rocky',\n",
       " 'Rocky II',\n",
       " 'Rocky III',\n",
       " 'Rocky IV',\n",
       " 'Rocky V',\n",
       " 'Rocky Balboa',\n",
       " 'reed',\n",
       " 'Creed II',\n",
       " '']"
      ]
     },
     "execution_count": 21,
     "metadata": {},
     "output_type": "execute_result"
    }
   ],
   "source": [
    "page1"
   ]
  },
  {
   "cell_type": "code",
   "execution_count": 19,
   "metadata": {},
   "outputs": [
    {
     "ename": "NameError",
     "evalue": "name 'df2' is not defined",
     "output_type": "error",
     "traceback": [
      "\u001b[0;31m---------------------------------------------------------------------------\u001b[0m",
      "\u001b[0;31mNameError\u001b[0m                                 Traceback (most recent call last)",
      "\u001b[0;32m<ipython-input-19-70ab9eb5804a>\u001b[0m in \u001b[0;36m<module>\u001b[0;34m\u001b[0m\n\u001b[1;32m      6\u001b[0m \u001b[0;34m\u001b[0m\u001b[0m\n\u001b[1;32m      7\u001b[0m \u001b[0mdf8\u001b[0m \u001b[0;34m=\u001b[0m \u001b[0mpd\u001b[0m\u001b[0;34m.\u001b[0m\u001b[0mread_html\u001b[0m\u001b[0;34m(\u001b[0m\u001b[0murl2\u001b[0m\u001b[0;34m)\u001b[0m\u001b[0;34m\u001b[0m\u001b[0;34m\u001b[0m\u001b[0m\n\u001b[0;32m----> 8\u001b[0;31m \u001b[0mdf8\u001b[0m \u001b[0;34m=\u001b[0m \u001b[0mpd\u001b[0m\u001b[0;34m.\u001b[0m\u001b[0mconcat\u001b[0m\u001b[0;34m(\u001b[0m\u001b[0mdf2\u001b[0m\u001b[0;34m)\u001b[0m\u001b[0;34m\u001b[0m\u001b[0;34m\u001b[0m\u001b[0m\n\u001b[0m\u001b[1;32m      9\u001b[0m \u001b[0mdf8\u001b[0m\u001b[0;34m.\u001b[0m\u001b[0mdrop\u001b[0m\u001b[0;34m(\u001b[0m\u001b[0mcolumns\u001b[0m\u001b[0;34m=\u001b[0m\u001b[0;34m[\u001b[0m\u001b[0;36m0\u001b[0m\u001b[0;34m,\u001b[0m\u001b[0;36m1\u001b[0m\u001b[0;34m,\u001b[0m\u001b[0;36m5\u001b[0m\u001b[0;34m]\u001b[0m\u001b[0;34m,\u001b[0m \u001b[0minplace\u001b[0m\u001b[0;34m=\u001b[0m\u001b[0;32mTrue\u001b[0m\u001b[0;34m)\u001b[0m\u001b[0;34m\u001b[0m\u001b[0;34m\u001b[0m\u001b[0m\n\u001b[1;32m     10\u001b[0m \u001b[0mdf8\u001b[0m \u001b[0;34m=\u001b[0m \u001b[0mdf8\u001b[0m\u001b[0;34m.\u001b[0m\u001b[0mrename\u001b[0m\u001b[0;34m(\u001b[0m\u001b[0mcolumns\u001b[0m\u001b[0;34m=\u001b[0m\u001b[0;34m{\u001b[0m\u001b[0;36m2\u001b[0m\u001b[0;34m:\u001b[0m \u001b[0;34m'series_list'\u001b[0m\u001b[0;34m,\u001b[0m \u001b[0;36m3\u001b[0m\u001b[0;34m:\u001b[0m\u001b[0;34m'number_of_films_in_franchise'\u001b[0m\u001b[0;34m,\u001b[0m \u001b[0;36m4\u001b[0m\u001b[0;34m:\u001b[0m\u001b[0;34m'top_movie'\u001b[0m\u001b[0;34m}\u001b[0m\u001b[0;34m)\u001b[0m\u001b[0;34m\u001b[0m\u001b[0;34m\u001b[0m\u001b[0m\n",
      "\u001b[0;31mNameError\u001b[0m: name 'df2' is not defined"
     ]
    }
   ],
   "source": [
    "#use total domestic rev of movie 12+\n",
    "\n",
    "url2 = 'https://www.filmsite.org/series-boxoffice2.html'\n",
    "url3 = 'https://www.filmsite.org/series-boxoffice3.html'\n",
    "url4 = 'https://www.filmsite.org/series-boxoffice4.html'\n",
    "\n",
    "df8 = pd.read_html(url2)\n",
    "df8 = pd.concat(df2)\n",
    "df8.drop(columns=[0,1,5], inplace=True)\n",
    "df8 = df8.rename(columns={2: 'series_list', 3:'number_of_films_in_franchise', 4:'top_movie'})"
   ]
  },
  {
   "cell_type": "code",
   "execution_count": null,
   "metadata": {},
   "outputs": [],
   "source": [
    "df5 = df5.drop([0, 1])"
   ]
  },
  {
   "cell_type": "code",
   "execution_count": null,
   "metadata": {},
   "outputs": [],
   "source": [
    "df2"
   ]
  },
  {
   "cell_type": "code",
   "execution_count": null,
   "metadata": {},
   "outputs": [],
   "source": [
    "df3 = pd.read_html(url3)\n",
    "df3 = pd.concat(df3)\n",
    "df3.drop(columns=[0,1,5], inplace=True)\n",
    "df3 = df3.rename(columns={2: 'series_list', 3:'number_of_films_in_franchise', 4:'top_movie'})"
   ]
  },
  {
   "cell_type": "code",
   "execution_count": null,
   "metadata": {},
   "outputs": [],
   "source": [
    "df3 = df3.drop([0, 1])"
   ]
  },
  {
   "cell_type": "code",
   "execution_count": null,
   "metadata": {},
   "outputs": [],
   "source": [
    "df3"
   ]
  },
  {
   "cell_type": "code",
   "execution_count": null,
   "metadata": {},
   "outputs": [],
   "source": [
    "df4 = pd.read_html(url4)\n",
    "df4 = pd.concat(df4)\n",
    "df4.drop(columns=[0,1,5], inplace=True)\n",
    "df4 = df4.rename(columns={2: 'series_list', 3:'number_of_films_in_franchise', 4:'top_movie'})\n"
   ]
  },
  {
   "cell_type": "code",
   "execution_count": null,
   "metadata": {},
   "outputs": [],
   "source": [
    "df4 = df4.drop([0, 1])"
   ]
  },
  {
   "cell_type": "code",
   "execution_count": null,
   "metadata": {},
   "outputs": [],
   "source": [
    "df4"
   ]
  },
  {
   "cell_type": "code",
   "execution_count": null,
   "metadata": {},
   "outputs": [],
   "source": [
    "page4 = franchise_splitter(df4, 'series_list')"
   ]
  },
  {
   "cell_type": "code",
   "execution_count": null,
   "metadata": {},
   "outputs": [],
   "source": [
    "# def franchise_splitter(df, col):\n",
    "    \n",
    "#     output = []\n",
    "#     for i in range(2, len(df)):\n",
    "#         some_list = df[col][i].split(')') \n",
    "#         for item in some_list:\n",
    "#             item2=item[2:]\n",
    "#             item3=item2[:-6]\n",
    "#             output.append(item3)\n",
    "    \n",
    "#     return output\n"
   ]
  },
  {
   "cell_type": "code",
   "execution_count": null,
   "metadata": {},
   "outputs": [],
   "source": [
    "df4"
   ]
  },
  {
   "cell_type": "code",
   "execution_count": null,
   "metadata": {},
   "outputs": [],
   "source": [
    "page4"
   ]
  },
  {
   "cell_type": "code",
   "execution_count": null,
   "metadata": {},
   "outputs": [],
   "source": [
    "page3 = franchise_splitter(df3, 'series_list')"
   ]
  },
  {
   "cell_type": "code",
   "execution_count": null,
   "metadata": {},
   "outputs": [],
   "source": [
    "page3"
   ]
  },
  {
   "cell_type": "code",
   "execution_count": null,
   "metadata": {
    "scrolled": true
   },
   "outputs": [],
   "source": [
    "page2 = franchise_splitter(df5, 'series_list')"
   ]
  },
  {
   "cell_type": "code",
   "execution_count": null,
   "metadata": {},
   "outputs": [],
   "source": [
    "df5.info()"
   ]
  },
  {
   "cell_type": "code",
   "execution_count": null,
   "metadata": {},
   "outputs": [],
   "source": [
    "all_pages = page1 + page2 + page3 +page4"
   ]
  },
  {
   "cell_type": "code",
   "execution_count": null,
   "metadata": {},
   "outputs": [],
   "source": [
    "all_pages"
   ]
  },
  {
   "cell_type": "code",
   "execution_count": null,
   "metadata": {},
   "outputs": [],
   "source": [
    "\n",
    "df8 = pd.read_html(url2)\n",
    "df8 = pd.concat(df8)\n",
    "df8.drop(columns=[0,1,5], inplace=True)\n",
    "df8 = df8.rename(columns={2: 'series_list', 3:'number_of_films_in_franchise', 4:'top_movie'})"
   ]
  },
  {
   "cell_type": "code",
   "execution_count": null,
   "metadata": {},
   "outputs": [],
   "source": [
    "df8 = df8.drop([0, 1])"
   ]
  },
  {
   "cell_type": "code",
   "execution_count": 28,
   "metadata": {},
   "outputs": [],
   "source": [
    "def franchise_splitter(df, col):\n",
    "    \n",
    "    output = []\n",
    "    for i in range(len(df)):\n",
    "        some_list = df[col][i].split(')') \n",
    "        for item in some_list:\n",
    "            item2=item[2:]\n",
    "            item3=item2[:-6]\n",
    "            output.append(item3)\n",
    "    \n",
    "    return output"
   ]
  },
  {
   "cell_type": "code",
   "execution_count": null,
   "metadata": {},
   "outputs": [],
   "source": [
    "page2 = franchise_splitter(df8, 'series_list')"
   ]
  },
  {
   "cell_type": "code",
   "execution_count": 40,
   "metadata": {},
   "outputs": [
    {
     "ename": "NameError",
     "evalue": "name 'all_pages' is not defined",
     "output_type": "error",
     "traceback": [
      "\u001b[0;31m---------------------------------------------------------------------------\u001b[0m",
      "\u001b[0;31mNameError\u001b[0m                                 Traceback (most recent call last)",
      "\u001b[0;32m<ipython-input-40-0e964119a235>\u001b[0m in \u001b[0;36m<module>\u001b[0;34m\u001b[0m\n\u001b[0;32m----> 1\u001b[0;31m \u001b[0mlen\u001b[0m\u001b[0;34m(\u001b[0m\u001b[0mall_pages\u001b[0m\u001b[0;34m)\u001b[0m\u001b[0;34m\u001b[0m\u001b[0;34m\u001b[0m\u001b[0m\n\u001b[0m",
      "\u001b[0;31mNameError\u001b[0m: name 'all_pages' is not defined"
     ]
    }
   ],
   "source": [
    "len(all_pages)"
   ]
  },
  {
   "cell_type": "code",
   "execution_count": null,
   "metadata": {},
   "outputs": [],
   "source": [
    "def franchise_tf(movie):\n",
    "    if movie in all_pages:\n",
    "        return True\n",
    "    else:\n",
    "        return False"
   ]
  },
  {
   "cell_type": "code",
   "execution_count": null,
   "metadata": {},
   "outputs": [],
   "source": [
    "franchise_tf('Dark Phoenix')"
   ]
  },
  {
   "cell_type": "code",
   "execution_count": null,
   "metadata": {},
   "outputs": [],
   "source": [
    "tn_movie_budgets.head()"
   ]
  },
  {
   "cell_type": "code",
   "execution_count": null,
   "metadata": {},
   "outputs": [],
   "source": [
    "tn_movie_budgets2 = tn_movie_budgets.copy()"
   ]
  },
  {
   "cell_type": "code",
   "execution_count": null,
   "metadata": {},
   "outputs": [],
   "source": [
    "tn_movie_budgets2['is_franchise'] = tn_movie_budgets2['movie'].map(franchise_tf)"
   ]
  },
  {
   "cell_type": "code",
   "execution_count": null,
   "metadata": {
    "scrolled": true
   },
   "outputs": [],
   "source": [
    "tn_movie_budgets2.loc[tn_movie_budgets2['is_franchise']==True]"
   ]
  },
  {
   "cell_type": "code",
   "execution_count": null,
   "metadata": {},
   "outputs": [],
   "source": [
    "tn_movie_budgets2['year'] = tn_movie_budgets2['release_date'].map(lambda x:x[-4:])"
   ]
  },
  {
   "cell_type": "code",
   "execution_count": null,
   "metadata": {},
   "outputs": [],
   "source": []
  },
  {
   "cell_type": "code",
   "execution_count": null,
   "metadata": {},
   "outputs": [],
   "source": [
    "col_to_int(tn_movie_budgets2, 'production_budget')"
   ]
  },
  {
   "cell_type": "code",
   "execution_count": null,
   "metadata": {},
   "outputs": [],
   "source": [
    "col_to_int(tn_movie_budgets2, 'domestic_gross')"
   ]
  },
  {
   "cell_type": "code",
   "execution_count": null,
   "metadata": {},
   "outputs": [],
   "source": [
    "col_to_int(tn_movie_budgets2, 'worldwide_gross')"
   ]
  },
  {
   "cell_type": "code",
   "execution_count": null,
   "metadata": {},
   "outputs": [],
   "source": [
    "tn_movie_budgets2['year'] = tn_movie_budgets2['year'].astype('int')"
   ]
  },
  {
   "cell_type": "code",
   "execution_count": null,
   "metadata": {},
   "outputs": [],
   "source": [
    "tn_movie_budgets2.info()"
   ]
  },
  {
   "cell_type": "code",
   "execution_count": null,
   "metadata": {},
   "outputs": [],
   "source": [
    "tn_movie_budgets2 = tn_movie_budgets2.loc[(tn_movie_budgets2['production_budget'] > 20000000) & (tn_movie_budgets2['year'] >= 2010)]"
   ]
  },
  {
   "cell_type": "code",
   "execution_count": null,
   "metadata": {},
   "outputs": [],
   "source": [
    "tn_movie_budgets2.is_franchise.sum()"
   ]
  },
  {
   "cell_type": "code",
   "execution_count": null,
   "metadata": {},
   "outputs": [],
   "source": [
    "\n",
    "ax = sns.lmplot(data=tn_movie_budgets2, x='production_budget', y='worldwide_gross', hue='is_franchise')\n"
   ]
  },
  {
   "cell_type": "code",
   "execution_count": 26,
   "metadata": {},
   "outputs": [],
   "source": [
    "df1 = df1.dropna()"
   ]
  },
  {
   "cell_type": "code",
   "execution_count": 38,
   "metadata": {},
   "outputs": [
    {
     "ename": "KeyError",
     "evalue": "'[0 1] not found in axis'",
     "output_type": "error",
     "traceback": [
      "\u001b[0;31m---------------------------------------------------------------------------\u001b[0m",
      "\u001b[0;31mKeyError\u001b[0m                                  Traceback (most recent call last)",
      "\u001b[0;32m<ipython-input-38-204fa54acb10>\u001b[0m in \u001b[0;36m<module>\u001b[0;34m\u001b[0m\n\u001b[0;32m----> 1\u001b[0;31m \u001b[0mdf1\u001b[0m \u001b[0;34m=\u001b[0m \u001b[0mdf1\u001b[0m\u001b[0;34m.\u001b[0m\u001b[0mdrop\u001b[0m\u001b[0;34m(\u001b[0m\u001b[0;34m[\u001b[0m\u001b[0;36m0\u001b[0m\u001b[0;34m,\u001b[0m\u001b[0;36m1\u001b[0m\u001b[0;34m]\u001b[0m\u001b[0;34m)\u001b[0m\u001b[0;34m\u001b[0m\u001b[0;34m\u001b[0m\u001b[0m\n\u001b[0m",
      "\u001b[0;32m~/opt/anaconda3/envs/learn-env/lib/python3.8/site-packages/pandas/core/frame.py\u001b[0m in \u001b[0;36mdrop\u001b[0;34m(self, labels, axis, index, columns, level, inplace, errors)\u001b[0m\n\u001b[1;32m   4161\u001b[0m                 \u001b[0mweight\u001b[0m  \u001b[0;36m1.0\u001b[0m     \u001b[0;36m0.8\u001b[0m\u001b[0;34m\u001b[0m\u001b[0;34m\u001b[0m\u001b[0m\n\u001b[1;32m   4162\u001b[0m         \"\"\"\n\u001b[0;32m-> 4163\u001b[0;31m         return super().drop(\n\u001b[0m\u001b[1;32m   4164\u001b[0m             \u001b[0mlabels\u001b[0m\u001b[0;34m=\u001b[0m\u001b[0mlabels\u001b[0m\u001b[0;34m,\u001b[0m\u001b[0;34m\u001b[0m\u001b[0;34m\u001b[0m\u001b[0m\n\u001b[1;32m   4165\u001b[0m             \u001b[0maxis\u001b[0m\u001b[0;34m=\u001b[0m\u001b[0maxis\u001b[0m\u001b[0;34m,\u001b[0m\u001b[0;34m\u001b[0m\u001b[0;34m\u001b[0m\u001b[0m\n",
      "\u001b[0;32m~/opt/anaconda3/envs/learn-env/lib/python3.8/site-packages/pandas/core/generic.py\u001b[0m in \u001b[0;36mdrop\u001b[0;34m(self, labels, axis, index, columns, level, inplace, errors)\u001b[0m\n\u001b[1;32m   3885\u001b[0m         \u001b[0;32mfor\u001b[0m \u001b[0maxis\u001b[0m\u001b[0;34m,\u001b[0m \u001b[0mlabels\u001b[0m \u001b[0;32min\u001b[0m \u001b[0maxes\u001b[0m\u001b[0;34m.\u001b[0m\u001b[0mitems\u001b[0m\u001b[0;34m(\u001b[0m\u001b[0;34m)\u001b[0m\u001b[0;34m:\u001b[0m\u001b[0;34m\u001b[0m\u001b[0;34m\u001b[0m\u001b[0m\n\u001b[1;32m   3886\u001b[0m             \u001b[0;32mif\u001b[0m \u001b[0mlabels\u001b[0m \u001b[0;32mis\u001b[0m \u001b[0;32mnot\u001b[0m \u001b[0;32mNone\u001b[0m\u001b[0;34m:\u001b[0m\u001b[0;34m\u001b[0m\u001b[0;34m\u001b[0m\u001b[0m\n\u001b[0;32m-> 3887\u001b[0;31m                 \u001b[0mobj\u001b[0m \u001b[0;34m=\u001b[0m \u001b[0mobj\u001b[0m\u001b[0;34m.\u001b[0m\u001b[0m_drop_axis\u001b[0m\u001b[0;34m(\u001b[0m\u001b[0mlabels\u001b[0m\u001b[0;34m,\u001b[0m \u001b[0maxis\u001b[0m\u001b[0;34m,\u001b[0m \u001b[0mlevel\u001b[0m\u001b[0;34m=\u001b[0m\u001b[0mlevel\u001b[0m\u001b[0;34m,\u001b[0m \u001b[0merrors\u001b[0m\u001b[0;34m=\u001b[0m\u001b[0merrors\u001b[0m\u001b[0;34m)\u001b[0m\u001b[0;34m\u001b[0m\u001b[0;34m\u001b[0m\u001b[0m\n\u001b[0m\u001b[1;32m   3888\u001b[0m \u001b[0;34m\u001b[0m\u001b[0m\n\u001b[1;32m   3889\u001b[0m         \u001b[0;32mif\u001b[0m \u001b[0minplace\u001b[0m\u001b[0;34m:\u001b[0m\u001b[0;34m\u001b[0m\u001b[0;34m\u001b[0m\u001b[0m\n",
      "\u001b[0;32m~/opt/anaconda3/envs/learn-env/lib/python3.8/site-packages/pandas/core/generic.py\u001b[0m in \u001b[0;36m_drop_axis\u001b[0;34m(self, labels, axis, level, errors)\u001b[0m\n\u001b[1;32m   3919\u001b[0m                 \u001b[0mnew_axis\u001b[0m \u001b[0;34m=\u001b[0m \u001b[0maxis\u001b[0m\u001b[0;34m.\u001b[0m\u001b[0mdrop\u001b[0m\u001b[0;34m(\u001b[0m\u001b[0mlabels\u001b[0m\u001b[0;34m,\u001b[0m \u001b[0mlevel\u001b[0m\u001b[0;34m=\u001b[0m\u001b[0mlevel\u001b[0m\u001b[0;34m,\u001b[0m \u001b[0merrors\u001b[0m\u001b[0;34m=\u001b[0m\u001b[0merrors\u001b[0m\u001b[0;34m)\u001b[0m\u001b[0;34m\u001b[0m\u001b[0;34m\u001b[0m\u001b[0m\n\u001b[1;32m   3920\u001b[0m             \u001b[0;32melse\u001b[0m\u001b[0;34m:\u001b[0m\u001b[0;34m\u001b[0m\u001b[0;34m\u001b[0m\u001b[0m\n\u001b[0;32m-> 3921\u001b[0;31m                 \u001b[0mnew_axis\u001b[0m \u001b[0;34m=\u001b[0m \u001b[0maxis\u001b[0m\u001b[0;34m.\u001b[0m\u001b[0mdrop\u001b[0m\u001b[0;34m(\u001b[0m\u001b[0mlabels\u001b[0m\u001b[0;34m,\u001b[0m \u001b[0merrors\u001b[0m\u001b[0;34m=\u001b[0m\u001b[0merrors\u001b[0m\u001b[0;34m)\u001b[0m\u001b[0;34m\u001b[0m\u001b[0;34m\u001b[0m\u001b[0m\n\u001b[0m\u001b[1;32m   3922\u001b[0m             \u001b[0mresult\u001b[0m \u001b[0;34m=\u001b[0m \u001b[0mself\u001b[0m\u001b[0;34m.\u001b[0m\u001b[0mreindex\u001b[0m\u001b[0;34m(\u001b[0m\u001b[0;34m**\u001b[0m\u001b[0;34m{\u001b[0m\u001b[0maxis_name\u001b[0m\u001b[0;34m:\u001b[0m \u001b[0mnew_axis\u001b[0m\u001b[0;34m}\u001b[0m\u001b[0;34m)\u001b[0m\u001b[0;34m\u001b[0m\u001b[0;34m\u001b[0m\u001b[0m\n\u001b[1;32m   3923\u001b[0m \u001b[0;34m\u001b[0m\u001b[0m\n",
      "\u001b[0;32m~/opt/anaconda3/envs/learn-env/lib/python3.8/site-packages/pandas/core/indexes/base.py\u001b[0m in \u001b[0;36mdrop\u001b[0;34m(self, labels, errors)\u001b[0m\n\u001b[1;32m   5280\u001b[0m         \u001b[0;32mif\u001b[0m \u001b[0mmask\u001b[0m\u001b[0;34m.\u001b[0m\u001b[0many\u001b[0m\u001b[0;34m(\u001b[0m\u001b[0;34m)\u001b[0m\u001b[0;34m:\u001b[0m\u001b[0;34m\u001b[0m\u001b[0;34m\u001b[0m\u001b[0m\n\u001b[1;32m   5281\u001b[0m             \u001b[0;32mif\u001b[0m \u001b[0merrors\u001b[0m \u001b[0;34m!=\u001b[0m \u001b[0;34m\"ignore\"\u001b[0m\u001b[0;34m:\u001b[0m\u001b[0;34m\u001b[0m\u001b[0;34m\u001b[0m\u001b[0m\n\u001b[0;32m-> 5282\u001b[0;31m                 \u001b[0;32mraise\u001b[0m \u001b[0mKeyError\u001b[0m\u001b[0;34m(\u001b[0m\u001b[0;34mf\"{labels[mask]} not found in axis\"\u001b[0m\u001b[0;34m)\u001b[0m\u001b[0;34m\u001b[0m\u001b[0;34m\u001b[0m\u001b[0m\n\u001b[0m\u001b[1;32m   5283\u001b[0m             \u001b[0mindexer\u001b[0m \u001b[0;34m=\u001b[0m \u001b[0mindexer\u001b[0m\u001b[0;34m[\u001b[0m\u001b[0;34m~\u001b[0m\u001b[0mmask\u001b[0m\u001b[0;34m]\u001b[0m\u001b[0;34m\u001b[0m\u001b[0;34m\u001b[0m\u001b[0m\n\u001b[1;32m   5284\u001b[0m         \u001b[0;32mreturn\u001b[0m \u001b[0mself\u001b[0m\u001b[0;34m.\u001b[0m\u001b[0mdelete\u001b[0m\u001b[0;34m(\u001b[0m\u001b[0mindexer\u001b[0m\u001b[0;34m)\u001b[0m\u001b[0;34m\u001b[0m\u001b[0;34m\u001b[0m\u001b[0m\n",
      "\u001b[0;31mKeyError\u001b[0m: '[0 1] not found in axis'"
     ]
    }
   ],
   "source": [
    "df1 = df1.drop([0,1])"
   ]
  },
  {
   "cell_type": "code",
   "execution_count": null,
   "metadata": {},
   "outputs": [],
   "source": []
  },
  {
   "cell_type": "code",
   "execution_count": 39,
   "metadata": {},
   "outputs": [
    {
     "ename": "KeyError",
     "evalue": "0",
     "output_type": "error",
     "traceback": [
      "\u001b[0;31m---------------------------------------------------------------------------\u001b[0m",
      "\u001b[0;31mKeyError\u001b[0m                                  Traceback (most recent call last)",
      "\u001b[0;32m~/opt/anaconda3/envs/learn-env/lib/python3.8/site-packages/pandas/core/indexes/base.py\u001b[0m in \u001b[0;36mget_loc\u001b[0;34m(self, key, method, tolerance)\u001b[0m\n\u001b[1;32m   2894\u001b[0m             \u001b[0;32mtry\u001b[0m\u001b[0;34m:\u001b[0m\u001b[0;34m\u001b[0m\u001b[0;34m\u001b[0m\u001b[0m\n\u001b[0;32m-> 2895\u001b[0;31m                 \u001b[0;32mreturn\u001b[0m \u001b[0mself\u001b[0m\u001b[0;34m.\u001b[0m\u001b[0m_engine\u001b[0m\u001b[0;34m.\u001b[0m\u001b[0mget_loc\u001b[0m\u001b[0;34m(\u001b[0m\u001b[0mcasted_key\u001b[0m\u001b[0;34m)\u001b[0m\u001b[0;34m\u001b[0m\u001b[0;34m\u001b[0m\u001b[0m\n\u001b[0m\u001b[1;32m   2896\u001b[0m             \u001b[0;32mexcept\u001b[0m \u001b[0mKeyError\u001b[0m \u001b[0;32mas\u001b[0m \u001b[0merr\u001b[0m\u001b[0;34m:\u001b[0m\u001b[0;34m\u001b[0m\u001b[0;34m\u001b[0m\u001b[0m\n",
      "\u001b[0;32mpandas/_libs/index.pyx\u001b[0m in \u001b[0;36mpandas._libs.index.IndexEngine.get_loc\u001b[0;34m()\u001b[0m\n",
      "\u001b[0;32mpandas/_libs/index.pyx\u001b[0m in \u001b[0;36mpandas._libs.index.IndexEngine.get_loc\u001b[0;34m()\u001b[0m\n",
      "\u001b[0;32mpandas/_libs/hashtable_class_helper.pxi\u001b[0m in \u001b[0;36mpandas._libs.hashtable.Int64HashTable.get_item\u001b[0;34m()\u001b[0m\n",
      "\u001b[0;32mpandas/_libs/hashtable_class_helper.pxi\u001b[0m in \u001b[0;36mpandas._libs.hashtable.Int64HashTable.get_item\u001b[0;34m()\u001b[0m\n",
      "\u001b[0;31mKeyError\u001b[0m: 0",
      "\nThe above exception was the direct cause of the following exception:\n",
      "\u001b[0;31mKeyError\u001b[0m                                  Traceback (most recent call last)",
      "\u001b[0;32m<ipython-input-39-444ece860c41>\u001b[0m in \u001b[0;36m<module>\u001b[0;34m\u001b[0m\n\u001b[0;32m----> 1\u001b[0;31m \u001b[0mpagetest\u001b[0m \u001b[0;34m=\u001b[0m \u001b[0mfranchise_splitter\u001b[0m\u001b[0;34m(\u001b[0m\u001b[0mdf1\u001b[0m\u001b[0;34m,\u001b[0m \u001b[0;34m'series_list'\u001b[0m\u001b[0;34m)\u001b[0m\u001b[0;34m\u001b[0m\u001b[0;34m\u001b[0m\u001b[0m\n\u001b[0m",
      "\u001b[0;32m<ipython-input-28-67929952a621>\u001b[0m in \u001b[0;36mfranchise_splitter\u001b[0;34m(df, col)\u001b[0m\n\u001b[1;32m      3\u001b[0m     \u001b[0moutput\u001b[0m \u001b[0;34m=\u001b[0m \u001b[0;34m[\u001b[0m\u001b[0;34m]\u001b[0m\u001b[0;34m\u001b[0m\u001b[0;34m\u001b[0m\u001b[0m\n\u001b[1;32m      4\u001b[0m     \u001b[0;32mfor\u001b[0m \u001b[0mi\u001b[0m \u001b[0;32min\u001b[0m \u001b[0mrange\u001b[0m\u001b[0;34m(\u001b[0m\u001b[0mlen\u001b[0m\u001b[0;34m(\u001b[0m\u001b[0mdf\u001b[0m\u001b[0;34m)\u001b[0m\u001b[0;34m)\u001b[0m\u001b[0;34m:\u001b[0m\u001b[0;34m\u001b[0m\u001b[0;34m\u001b[0m\u001b[0m\n\u001b[0;32m----> 5\u001b[0;31m         \u001b[0msome_list\u001b[0m \u001b[0;34m=\u001b[0m \u001b[0mdf\u001b[0m\u001b[0;34m[\u001b[0m\u001b[0mcol\u001b[0m\u001b[0;34m]\u001b[0m\u001b[0;34m[\u001b[0m\u001b[0mi\u001b[0m\u001b[0;34m]\u001b[0m\u001b[0;34m.\u001b[0m\u001b[0msplit\u001b[0m\u001b[0;34m(\u001b[0m\u001b[0;34m')'\u001b[0m\u001b[0;34m)\u001b[0m\u001b[0;34m\u001b[0m\u001b[0;34m\u001b[0m\u001b[0m\n\u001b[0m\u001b[1;32m      6\u001b[0m         \u001b[0;32mfor\u001b[0m \u001b[0mitem\u001b[0m \u001b[0;32min\u001b[0m \u001b[0msome_list\u001b[0m\u001b[0;34m:\u001b[0m\u001b[0;34m\u001b[0m\u001b[0;34m\u001b[0m\u001b[0m\n\u001b[1;32m      7\u001b[0m             \u001b[0mitem2\u001b[0m\u001b[0;34m=\u001b[0m\u001b[0mitem\u001b[0m\u001b[0;34m[\u001b[0m\u001b[0;36m2\u001b[0m\u001b[0;34m:\u001b[0m\u001b[0;34m]\u001b[0m\u001b[0;34m\u001b[0m\u001b[0;34m\u001b[0m\u001b[0m\n",
      "\u001b[0;32m~/opt/anaconda3/envs/learn-env/lib/python3.8/site-packages/pandas/core/series.py\u001b[0m in \u001b[0;36m__getitem__\u001b[0;34m(self, key)\u001b[0m\n\u001b[1;32m    880\u001b[0m \u001b[0;34m\u001b[0m\u001b[0m\n\u001b[1;32m    881\u001b[0m         \u001b[0;32melif\u001b[0m \u001b[0mkey_is_scalar\u001b[0m\u001b[0;34m:\u001b[0m\u001b[0;34m\u001b[0m\u001b[0;34m\u001b[0m\u001b[0m\n\u001b[0;32m--> 882\u001b[0;31m             \u001b[0;32mreturn\u001b[0m \u001b[0mself\u001b[0m\u001b[0;34m.\u001b[0m\u001b[0m_get_value\u001b[0m\u001b[0;34m(\u001b[0m\u001b[0mkey\u001b[0m\u001b[0;34m)\u001b[0m\u001b[0;34m\u001b[0m\u001b[0;34m\u001b[0m\u001b[0m\n\u001b[0m\u001b[1;32m    883\u001b[0m \u001b[0;34m\u001b[0m\u001b[0m\n\u001b[1;32m    884\u001b[0m         \u001b[0;32mif\u001b[0m \u001b[0mis_hashable\u001b[0m\u001b[0;34m(\u001b[0m\u001b[0mkey\u001b[0m\u001b[0;34m)\u001b[0m\u001b[0;34m:\u001b[0m\u001b[0;34m\u001b[0m\u001b[0;34m\u001b[0m\u001b[0m\n",
      "\u001b[0;32m~/opt/anaconda3/envs/learn-env/lib/python3.8/site-packages/pandas/core/series.py\u001b[0m in \u001b[0;36m_get_value\u001b[0;34m(self, label, takeable)\u001b[0m\n\u001b[1;32m    987\u001b[0m \u001b[0;34m\u001b[0m\u001b[0m\n\u001b[1;32m    988\u001b[0m         \u001b[0;31m# Similar to Index.get_value, but we do not fall back to positional\u001b[0m\u001b[0;34m\u001b[0m\u001b[0;34m\u001b[0m\u001b[0;34m\u001b[0m\u001b[0m\n\u001b[0;32m--> 989\u001b[0;31m         \u001b[0mloc\u001b[0m \u001b[0;34m=\u001b[0m \u001b[0mself\u001b[0m\u001b[0;34m.\u001b[0m\u001b[0mindex\u001b[0m\u001b[0;34m.\u001b[0m\u001b[0mget_loc\u001b[0m\u001b[0;34m(\u001b[0m\u001b[0mlabel\u001b[0m\u001b[0;34m)\u001b[0m\u001b[0;34m\u001b[0m\u001b[0;34m\u001b[0m\u001b[0m\n\u001b[0m\u001b[1;32m    990\u001b[0m         \u001b[0;32mreturn\u001b[0m \u001b[0mself\u001b[0m\u001b[0;34m.\u001b[0m\u001b[0mindex\u001b[0m\u001b[0;34m.\u001b[0m\u001b[0m_get_values_for_loc\u001b[0m\u001b[0;34m(\u001b[0m\u001b[0mself\u001b[0m\u001b[0;34m,\u001b[0m \u001b[0mloc\u001b[0m\u001b[0;34m,\u001b[0m \u001b[0mlabel\u001b[0m\u001b[0;34m)\u001b[0m\u001b[0;34m\u001b[0m\u001b[0;34m\u001b[0m\u001b[0m\n\u001b[1;32m    991\u001b[0m \u001b[0;34m\u001b[0m\u001b[0m\n",
      "\u001b[0;32m~/opt/anaconda3/envs/learn-env/lib/python3.8/site-packages/pandas/core/indexes/base.py\u001b[0m in \u001b[0;36mget_loc\u001b[0;34m(self, key, method, tolerance)\u001b[0m\n\u001b[1;32m   2895\u001b[0m                 \u001b[0;32mreturn\u001b[0m \u001b[0mself\u001b[0m\u001b[0;34m.\u001b[0m\u001b[0m_engine\u001b[0m\u001b[0;34m.\u001b[0m\u001b[0mget_loc\u001b[0m\u001b[0;34m(\u001b[0m\u001b[0mcasted_key\u001b[0m\u001b[0;34m)\u001b[0m\u001b[0;34m\u001b[0m\u001b[0;34m\u001b[0m\u001b[0m\n\u001b[1;32m   2896\u001b[0m             \u001b[0;32mexcept\u001b[0m \u001b[0mKeyError\u001b[0m \u001b[0;32mas\u001b[0m \u001b[0merr\u001b[0m\u001b[0;34m:\u001b[0m\u001b[0;34m\u001b[0m\u001b[0;34m\u001b[0m\u001b[0m\n\u001b[0;32m-> 2897\u001b[0;31m                 \u001b[0;32mraise\u001b[0m \u001b[0mKeyError\u001b[0m\u001b[0;34m(\u001b[0m\u001b[0mkey\u001b[0m\u001b[0;34m)\u001b[0m \u001b[0;32mfrom\u001b[0m \u001b[0merr\u001b[0m\u001b[0;34m\u001b[0m\u001b[0;34m\u001b[0m\u001b[0m\n\u001b[0m\u001b[1;32m   2898\u001b[0m \u001b[0;34m\u001b[0m\u001b[0m\n\u001b[1;32m   2899\u001b[0m         \u001b[0;32mif\u001b[0m \u001b[0mtolerance\u001b[0m \u001b[0;32mis\u001b[0m \u001b[0;32mnot\u001b[0m \u001b[0;32mNone\u001b[0m\u001b[0;34m:\u001b[0m\u001b[0;34m\u001b[0m\u001b[0;34m\u001b[0m\u001b[0m\n",
      "\u001b[0;31mKeyError\u001b[0m: 0"
     ]
    }
   ],
   "source": [
    "pagetest = franchise_splitter(df1, 'series_list')"
   ]
  },
  {
   "cell_type": "code",
   "execution_count": 30,
   "metadata": {},
   "outputs": [
    {
     "data": {
      "text/plain": [
       "['eatest Film Series Franchises  (part 1 of 4, above $750 million total revenue, in  descending',\n",
       " '',\n",
       " 'dividual Films in Franchise  (if clickable, links to r',\n",
       " '',\n",
       " \"rvel's Cinematic  Universe  Iron Man\",\n",
       " 'The Incredible Hulk',\n",
       " 'Iron Man 2',\n",
       " 'Thor',\n",
       " 'Captain America: The First Avenger',\n",
       " \"Marvel's The Avengers\",\n",
       " 'Iron Man 3',\n",
       " 'hor: The Dark World',\n",
       " 'aptain America: The Winter Soldier',\n",
       " 'Guardians of the Galaxy',\n",
       " 'Avengers: Age of Ultron',\n",
       " 'Ant-Man',\n",
       " 'Captain America: Civil War',\n",
       " 'Doctor Strange',\n",
       " 'Guardians of the Galaxy Vol. 2',\n",
       " 'Spider-Man: Homecoming',\n",
       " 'Thor: Ragnarok',\n",
       " 'Black Panther',\n",
       " 'Avengers: Infinity War',\n",
       " 'Ant-Man and the Wasp',\n",
       " 'Captain Marvel',\n",
       " 'Avengers: Endgame',\n",
       " 'Spider-Man: Far from Home',\n",
       " '',\n",
       " 'xar-Disney Animations *  Toy Story',\n",
       " \"A Bug's Life\",\n",
       " 'Toy Story 2',\n",
       " 'Monsters, Inc.',\n",
       " 'Finding Nemo',\n",
       " 'The Incredibles',\n",
       " 'Cars',\n",
       " 'Ratatouille',\n",
       " 'WALL-E',\n",
       " 'Up',\n",
       " 'Toy Story 3',\n",
       " 'Cars 2',\n",
       " 'Brave',\n",
       " 'Monsters University',\n",
       " 'Inside Out',\n",
       " 'The Good Dinosaur',\n",
       " 'Finding Dory',\n",
       " 'Cars 3',\n",
       " 'Coco',\n",
       " 'Incredibles 2',\n",
       " 'Toy Story 4',\n",
       " 'Onward',\n",
       " 'Soul',\n",
       " '(* Is it a brand and/or a fran',\n",
       " '',\n",
       " 'ar Wars  (',\n",
       " 'tar Wars: (Original T',\n",
       " 'tar Wars: Episode IV -  A New Hope',\n",
       " 'Star Wars: Episode V - The  Empire Strikes Back',\n",
       " 'Star Wars: Episode VI - Return  of the Jedi',\n",
       " 'Star Wars: (Prequel T',\n",
       " 'tar Wars: Episode I - The Phantom  Menace',\n",
       " 'Star Wars: Episode II - Attack  of the Clones',\n",
       " 'Star Wars: Episode III - Revenge  of the Sith',\n",
       " 'Star Wars: (Sequel T',\n",
       " 'tar Wars: Episode VII  - The Force Awakens',\n",
       " 'Star Wars: Episode VIII -  The Last Jedi',\n",
       " 'Star Wars: Episode IX - The Rise of Skywalker',\n",
       " 'tar Wars: (Anthology Films and Spi',\n",
       " 'tar Wars: The Clone Wars',\n",
       " 'Rogue One: A Star Wars Story ',\n",
       " 'Solo: A Star Wars Story',\n",
       " 'does not include re-re',\n",
       " '',\n",
       " 'sney (Live-Action Animations Reim',\n",
       " 'The Jungle Book The Jungle Book',\n",
       " 'The Jungle Book',\n",
       " '101 Dalmatians 101 Dalmatians',\n",
       " '102 Dalmatians',\n",
       " 'lice in Wonderland Alice in Wonderland',\n",
       " 'Alice Through the Looking Glass',\n",
       " 'Maleficent  Maleficent',\n",
       " 'Maleficent: Mistress of Evil',\n",
       " 'z the Great and Powerful',\n",
       " 'Cinderella',\n",
       " \"ete's Dragon\",\n",
       " 'eauty and the Beast',\n",
       " 'Dumbo',\n",
       " 'Aladdin',\n",
       " 'The Lion King',\n",
       " '',\n",
       " \"K. Rowling Wizardry Harry Potter  Harry Potter and the Sorcerer's  Stone\",\n",
       " 'Harry Potter and the Chamber  of Secrets',\n",
       " 'Harry Potter and the  Prisoner of Azkaban',\n",
       " 'Harry Potter and  the Goblet of Fire',\n",
       " 'Harry Potter  and the Order of the Phoenix',\n",
       " 'Harry  Potter and the Half-Blood Prince',\n",
       " 'Harry  Potter and the Deathly Hallows, Part  1',\n",
       " 'Harry  Potter and the Deathly Hallows, Part  2',\n",
       " 'Fantastic Beasts Fantastic Beasts and Where to Find  Them',\n",
       " 'Fantastic Beasts: The Crimes of Grindelwald ',\n",
       " '',\n",
       " \"engers  (see Marvel's Cinematic Un\",\n",
       " \"Marvel's The Avengers\",\n",
       " 'Avengers: Age of Ultron',\n",
       " 'Avengers: Infinity War',\n",
       " 'Avengers: Endgame',\n",
       " '',\n",
       " 'ider-Man Spider-Man (Sam',\n",
       " 'pider-Man',\n",
       " 'Spider-Man 2',\n",
       " 'Spider-Man 3',\n",
       " 'Spider-Man (Mar',\n",
       " 'he Amazing Spider-Man',\n",
       " 'he Amazing Spider-Man  2',\n",
       " \"Spider-Man  (see Marvel's Cinematic  Un\",\n",
       " 'Spider-Man:  Homecoming',\n",
       " 'pider-Man: Far From Home ',\n",
       " 'pider-Verse  (An',\n",
       " 'pider-Man: Into the Spider-Verse ',\n",
       " '',\n",
       " 'Men  X-Men (Original ',\n",
       " '-Men',\n",
       " 'X2: X-Men United',\n",
       " 'X-Men: The Last Stand',\n",
       " 'X-Men: First Class',\n",
       " 'X-Men: Days of Future Past',\n",
       " 'X-Men: Apocalypse',\n",
       " '-Men (Wolverine & Phoenix Spi',\n",
       " '-Men Origins: Wolverine',\n",
       " 'The Wolverine',\n",
       " 'Logan',\n",
       " 'X-Men Dark Phoenix',\n",
       " '-Men (Deadpool Spi',\n",
       " 'eadpool',\n",
       " 'Deadpool 2',\n",
       " '',\n",
       " 'tman  Batman (Early',\n",
       " 'atman: The Movie',\n",
       " 'Batman (Burton/Schu',\n",
       " 'atman',\n",
       " 'Batman Returns',\n",
       " 'Batman Forever',\n",
       " 'Batman & Robin',\n",
       " 'Batman (An',\n",
       " 'atman: Mask of the Phantasm',\n",
       " 'atman: The Killing Joke',\n",
       " 'The LEGO Batman Movie',\n",
       " 'atman (The Dark Knight T',\n",
       " 'atman Begins',\n",
       " 'The Dark Knight',\n",
       " 'The Dark Knight Rises',\n",
       " 'Batman  (see DC  Extended Un',\n",
       " 'Batman v Superman: Dawn  of Justice',\n",
       " '',\n",
       " ' Extended  Universe  Man of Steel ',\n",
       " 'Batman v Superman:  Dawn of Justice',\n",
       " 'Suicide Squad',\n",
       " 'Wonder Woman',\n",
       " 'Justice League',\n",
       " 'Aquaman',\n",
       " 'Shazam!',\n",
       " 'Birds of Prey: And the Fantabulous Emancipation of One Harley  Quinn',\n",
       " '',\n",
       " 'mes Bond (',\n",
       " 'r. No',\n",
       " 'From Russia With Love',\n",
       " 'Goldfinger',\n",
       " 'Thunderball',\n",
       " 'You Only Live Twice',\n",
       " \"On Her Majesty's Secret Service\",\n",
       " 'Diamonds Are Forever',\n",
       " 'Live and Let Die',\n",
       " 'The Man with the Golden Gun',\n",
       " 'The Spy Who Loved Me',\n",
       " 'Moonraker',\n",
       " 'For Your Eyes Only',\n",
       " 'Octopussy',\n",
       " 'A View to a Kill',\n",
       " 'The Living Daylights',\n",
       " 'Licence to Kill',\n",
       " 'GoldenEye',\n",
       " 'Tomorrow Never Dies',\n",
       " 'The World is Not Enough',\n",
       " 'Die Another Day',\n",
       " 'Casino Royale',\n",
       " 'Quantum of Solace, 007',\n",
       " 'Skyfall',\n",
       " 'pectre',\n",
       " 'o Time to Die',\n",
       " '',\n",
       " 'on-Canon Films: Casino Royale',\n",
       " 'ever Say Never Again',\n",
       " '',\n",
       " '',\n",
       " 'rassic Park  Jurassic Park Jurassic Park',\n",
       " 'The Lost World: Jurassic Park',\n",
       " 'Jurassic Park III',\n",
       " 'Sequel Trilogy Jurassic World',\n",
       " 'Jurassic World: Fallen Kingdom',\n",
       " '',\n",
       " 'ddle Earth  The Lord of the Rings The Lord of the Rings: The  Fellowship of the Ring',\n",
       " 'The Lord of the  Rings: The Two Towers',\n",
       " 'The Lord of  the Rings: The Return of the King',\n",
       " 'The Hobbit The Hobbit: An Unexpected Journey ',\n",
       " 'The Hobbit: The Desolation  of Smaug',\n",
       " 'he Hobbit:  The Battle of the Five Armies',\n",
       " '',\n",
       " 'st and the Furious  The Fast and the Furious',\n",
       " '2 Fast 2 Furious',\n",
       " 'The Fast and the Furious: Tokyo Drift',\n",
       " 'Fast & Furious',\n",
       " 'Fast Five',\n",
       " 'Fast & Furious 6',\n",
       " 'Fast & Furious 7',\n",
       " 'aka Fur',\n",
       " 'The Fate of the Furious',\n",
       " 'Fast & Furious Presents: Hobbs & Shaw',\n",
       " '',\n",
       " 'ansformers  Transformers: The Movie',\n",
       " 'Transformers',\n",
       " 'Transformers: Revenge of the Fallen',\n",
       " 'Transformers: Dark of the Moon',\n",
       " 'Transformers: Age of Extinction',\n",
       " 'Transformers: The Last Knight',\n",
       " 'Bumblebee',\n",
       " '',\n",
       " 'rates of the Caribbean  Pirates of the Caribbean:  The Curse of the Black Pearl',\n",
       " \"Pirates of the Caribbean:  Dead Man's Chest\",\n",
       " \"Pirates of the  Caribbean: At World's End\",\n",
       " 'Pirates of  the Caribbean: On Stranger Tides',\n",
       " 'Pirates  of the Caribbean: Dead Men Tell No Tales',\n",
       " '',\n",
       " 'e Hunger Games  The Hunger Games',\n",
       " 'The Hunger Games: Catching Fire',\n",
       " 'The Hunger Games: Mockingjay - Part 1',\n",
       " 'The Hunger Games: Mockingjay - Part 2',\n",
       " '',\n",
       " 'rek (Original and S',\n",
       " 'hrek',\n",
       " 'Shrek 2',\n",
       " 'Shrek the Third',\n",
       " 'Shrek Forever After',\n",
       " 'Shrek (Sp',\n",
       " 'uss in Boots',\n",
       " '',\n",
       " 'ar Trek Star Trek (Or',\n",
       " 'tar Trek: The Motion Picture',\n",
       " 'Star Trek II: The Wrath of Khan',\n",
       " 'Star Trek III: The Search for Spock ',\n",
       " 'Star Trek IV: The Voyage Home ',\n",
       " 'Star Trek V: The Final  Frontier',\n",
       " 'Star Trek VI: The  Undiscovered Country',\n",
       " 'Star Trek (Next Gene',\n",
       " 'Star Trek: Generations ',\n",
       " 'Star Trek: First  Contact',\n",
       " 'Star Trek: Insurrection ',\n",
       " 'Star Trek Nemesis ',\n",
       " 'Star Trek (',\n",
       " 'Star Trek',\n",
       " 'Star Trek Into Darkness ',\n",
       " 'tar  Trek Beyond',\n",
       " '',\n",
       " 'ilight Saga  Twilight',\n",
       " 'The Twilight Saga: New Moon',\n",
       " 'The Twilight Saga: Eclipse',\n",
       " 'The Twilight Saga: Breaking Dawn, Part 1',\n",
       " 'The Twilight Saga: Breaking Dawn, Part 2',\n",
       " '',\n",
       " 'y Story  (see Pixar-',\n",
       " 'oy Story',\n",
       " 'Toy Story 2',\n",
       " 'Toy Story 3',\n",
       " 'Toy Story 4',\n",
       " '',\n",
       " 'spicable Me  Despicable Me  Despicable Me',\n",
       " 'Despicable Me 2',\n",
       " 'Despicable Me 3',\n",
       " 'inions  Minions',\n",
       " '',\n",
       " 'e Dark Knight Trilogy (see ',\n",
       " 'Batman Begins',\n",
       " 'The Dark Knight',\n",
       " 'The Dark Knight Rises',\n",
       " '',\n",
       " 'ssion: Impossible  Mission: Impossible',\n",
       " 'Mission: Impossible II',\n",
       " 'Mission: Impossible III',\n",
       " 'Mission: Impossible - Ghost  Protocol',\n",
       " 'Mission: Impossible - Rogue Nation',\n",
       " 'Mission: Impossible - Fallout',\n",
       " '',\n",
       " 'perman  Superman (Or',\n",
       " 'uperman',\n",
       " 'Superman II',\n",
       " 'Superman III',\n",
       " 'Superman IV: The Quest for Peace ',\n",
       " 'Superman (Homage ',\n",
       " 'uperman Returns',\n",
       " 'Superman (see DC Extended  Un',\n",
       " 'an of Steel',\n",
       " 'Batman v Superman:  Dawn of Justice',\n",
       " '',\n",
       " \"on Man (see Marvel's Cinematic Un\",\n",
       " 'ron Man',\n",
       " 'Iron Man 2',\n",
       " 'Iron Man 3',\n",
       " '',\n",
       " 'e Lord of the Rings Trilogy (see Middle',\n",
       " 'The Lord of the Rings',\n",
       " '(Not Included in ',\n",
       " 'he Lord of the Rings:  The Fellowship of the Ring',\n",
       " 'The Lord of the Rings:  The Two Towers',\n",
       " 'The Lord of the Rings:  The Return of the King',\n",
       " '',\n",
       " 'diana Jones  Raiders of the Lost Ark',\n",
       " 'Indiana Jones and the Temple of  Doom',\n",
       " 'Indiana Jones and the Last  Crusade',\n",
       " 'Indiana Jones and the Kingdom  of the Crystal Skull',\n",
       " '',\n",
       " \"ptain America  (see Marvel's  Cinematic Un\",\n",
       " 'Captain America: The First Avenger',\n",
       " 'aptain America: The Winter Soldier',\n",
       " 'aptain America: Civil War',\n",
       " '',\n",
       " 'manji  Jumanji',\n",
       " 'Jumanji: Welcome to the Jungle',\n",
       " 'Jumanji: The Next Level',\n",
       " '',\n",
       " 'e Hobbit (see The Lord of the',\n",
       " 'he  Hobbit: An Unexpected Journey',\n",
       " 'The Hobbit: The Desolation  of Smaug',\n",
       " 'he Hobbit:  The Battle of the Five Armies',\n",
       " '',\n",
       " 'urne  The Bourne Identity',\n",
       " 'The Bourne Supremacy',\n",
       " 'The Bourne Ultimatum',\n",
       " 'The Bourne Legacy',\n",
       " 'ason Bourne',\n",
       " '',\n",
       " 'anet of the Apes  Planet of the Apes (Or',\n",
       " 'lanet of the Apes',\n",
       " 'Beneath the Planet of the Apes ',\n",
       " 'Escape from the Planet  of the Apes',\n",
       " 'Conquest of the Planet  of the Apes',\n",
       " 'Battle for the  Planet of the Apes',\n",
       " 'Planet of the Apes (',\n",
       " 'lanet  of the Apes',\n",
       " 'Planet of the Apes (',\n",
       " 'ise  of the Planet of the Apes',\n",
       " 'awn  of the Planet of the Apes',\n",
       " 'War  for the Planet of the Apes',\n",
       " '',\n",
       " 'e Age  Ice Age',\n",
       " 'Ice Age: The Meltdown',\n",
       " 'Ice Age 3: Dawn of the Dinosaurs',\n",
       " 'ce Age: Continental Drift',\n",
       " 'ce Age: Collision Course',\n",
       " '',\n",
       " 'cky  Rocky',\n",
       " 'Rocky II',\n",
       " 'Rocky III',\n",
       " 'Rocky IV',\n",
       " 'Rocky V',\n",
       " 'Rocky Balboa',\n",
       " 'reed',\n",
       " 'Creed II',\n",
       " '']"
      ]
     },
     "execution_count": 30,
     "metadata": {},
     "output_type": "execute_result"
    }
   ],
   "source": [
    "pagetest"
   ]
  },
  {
   "cell_type": "code",
   "execution_count": null,
   "metadata": {},
   "outputs": [],
   "source": []
  }
 ],
 "metadata": {
  "kernelspec": {
   "display_name": "learn-env",
   "language": "python",
   "name": "learn-env"
  },
  "language_info": {
   "codemirror_mode": {
    "name": "ipython",
    "version": 3
   },
   "file_extension": ".py",
   "mimetype": "text/x-python",
   "name": "python",
   "nbconvert_exporter": "python",
   "pygments_lexer": "ipython3",
   "version": "3.8.5"
  },
  "toc": {
   "base_numbering": 1,
   "nav_menu": {},
   "number_sections": true,
   "sideBar": true,
   "skip_h1_title": false,
   "title_cell": "Table of Contents",
   "title_sidebar": "Contents",
   "toc_cell": false,
   "toc_position": {},
   "toc_section_display": true,
   "toc_window_display": false
  },
  "varInspector": {
   "cols": {
    "lenName": 16,
    "lenType": 16,
    "lenVar": 40
   },
   "kernels_config": {
    "python": {
     "delete_cmd_postfix": "",
     "delete_cmd_prefix": "del ",
     "library": "var_list.py",
     "varRefreshCmd": "print(var_dic_list())"
    },
    "r": {
     "delete_cmd_postfix": ") ",
     "delete_cmd_prefix": "rm(",
     "library": "var_list.r",
     "varRefreshCmd": "cat(var_dic_list()) "
    }
   },
   "oldHeight": 122,
   "position": {
    "height": "144px",
    "left": "1170px",
    "right": "20px",
    "top": "120px",
    "width": "250px"
   },
   "types_to_exclude": [
    "module",
    "function",
    "builtin_function_or_method",
    "instance",
    "_Feature"
   ],
   "varInspector_section_display": "block",
   "window_display": false
  }
 },
 "nbformat": 4,
 "nbformat_minor": 2
}
